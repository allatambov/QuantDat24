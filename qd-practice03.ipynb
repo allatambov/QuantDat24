{
 "cells": [
  {
   "cell_type": "markdown",
   "metadata": {},
   "source": [
    "# Основы работы с количественными данными\n",
    "\n",
    "*Алла Тамбовцева*\n",
    "\n",
    "## Практикум 3. Обработка данных и визуализация количественных данных\n",
    "\n",
    "\n",
    "## Часть 1: загрузка и описание данных\n",
    "\n",
    "В файле `salaries.csv` сохранены данные по сотрудникам университета в США, а именно следующие их характеристики:\n",
    "\n",
    "* `rank`: должность;\n",
    "* `discipline`: тип преподаваемой дисциплины (`A` – теоретическая, `B` – практическая);\n",
    "* `phd`: число лет с момента получения степени PhD;\n",
    "* `service`: число лет опыта работы;\n",
    "* `sex`: пол;\n",
    "* `salary`: заработная плата за 9 месяцев, в долларах."
   ]
  },
  {
   "cell_type": "markdown",
   "metadata": {},
   "source": [
    "Импортируем библиотеку `pandas` с сокращённым названием `pd`, которая используется для загрузки и обработки данных в табличном виде:"
   ]
  },
  {
   "cell_type": "code",
   "execution_count": null,
   "metadata": {},
   "outputs": [],
   "source": [
    "import pandas as pd"
   ]
  },
  {
   "cell_type": "markdown",
   "metadata": {},
   "source": [
    "Загрузим сам файл с данными в Google Colab или Jupyter Notebook.\n",
    "\n",
    "**Пояснение для Google Colab.** Загрузить файл с данными в облачное хранилище можно через кнопку *Files* (значок папки слева от рабочей области с ячейками), при нажатии на которую появляется возможность выбрать файл с компьютера (значок стрелки). После добавления файла его можно выбрать, кликнуть на три точки справа от названия, скопировать путь через *Copy path* и вставить его в функцию `read_csv()` для чтения CSV-файла. Например:\n",
    "\n",
    "    df = pd.read_csv(\"/content/salaries.csv\")\n",
    "\n",
    "**Пояснение для Jupyter Notebook.** Удобно, если файл с данными при работе лежит в той же папке, что и текущий ipynb-файл, в котором мы запускаем код, так не придется полностью прописывать к нему путь, достаточно одного названия с расширением. Загрузить файл с данными в Jupyter можно через *Upload* на *Home Page* (по аналогии с загрузкой ipynb-файлов). После добавления файла его название с расширением можно вставить в функцию `read_csv()` для чтения CSV-файла. Например:\n",
    "\n",
    "    df = pd.read_csv(\"salaries.csv\")\n",
    "\n",
    "Загрузим данные из файла `salaries` и сохраним их в таблицу – датафрейм с назанием `df`.\n",
    "\n"
   ]
  },
  {
   "cell_type": "code",
   "execution_count": null,
   "metadata": {},
   "outputs": [],
   "source": [
    "df = pd.read_csv(\"salaries.csv\")"
   ]
  },
  {
   "cell_type": "markdown",
   "metadata": {},
   "source": [
    "Посмотрим на датафрейм:"
   ]
  },
  {
   "cell_type": "code",
   "execution_count": null,
   "metadata": {},
   "outputs": [],
   "source": [
    "df"
   ]
  },
  {
   "cell_type": "markdown",
   "metadata": {},
   "source": [
    "Можем отдельно вывести на экран первые или последние 5 строк датафрейма, воспользовавшись методами `.head()` и `.tail()` соответственно:"
   ]
  },
  {
   "cell_type": "code",
   "execution_count": null,
   "metadata": {},
   "outputs": [],
   "source": [
    "# первые\n",
    "df.head()"
   ]
  },
  {
   "cell_type": "code",
   "execution_count": null,
   "metadata": {},
   "outputs": [],
   "source": [
    "# последние\n",
    "df.tail()"
   ]
  },
  {
   "cell_type": "markdown",
   "metadata": {},
   "source": [
    "Внутри `.head()` и `.tail()` можно указать желаемое количество строк таблицы, если базовое значение 5 нас не устраивает:"
   ]
  },
  {
   "cell_type": "code",
   "execution_count": null,
   "metadata": {},
   "outputs": [],
   "source": [
    "df.head(8)"
   ]
  },
  {
   "cell_type": "markdown",
   "metadata": {},
   "source": [
    "Посмотрим на переменные и проверим, что все переменные – корректных типов (например, числа считаны как числа, а не как текст):"
   ]
  },
  {
   "cell_type": "code",
   "execution_count": null,
   "metadata": {},
   "outputs": [],
   "source": [
    "df.info()"
   ]
  },
  {
   "cell_type": "markdown",
   "metadata": {},
   "source": [
    "Метод `.info()` возвращает «техническое» описание данных:\n",
    "\n",
    "* `RangeIndex`: число строк и их индексы;\n",
    "* `Data columns`: число столбцов;\n",
    "* `Column`: название столбца;\n",
    "* `Non-Null Count`: число заполненных – не пустых (`null`) – ячеек в столбце;\n",
    "* `Dtype`: тип столбца; тип `int` — целочисленный (`integer`), тип `float` — вещественный, может включать в себя как дробные, так и целочисленные значения, тип `object` – строковый, то же что и `string`, то есть текст."
   ]
  },
  {
   "cell_type": "markdown",
   "metadata": {},
   "source": [
    "Перейдём к более содержательным вопросам и посмотрим на описательные статистики по всем числовым столбцам:"
   ]
  },
  {
   "cell_type": "code",
   "execution_count": null,
   "metadata": {},
   "outputs": [],
   "source": [
    "df.describe() # давайте проинтерпретируем"
   ]
  },
  {
   "cell_type": "markdown",
   "metadata": {},
   "source": [
    "Метод `.describe()` возвращает набор основных описательных статистик:\n",
    "\n",
    "* `count`: число заполненных – непустых – ячеек в столбце;\n",
    "* `mean`: среднее арифметическое;\n",
    "* `std`: стандартное отклонение;\n",
    "* `min`: минимум;\n",
    "* `max`: максимум;\n",
    "* `25%`: нижний квартиль;\n",
    "* `50%`: медиана;\n",
    "* `75%`: верхний квартиль."
   ]
  },
  {
   "cell_type": "markdown",
   "metadata": {},
   "source": [
    "По умолчанию метод `.describe()` выдаёт описание только числовых столбцов, если мы, напротив, хотим описать только текстовые, в качестве аргумента нужно добавить аргумент `include = \"object\"`, так как текстовый тип в `pandas` называется именно `object`:"
   ]
  },
  {
   "cell_type": "code",
   "execution_count": null,
   "metadata": {},
   "outputs": [],
   "source": [
    "df.describe(include = \"object\") # давайте проинтерпретируем"
   ]
  },
  {
   "cell_type": "markdown",
   "metadata": {},
   "source": [
    "Иногда для понимания особенностей данных строки в таблице необходимо отсортировать по какому-нибудь показателю. Так, например, отсортировав строки по заработной плате, мы узнаем, какими характеристиками обладают сотрудники, получающие самую низкую/высокую заработную плату. Для сортировки используется метод `.sort_values()`:"
   ]
  },
  {
   "cell_type": "code",
   "execution_count": null,
   "metadata": {},
   "outputs": [],
   "source": [
    "# по умолчанию: по возрастанию\n",
    "df.sort_values(\"salary\")"
   ]
  },
  {
   "cell_type": "code",
   "execution_count": null,
   "metadata": {},
   "outputs": [],
   "source": [
    "# ascending = False: по убыванию\n",
    "df.sort_values(\"salary\", ascending = False)"
   ]
  },
  {
   "cell_type": "markdown",
   "metadata": {},
   "source": [
    "По умолчанию метод `.sort_values()` не изменяет сам датафрейм, Если мы хотим сохранить результат сортировки сразу в датафрейме, можно добавить аргумент `inplace = True`:"
   ]
  },
  {
   "cell_type": "code",
   "execution_count": null,
   "metadata": {},
   "outputs": [],
   "source": [
    "# более изящный вариант для df = df.sort_values(\"salary\")\n",
    "df.sort_values(\"salary\", inplace = True)"
   ]
  },
  {
   "cell_type": "markdown",
   "metadata": {},
   "source": [
    "При необходимости можно выставить сразу несколько оснований для группировки. Так, если мы отсортируем сотрудников только по опыту работы, мы заметим, что людей с нулевым опытом работы несколько:"
   ]
  },
  {
   "cell_type": "code",
   "execution_count": null,
   "metadata": {},
   "outputs": [],
   "source": [
    "df.sort_values(\"service\")"
   ]
  },
  {
   "cell_type": "markdown",
   "metadata": {},
   "source": [
    "Что мы можем сделать в таком случае? Добавить сортировку по второму основанию: если строк с некоторым значением `service` несколько, среди них производим дополнительную сортировку по `phd`, то есть по числу лет с момента получения степени:"
   ]
  },
  {
   "cell_type": "code",
   "execution_count": null,
   "metadata": {},
   "outputs": [],
   "source": [
    "df.sort_values([\"service\", \"phd\"])"
   ]
  },
  {
   "cell_type": "markdown",
   "metadata": {},
   "source": [
    "## Часть 2: визуализация данных\n",
    "\n",
    "Если нам не нужно выполнять какие-то более тонкие настройки графиков, для визуализации достаточно методов на датафреймах `pandas`, без загрузки дополнительной библиотеки `matplotlib`, которая обычно используется для построения графиков. \n",
    "\n",
    "Для выбора столбца, который мы собираемся описывать и визуализировать, достаточно указать его название в кавычках в квадратных скобках после названия датафрейма. Проверим это на столбце с заработной платой и методе `.describe()`."
   ]
  },
  {
   "cell_type": "code",
   "execution_count": null,
   "metadata": {},
   "outputs": [],
   "source": [
    "df[\"salary\"].describe()"
   ]
  },
  {
   "cell_type": "markdown",
   "metadata": {},
   "source": [
    "Для других методов это работет точно так же (названия интуитивные и соответствуют аналогичным функциям в `numpy`):"
   ]
  },
  {
   "cell_type": "code",
   "execution_count": null,
   "metadata": {},
   "outputs": [],
   "source": [
    "print(df[\"salary\"].mean())\n",
    "print(df[\"salary\"].std())\n",
    "\n",
    "print(df[\"salary\"].median())\n",
    "print(df[\"salary\"].quantile(0.25))\n",
    "print(df[\"salary\"].quantile(0.75))"
   ]
  },
  {
   "cell_type": "markdown",
   "metadata": {},
   "source": [
    "Давайте остановимся на этом столбце и построим для него различные графики!"
   ]
  },
  {
   "cell_type": "markdown",
   "metadata": {},
   "source": [
    "### Задание 1\n",
    "\n",
    "Постройте для столбца `salary` гистограмму и прокомментируйте распределение заработной платы.\n",
    "\n",
    "*Подсказка:* метод `.plot()` с аргументом `kind = \"hist\"`, за цвет заливки отвечает аргумент `color`, за цвет границ столбцов – аргумент `edgecolor`."
   ]
  },
  {
   "cell_type": "code",
   "execution_count": null,
   "metadata": {},
   "outputs": [],
   "source": [
    "### YOUR CODE HERE ###"
   ]
  },
  {
   "cell_type": "markdown",
   "metadata": {},
   "source": [
    "### Задание 2\n",
    "\n",
    "Постройте для столбца `salary` сглаженный график плотности распределения и прокомментируйте полученный график.\n",
    "\n",
    "*Подсказка:* тот же метод `.plot()` с аргументом `kind = \"kde\"`."
   ]
  },
  {
   "cell_type": "code",
   "execution_count": null,
   "metadata": {},
   "outputs": [],
   "source": [
    "### YOUR CODE HERE ###"
   ]
  },
  {
   "cell_type": "markdown",
   "metadata": {},
   "source": [
    "### Задание 3\n",
    "\n",
    "Постройте для столбца `salary` ящик с усами и прокомментируйте полученный график.\n",
    "\n",
    "*Подсказка:* тот же метод `.plot()` с аргументом `kind = \"box\"`."
   ]
  },
  {
   "cell_type": "code",
   "execution_count": null,
   "metadata": {},
   "outputs": [],
   "source": [
    "### YOUR CODE HERE ###"
   ]
  },
  {
   "cell_type": "markdown",
   "metadata": {},
   "source": [
    "### Задание 4\n",
    "\n",
    "Постройте графики из заданий 1-3 для опыта работы (стажа в годах), сохранённого в столбце `service`. Прокомментируйте полученные распределения."
   ]
  },
  {
   "cell_type": "code",
   "execution_count": null,
   "metadata": {},
   "outputs": [],
   "source": [
    "### YOUR CODE HERE ###"
   ]
  },
  {
   "cell_type": "markdown",
   "metadata": {},
   "source": [
    "## Часть 3: группировка и описание данных\n",
    "\n",
    "Для того, чтобы описывать данные и строить графики по группам, необязательно отфильтровывать строки, соответствующие каждой группе, в отдельный датафрейм и работать с каждой группой отдельно. Для базового описания достаточно воспользоваться методом `.groupby()`. Внутри этого метода можно вписать название столбца, на основе которого мы выполняем группировку, а затем из результата группировки через квадратные скобки выбрать столбец или столбцы, которые мы хотим описать или как-то обработать. \n",
    "\n",
    "Сгруппируем строки в `df` по полу и выведем описательные статистики для заработной платы `salary` в каждой группе:"
   ]
  },
  {
   "cell_type": "code",
   "execution_count": null,
   "metadata": {},
   "outputs": [],
   "source": [
    "df.groupby(\"sex\")[\"salary\"].describe() # проинтерпретируем"
   ]
  },
  {
   "cell_type": "markdown",
   "metadata": {},
   "source": [
    "Как и в случае с сортировкой, оснований для группировки может быть несколько. Сгруппируем строки по типу преподаваемой дисциплины и полу:"
   ]
  },
  {
   "cell_type": "code",
   "execution_count": null,
   "metadata": {},
   "outputs": [],
   "source": [
    "df.groupby([\"discipline\", \"sex\"])[\"salary\"].describe() # проинтерпретируем"
   ]
  },
  {
   "cell_type": "markdown",
   "metadata": {},
   "source": [
    "Вместо `.describe()` можно вписать любой метод, который работает на отдельных столбцах и подходит для типа выбранных данных:"
   ]
  },
  {
   "cell_type": "code",
   "execution_count": null,
   "metadata": {},
   "outputs": [],
   "source": [
    "df.groupby([\"discipline\", \"sex\"])[\"salary\"].mean()"
   ]
  },
  {
   "cell_type": "markdown",
   "metadata": {},
   "source": [
    "Раз можно описывать данные сразу по группам, сразу по группам можно строить и графики!"
   ]
  },
  {
   "cell_type": "markdown",
   "metadata": {},
   "source": [
    "### Задание 1\n",
    "\n",
    "Постройте гистограммы для заработной платы с группировкой по полу – одна гистограмма для сотрудников-женщин, другая – для сотрудников-мужчин. \n",
    "\n",
    "*Подсказка:* метод `.hist()`, применяется ко всему датафрейму, внутри указываем название столбца и основание группировки в аргументе `by`."
   ]
  },
  {
   "cell_type": "code",
   "execution_count": null,
   "metadata": {},
   "outputs": [],
   "source": [
    "### YOUR CODE HERE ###"
   ]
  },
  {
   "cell_type": "markdown",
   "metadata": {},
   "source": [
    "### Задание 2\n",
    "\n",
    "Постройте гистограммы для заработной платы с группировкой по типу дисциплины и полу. Всего должно получиться четыре гистограммы."
   ]
  },
  {
   "cell_type": "code",
   "execution_count": null,
   "metadata": {},
   "outputs": [],
   "source": [
    "### YOUR CODE HERE ###"
   ]
  },
  {
   "cell_type": "markdown",
   "metadata": {},
   "source": [
    "### Задание 3\n",
    "\n",
    "Постройте ящики с усами для опыта работы с группировкой по должности.\n",
    "\n",
    "Подсказка: метод `.boxplot()`, применяется ко всему датафрейму, внутри указываем название столбца и основание группировки в аргументе `by`."
   ]
  },
  {
   "cell_type": "code",
   "execution_count": null,
   "metadata": {},
   "outputs": [],
   "source": [
    "### YOUR CODE HERE ###"
   ]
  }
 ],
 "metadata": {
  "kernelspec": {
   "display_name": "Python 3",
   "language": "python",
   "name": "python3"
  },
  "language_info": {
   "codemirror_mode": {
    "name": "ipython",
    "version": 3
   },
   "file_extension": ".py",
   "mimetype": "text/x-python",
   "name": "python",
   "nbconvert_exporter": "python",
   "pygments_lexer": "ipython3",
   "version": "3.7.4"
  }
 },
 "nbformat": 4,
 "nbformat_minor": 2
}
