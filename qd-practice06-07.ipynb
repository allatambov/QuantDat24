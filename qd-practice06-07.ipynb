{
 "cells": [
  {
   "cell_type": "markdown",
   "metadata": {},
   "source": [
    "# Основы работы с количественными данными\n",
    "\n",
    "*Алла Тамбовцева*\n",
    "\n",
    "## Практикум 6-7. Проверка гипотез о двух средних. Коэффициенты корреляции"
   ]
  },
  {
   "cell_type": "markdown",
   "metadata": {},
   "source": [
    "Импортируем необходимые для работы библиотеки и модули:\n",
    "    \n",
    "* библиотека `pandas` для загрузки и обработки данных;\n",
    "* модуль `stats` из библиотеки `scipy` (от *Scientific Python*) для реализации статистических критериев."
   ]
  },
  {
   "cell_type": "code",
   "execution_count": 1,
   "metadata": {},
   "outputs": [],
   "source": [
    "import pandas as pd\n",
    "from scipy import stats"
   ]
  },
  {
   "cell_type": "markdown",
   "metadata": {},
   "source": [
    "В файле `Diet.csv` сохранены результаты обследования участников эксперимента, которые следовали разным типам диеты. Переменные в файле:\n",
    "\n",
    "* `Gender`: пол участника (0 – женский, 1 – мужской);\n",
    "* `Age`: возраст участника;\n",
    "* `Height`: рост участника (в см);\n",
    "* `Diet`: тип диеты (`A`, `B`, `C`);\n",
    "* `WeightS`: вес участника на начало эксперимента (в кг);\n",
    "* `WeightE`: вес участника в конце эксперимента, после 6 недель диеты (в кг);\n",
    "* `BMI`: индекс массы тела.\n",
    "\n",
    "Загрузим данные и сохраним их в датафрейм `df`."
   ]
  },
  {
   "cell_type": "code",
   "execution_count": 2,
   "metadata": {},
   "outputs": [
    {
     "data": {
      "text/html": [
       "<div>\n",
       "<style scoped>\n",
       "    .dataframe tbody tr th:only-of-type {\n",
       "        vertical-align: middle;\n",
       "    }\n",
       "\n",
       "    .dataframe tbody tr th {\n",
       "        vertical-align: top;\n",
       "    }\n",
       "\n",
       "    .dataframe thead th {\n",
       "        text-align: right;\n",
       "    }\n",
       "</style>\n",
       "<table border=\"1\" class=\"dataframe\">\n",
       "  <thead>\n",
       "    <tr style=\"text-align: right;\">\n",
       "      <th></th>\n",
       "      <th>Gender</th>\n",
       "      <th>Age</th>\n",
       "      <th>Height</th>\n",
       "      <th>Diet</th>\n",
       "      <th>WeightS</th>\n",
       "      <th>WeightE</th>\n",
       "      <th>BMI</th>\n",
       "    </tr>\n",
       "  </thead>\n",
       "  <tbody>\n",
       "    <tr>\n",
       "      <th>0</th>\n",
       "      <td>0</td>\n",
       "      <td>58</td>\n",
       "      <td>141</td>\n",
       "      <td>C</td>\n",
       "      <td>70</td>\n",
       "      <td>63.0</td>\n",
       "      <td>35.209497</td>\n",
       "    </tr>\n",
       "    <tr>\n",
       "      <th>1</th>\n",
       "      <td>1</td>\n",
       "      <td>25</td>\n",
       "      <td>165</td>\n",
       "      <td>A</td>\n",
       "      <td>80</td>\n",
       "      <td>77.6</td>\n",
       "      <td>29.384757</td>\n",
       "    </tr>\n",
       "    <tr>\n",
       "      <th>2</th>\n",
       "      <td>1</td>\n",
       "      <td>36</td>\n",
       "      <td>155</td>\n",
       "      <td>C</td>\n",
       "      <td>71</td>\n",
       "      <td>68.5</td>\n",
       "      <td>29.552549</td>\n",
       "    </tr>\n",
       "    <tr>\n",
       "      <th>3</th>\n",
       "      <td>0</td>\n",
       "      <td>35</td>\n",
       "      <td>169</td>\n",
       "      <td>C</td>\n",
       "      <td>62</td>\n",
       "      <td>56.4</td>\n",
       "      <td>21.707923</td>\n",
       "    </tr>\n",
       "    <tr>\n",
       "      <th>4</th>\n",
       "      <td>1</td>\n",
       "      <td>37</td>\n",
       "      <td>198</td>\n",
       "      <td>B</td>\n",
       "      <td>79</td>\n",
       "      <td>71.1</td>\n",
       "      <td>20.151005</td>\n",
       "    </tr>\n",
       "    <tr>\n",
       "      <th>...</th>\n",
       "      <td>...</td>\n",
       "      <td>...</td>\n",
       "      <td>...</td>\n",
       "      <td>...</td>\n",
       "      <td>...</td>\n",
       "      <td>...</td>\n",
       "      <td>...</td>\n",
       "    </tr>\n",
       "    <tr>\n",
       "      <th>185</th>\n",
       "      <td>1</td>\n",
       "      <td>40</td>\n",
       "      <td>171</td>\n",
       "      <td>B</td>\n",
       "      <td>79</td>\n",
       "      <td>72.9</td>\n",
       "      <td>27.016860</td>\n",
       "    </tr>\n",
       "    <tr>\n",
       "      <th>186</th>\n",
       "      <td>0</td>\n",
       "      <td>37</td>\n",
       "      <td>172</td>\n",
       "      <td>B</td>\n",
       "      <td>58</td>\n",
       "      <td>56.0</td>\n",
       "      <td>19.605192</td>\n",
       "    </tr>\n",
       "    <tr>\n",
       "      <th>187</th>\n",
       "      <td>1</td>\n",
       "      <td>40</td>\n",
       "      <td>190</td>\n",
       "      <td>A</td>\n",
       "      <td>88</td>\n",
       "      <td>84.5</td>\n",
       "      <td>24.376731</td>\n",
       "    </tr>\n",
       "    <tr>\n",
       "      <th>188</th>\n",
       "      <td>0</td>\n",
       "      <td>35</td>\n",
       "      <td>171</td>\n",
       "      <td>C</td>\n",
       "      <td>72</td>\n",
       "      <td>64.4</td>\n",
       "      <td>24.622961</td>\n",
       "    </tr>\n",
       "    <tr>\n",
       "      <th>189</th>\n",
       "      <td>1</td>\n",
       "      <td>44</td>\n",
       "      <td>163</td>\n",
       "      <td>B</td>\n",
       "      <td>79</td>\n",
       "      <td>73.6</td>\n",
       "      <td>29.733900</td>\n",
       "    </tr>\n",
       "  </tbody>\n",
       "</table>\n",
       "<p>190 rows × 7 columns</p>\n",
       "</div>"
      ],
      "text/plain": [
       "     Gender  Age  Height Diet  WeightS  WeightE        BMI\n",
       "0         0   58     141    C       70     63.0  35.209497\n",
       "1         1   25     165    A       80     77.6  29.384757\n",
       "2         1   36     155    C       71     68.5  29.552549\n",
       "3         0   35     169    C       62     56.4  21.707923\n",
       "4         1   37     198    B       79     71.1  20.151005\n",
       "..      ...  ...     ...  ...      ...      ...        ...\n",
       "185       1   40     171    B       79     72.9  27.016860\n",
       "186       0   37     172    B       58     56.0  19.605192\n",
       "187       1   40     190    A       88     84.5  24.376731\n",
       "188       0   35     171    C       72     64.4  24.622961\n",
       "189       1   44     163    B       79     73.6  29.733900\n",
       "\n",
       "[190 rows x 7 columns]"
      ]
     },
     "execution_count": 2,
     "metadata": {},
     "output_type": "execute_result"
    }
   ],
   "source": [
    "df = pd.read_csv(\"Diet.csv\")\n",
    "df"
   ]
  },
  {
   "cell_type": "markdown",
   "metadata": {},
   "source": [
    "### Часть 1: сравнение средних в двух группах\n",
    "\n",
    "Допустим, нам нужно понять, являлись ли диеты вообще эффективными. Другими словами, можно ли считать, что в конце эксперимента участники, в целом, весили меньше, чем в начале эксперимента.\n",
    "\n",
    "Выведем описательные статистики для веса на начало диеты (по типы диет пока не делим):"
   ]
  },
  {
   "cell_type": "code",
   "execution_count": 3,
   "metadata": {},
   "outputs": [
    {
     "data": {
      "text/plain": [
       "count    190.000000\n",
       "mean      73.568421\n",
       "std        8.419117\n",
       "min       58.000000\n",
       "25%       68.000000\n",
       "50%       72.000000\n",
       "75%       79.000000\n",
       "max       88.000000\n",
       "Name: WeightS, dtype: float64"
      ]
     },
     "execution_count": 3,
     "metadata": {},
     "output_type": "execute_result"
    }
   ],
   "source": [
    "df[\"WeightS\"].describe()"
   ]
  },
  {
   "cell_type": "markdown",
   "metadata": {},
   "source": [
    "Выведем описательные статистики для веса на конец диеты (по типы диет пока не делим):"
   ]
  },
  {
   "cell_type": "code",
   "execution_count": 4,
   "metadata": {},
   "outputs": [
    {
     "data": {
      "text/plain": [
       "count    190.000000\n",
       "mean      69.247895\n",
       "std        8.359981\n",
       "min       53.000000\n",
       "25%       63.000000\n",
       "50%       69.300000\n",
       "75%       75.700000\n",
       "max       84.500000\n",
       "Name: WeightE, dtype: float64"
      ]
     },
     "execution_count": 4,
     "metadata": {},
     "output_type": "execute_result"
    }
   ],
   "source": [
    "df[\"WeightE\"].describe()"
   ]
  },
  {
   "cell_type": "markdown",
   "metadata": {},
   "source": [
    "В целом, видно, что вес участников в конце диеты стал меньше. О гарантированном снижении веса каждого участника мы говорить не можем, но минимальный и максимальный вес в конце эксперимента меньше, чем в начале, средний вес также ниже. \n",
    "\n",
    "Сконцентрируемся на среднем весе участников до диеты и после. Чтобы сравнить два средних, нам потребуется критерий Стьюдента для двух выборок (*two sample t-test*). У этого критерия есть различные варианты, нам сейчас принципиально одно – являются ли исследуемые группы независимыми или нет. Группы являются независимыми, если в них содержатся разные объекты. Так, если бы мы сравнивали средний вес мужчин и женщин или среднюю потеря веса людей с избыточным весом и с весом в норме, мы бы работали с независимыми группами (группы с делением по полу не пересекаются, ровно так же человек может относиться к группе с избыточным весом или нет). А здесь группы связанные – мы сравниваем вес до и после диеты одних и тех же людей, наблюдения парные. Поэтому нам потребуется критерий Стьюдента для двух парных выборок.\n",
    "\n",
    "Сформулируем нулевую гипотезу и двустороннюю (направленную) альтернативную гипотезу:\n",
    "\n",
    "$$\n",
    "H_0: \\mu_1 = \\mu_2 \\text{ и } H_1: \\mu_1 \\ne \\mu_2,\n",
    "$$\n",
    "\n",
    "где $\\mu_1$ и $\\mu_2$ – средний вес до диеты и после (средние генеральных совокупностей, то есть всех возможных участников эксперимента, не только тех, по которым есть результаты, по ним мы все и так знаем стопроцентно). \n",
    "\n",
    "Для проверки нулевой гипотезы на реальных данных из датафрейма `df` воспользуемся функцией `ttest_rel()` из модуля `stats` (от *related*, связанные выборки):"
   ]
  },
  {
   "cell_type": "code",
   "execution_count": 5,
   "metadata": {},
   "outputs": [
    {
     "data": {
      "text/plain": [
       "Ttest_relResult(statistic=23.107242131597395, pvalue=5.866133907061054e-57)"
      ]
     },
     "execution_count": 5,
     "metadata": {},
     "output_type": "execute_result"
    }
   ],
   "source": [
    "# выборка 1 – вес до (WeightS)\n",
    "# выборка 2 – вес после (WeightE)\n",
    "\n",
    "stats.ttest_rel(df[\"WeightS\"], df[\"WeightE\"])"
   ]
  },
  {
   "cell_type": "markdown",
   "metadata": {},
   "source": [
    "Наблюдаемое значение t-статистики получилось очень большим (`statistic=23.107`), а p-value, напротив, очень маленьким (примерно 0, это 5.86, умноженное на $10^{-57}$). На уровне значимости равном 5%, то есть 0.05, нулевую гипотезу следует отвергнуть ($\\text{p-value}$ < $\\alpha$), а значит, средние нельзя считать равными. Средний вес людей до и после диеты отличается. Следовательно, имеет смысл разбираться с различиями дальше, например, сравнивать эффективность разных типов диет.\n",
    "\n",
    "Чтобы такие сравнения было удобнее выполнять, логично добавить в датафрейм `df` отдельный столбец с разницей веса до и после диеты. Создать его можно просто вычитанием значений `WeightE` из `WeightS`:"
   ]
  },
  {
   "cell_type": "code",
   "execution_count": 6,
   "metadata": {},
   "outputs": [
    {
     "data": {
      "text/html": [
       "<div>\n",
       "<style scoped>\n",
       "    .dataframe tbody tr th:only-of-type {\n",
       "        vertical-align: middle;\n",
       "    }\n",
       "\n",
       "    .dataframe tbody tr th {\n",
       "        vertical-align: top;\n",
       "    }\n",
       "\n",
       "    .dataframe thead th {\n",
       "        text-align: right;\n",
       "    }\n",
       "</style>\n",
       "<table border=\"1\" class=\"dataframe\">\n",
       "  <thead>\n",
       "    <tr style=\"text-align: right;\">\n",
       "      <th></th>\n",
       "      <th>Gender</th>\n",
       "      <th>Age</th>\n",
       "      <th>Height</th>\n",
       "      <th>Diet</th>\n",
       "      <th>WeightS</th>\n",
       "      <th>WeightE</th>\n",
       "      <th>BMI</th>\n",
       "      <th>Diff</th>\n",
       "    </tr>\n",
       "  </thead>\n",
       "  <tbody>\n",
       "    <tr>\n",
       "      <th>0</th>\n",
       "      <td>0</td>\n",
       "      <td>58</td>\n",
       "      <td>141</td>\n",
       "      <td>C</td>\n",
       "      <td>70</td>\n",
       "      <td>63.0</td>\n",
       "      <td>35.209497</td>\n",
       "      <td>7.0</td>\n",
       "    </tr>\n",
       "    <tr>\n",
       "      <th>1</th>\n",
       "      <td>1</td>\n",
       "      <td>25</td>\n",
       "      <td>165</td>\n",
       "      <td>A</td>\n",
       "      <td>80</td>\n",
       "      <td>77.6</td>\n",
       "      <td>29.384757</td>\n",
       "      <td>2.4</td>\n",
       "    </tr>\n",
       "    <tr>\n",
       "      <th>2</th>\n",
       "      <td>1</td>\n",
       "      <td>36</td>\n",
       "      <td>155</td>\n",
       "      <td>C</td>\n",
       "      <td>71</td>\n",
       "      <td>68.5</td>\n",
       "      <td>29.552549</td>\n",
       "      <td>2.5</td>\n",
       "    </tr>\n",
       "    <tr>\n",
       "      <th>3</th>\n",
       "      <td>0</td>\n",
       "      <td>35</td>\n",
       "      <td>169</td>\n",
       "      <td>C</td>\n",
       "      <td>62</td>\n",
       "      <td>56.4</td>\n",
       "      <td>21.707923</td>\n",
       "      <td>5.6</td>\n",
       "    </tr>\n",
       "    <tr>\n",
       "      <th>4</th>\n",
       "      <td>1</td>\n",
       "      <td>37</td>\n",
       "      <td>198</td>\n",
       "      <td>B</td>\n",
       "      <td>79</td>\n",
       "      <td>71.1</td>\n",
       "      <td>20.151005</td>\n",
       "      <td>7.9</td>\n",
       "    </tr>\n",
       "    <tr>\n",
       "      <th>...</th>\n",
       "      <td>...</td>\n",
       "      <td>...</td>\n",
       "      <td>...</td>\n",
       "      <td>...</td>\n",
       "      <td>...</td>\n",
       "      <td>...</td>\n",
       "      <td>...</td>\n",
       "      <td>...</td>\n",
       "    </tr>\n",
       "    <tr>\n",
       "      <th>185</th>\n",
       "      <td>1</td>\n",
       "      <td>40</td>\n",
       "      <td>171</td>\n",
       "      <td>B</td>\n",
       "      <td>79</td>\n",
       "      <td>72.9</td>\n",
       "      <td>27.016860</td>\n",
       "      <td>6.1</td>\n",
       "    </tr>\n",
       "    <tr>\n",
       "      <th>186</th>\n",
       "      <td>0</td>\n",
       "      <td>37</td>\n",
       "      <td>172</td>\n",
       "      <td>B</td>\n",
       "      <td>58</td>\n",
       "      <td>56.0</td>\n",
       "      <td>19.605192</td>\n",
       "      <td>2.0</td>\n",
       "    </tr>\n",
       "    <tr>\n",
       "      <th>187</th>\n",
       "      <td>1</td>\n",
       "      <td>40</td>\n",
       "      <td>190</td>\n",
       "      <td>A</td>\n",
       "      <td>88</td>\n",
       "      <td>84.5</td>\n",
       "      <td>24.376731</td>\n",
       "      <td>3.5</td>\n",
       "    </tr>\n",
       "    <tr>\n",
       "      <th>188</th>\n",
       "      <td>0</td>\n",
       "      <td>35</td>\n",
       "      <td>171</td>\n",
       "      <td>C</td>\n",
       "      <td>72</td>\n",
       "      <td>64.4</td>\n",
       "      <td>24.622961</td>\n",
       "      <td>7.6</td>\n",
       "    </tr>\n",
       "    <tr>\n",
       "      <th>189</th>\n",
       "      <td>1</td>\n",
       "      <td>44</td>\n",
       "      <td>163</td>\n",
       "      <td>B</td>\n",
       "      <td>79</td>\n",
       "      <td>73.6</td>\n",
       "      <td>29.733900</td>\n",
       "      <td>5.4</td>\n",
       "    </tr>\n",
       "  </tbody>\n",
       "</table>\n",
       "<p>190 rows × 8 columns</p>\n",
       "</div>"
      ],
      "text/plain": [
       "     Gender  Age  Height Diet  WeightS  WeightE        BMI  Diff\n",
       "0         0   58     141    C       70     63.0  35.209497   7.0\n",
       "1         1   25     165    A       80     77.6  29.384757   2.4\n",
       "2         1   36     155    C       71     68.5  29.552549   2.5\n",
       "3         0   35     169    C       62     56.4  21.707923   5.6\n",
       "4         1   37     198    B       79     71.1  20.151005   7.9\n",
       "..      ...  ...     ...  ...      ...      ...        ...   ...\n",
       "185       1   40     171    B       79     72.9  27.016860   6.1\n",
       "186       0   37     172    B       58     56.0  19.605192   2.0\n",
       "187       1   40     190    A       88     84.5  24.376731   3.5\n",
       "188       0   35     171    C       72     64.4  24.622961   7.6\n",
       "189       1   44     163    B       79     73.6  29.733900   5.4\n",
       "\n",
       "[190 rows x 8 columns]"
      ]
     },
     "execution_count": 6,
     "metadata": {},
     "output_type": "execute_result"
    }
   ],
   "source": [
    "# новый столбец Diff (до этого в данных не было)\n",
    "# проверим, что добавился\n",
    "\n",
    "df[\"Diff\"] = df[\"WeightS\"] - df[\"WeightE\"]\n",
    "df"
   ]
  },
  {
   "cell_type": "markdown",
   "metadata": {},
   "source": [
    "Изучим распределение полученного показателя – построим для него гистограмму:"
   ]
  },
  {
   "cell_type": "code",
   "execution_count": 7,
   "metadata": {},
   "outputs": [
    {
     "data": {
      "image/png": "[encoded data removed]",
      "text/plain": [
       "<Figure size 432x288 with 1 Axes>"
      ]
     },
     "metadata": {
      "needs_background": "light"
     },
     "output_type": "display_data"
    }
   ],
   "source": [
    "# выбираем столбец Diff\n",
    "# строим гистограмму через .hist()\n",
    "# с белым цветом границ столбцов\n",
    "\n",
    "df[\"Diff\"].hist(edgecolor = \"white\");"
   ]
  },
  {
   "cell_type": "markdown",
   "metadata": {},
   "source": [
    "Распределение разницы в весе не похоже на симметричное, скошено вправо. При этом любопытно, что есть участники, которые в ходе диеты не только не сбросили вес, а наоборот, набрали (отрицательные значения на горизонтальной оси). Однако таких людей мало. \n",
    "\n",
    "Если хочется, можем проверить гипотезу о равенстве среднего числа сброшенных килограммов нулю (тот пример, что разбирали вручную):\n",
    "\n",
    "$$\n",
    "H_0: \\mu = 0 \\text{ и } H_1: \\mu \\ne 0.\n",
    "$$\n",
    "\n",
    "Так как при такой постановке вопроса выборка у нас уже одна (один набор значений – столбец `Diff` с разницей в весе), нам потребуется одновыборочный критерий Стьюдента (*one sample t-test*). Реализуется он с помощью функции с говорящим названием – `ttest_1samp()`:"
   ]
  },
  {
   "cell_type": "code",
   "execution_count": 8,
   "metadata": {},
   "outputs": [
    {
     "data": {
      "text/plain": [
       "Ttest_1sampResult(statistic=23.107242131597395, pvalue=5.866133907061054e-57)"
      ]
     },
     "execution_count": 8,
     "metadata": {},
     "output_type": "execute_result"
    }
   ],
   "source": [
    "# на первом месте выборка\n",
    "# на втором месте в popmean – значение из нулевой гипотезы\n",
    "\n",
    "stats.ttest_1samp(df[\"Diff\"], popmean = 0)"
   ]
  },
  {
   "cell_type": "markdown",
   "metadata": {},
   "source": [
    "Снова получили очень маленькое p-value, причём ровно такое же, как ранее в парном t-тесте. Это неслучайно: раз выборки связанные, нет никакой разницы, сравним мы два средних друг с другом, или их разность с нулем. В любом случае, гипотеза об отсутствии различий отвергается.\n",
    "\n",
    "Перейдем к сравнению эффективности трех диет. Сгруппируем строки в датафрейме `df` по типу диеты (`Diet`), выберем столбец `Diff` из каждой группы и опишем его с помощью метода `.describe()`:"
   ]
  },
  {
   "cell_type": "code",
   "execution_count": 9,
   "metadata": {},
   "outputs": [
    {
     "data": {
      "text/html": [
       "<div>\n",
       "<style scoped>\n",
       "    .dataframe tbody tr th:only-of-type {\n",
       "        vertical-align: middle;\n",
       "    }\n",
       "\n",
       "    .dataframe tbody tr th {\n",
       "        vertical-align: top;\n",
       "    }\n",
       "\n",
       "    .dataframe thead th {\n",
       "        text-align: right;\n",
       "    }\n",
       "</style>\n",
       "<table border=\"1\" class=\"dataframe\">\n",
       "  <thead>\n",
       "    <tr style=\"text-align: right;\">\n",
       "      <th></th>\n",
       "      <th>count</th>\n",
       "      <th>mean</th>\n",
       "      <th>std</th>\n",
       "      <th>min</th>\n",
       "      <th>25%</th>\n",
       "      <th>50%</th>\n",
       "      <th>75%</th>\n",
       "      <th>max</th>\n",
       "    </tr>\n",
       "    <tr>\n",
       "      <th>Diet</th>\n",
       "      <th></th>\n",
       "      <th></th>\n",
       "      <th></th>\n",
       "      <th></th>\n",
       "      <th></th>\n",
       "      <th></th>\n",
       "      <th></th>\n",
       "      <th></th>\n",
       "    </tr>\n",
       "  </thead>\n",
       "  <tbody>\n",
       "    <tr>\n",
       "      <th>A</th>\n",
       "      <td>66.0</td>\n",
       "      <td>3.593939</td>\n",
       "      <td>2.319475</td>\n",
       "      <td>-0.6</td>\n",
       "      <td>2.0</td>\n",
       "      <td>3.5</td>\n",
       "      <td>4.10</td>\n",
       "      <td>9.0</td>\n",
       "    </tr>\n",
       "    <tr>\n",
       "      <th>B</th>\n",
       "      <td>55.0</td>\n",
       "      <td>3.763636</td>\n",
       "      <td>2.428181</td>\n",
       "      <td>-2.1</td>\n",
       "      <td>2.2</td>\n",
       "      <td>3.6</td>\n",
       "      <td>5.05</td>\n",
       "      <td>7.9</td>\n",
       "    </tr>\n",
       "    <tr>\n",
       "      <th>C</th>\n",
       "      <td>69.0</td>\n",
       "      <td>5.459420</td>\n",
       "      <td>2.560866</td>\n",
       "      <td>0.5</td>\n",
       "      <td>3.5</td>\n",
       "      <td>6.1</td>\n",
       "      <td>7.30</td>\n",
       "      <td>9.2</td>\n",
       "    </tr>\n",
       "  </tbody>\n",
       "</table>\n",
       "</div>"
      ],
      "text/plain": [
       "      count      mean       std  min  25%  50%   75%  max\n",
       "Diet                                                     \n",
       "A      66.0  3.593939  2.319475 -0.6  2.0  3.5  4.10  9.0\n",
       "B      55.0  3.763636  2.428181 -2.1  2.2  3.6  5.05  7.9\n",
       "C      69.0  5.459420  2.560866  0.5  3.5  6.1  7.30  9.2"
      ]
     },
     "execution_count": 9,
     "metadata": {},
     "output_type": "execute_result"
    }
   ],
   "source": [
    "df.groupby(\"Diet\")[\"Diff\"].describe()"
   ]
  },
  {
   "cell_type": "markdown",
   "metadata": {},
   "source": [
    "Судя по всему, самая эффективная диета – это диета C. Участники, придерживающиеся этой диеты, в среднем, сбросили больше всего килограммов, плюс, люди во время этой диеты точно не набирали вес (минимум положителен). \n",
    "\n",
    "Визуализируем распределения разности веса `Diff` по группам – построим ящики с усами для каждого типа диеты:"
   ]
  },
  {
   "cell_type": "code",
   "execution_count": 10,
   "metadata": {},
   "outputs": [
    {
     "data": {
      "image/png": "[encoded data removed]",
      "text/plain": [
       "<Figure size 432x288 with 1 Axes>"
      ]
     },
     "metadata": {
      "needs_background": "light"
     },
     "output_type": "display_data"
    }
   ],
   "source": [
    "# boxplot() применяем ко всему датафрейму df\n",
    "# из него выбираем столбец Diff\n",
    "# и группировку по столбцу Diet\n",
    "\n",
    "df.boxplot(\"Diff\", by = \"Diet\");"
   ]
  },
  {
   "cell_type": "markdown",
   "metadata": {},
   "source": [
    "Действительно, видно, что третья диета отличается от первых двух: минимум, медиана и максимум сильно выше. А вот первые две диеты, скорее всего, по эффективности одинаковы (медианы визуально почти совпадают). \n",
    "\n",
    "Перейдем к более строгим сравнениям. Для этого необходимо отобрать строки, соответствующие каждому типу диеты, и сохранить их в отдельные датафреймы:"
   ]
  },
  {
   "cell_type": "code",
   "execution_count": 11,
   "metadata": {},
   "outputs": [],
   "source": [
    "diet_a = df[df[\"Diet\"] == \"A\"]\n",
    "diet_b = df[df[\"Diet\"] == \"B\"]\n",
    "diet_c = df[df[\"Diet\"] == \"C\"]"
   ]
  },
  {
   "cell_type": "markdown",
   "metadata": {},
   "source": [
    "Допустим, мы хотим сравнить диету A и диету B. Сформулируем гипотезы:\n",
    "    \n",
    "$$\n",
    "H_0: \\mu_a = \\mu_b \\text{ и } H_1: \\mu_a \\ne \\mu_b\n",
    "$$\n",
    "\n",
    "где $\\mu_a$ и $\\mu_b$ – средние значения потери веса в группах A и B соответственно. Здесь уже две группы являются независимыми: даже если бы мы отобрали других участников для эксперимента, люди в группе A и B были бы разные, одни люди придерживаются одной диеты, другие – другой (не одни и те же участники сначала следуют диете A, а затем – диете B, и мы сравниваем результаты). \n",
    "\n",
    "Для проверки гипотезы выше воспользуемся критерием Стьюдента для двух независимых выборок. Применим соответствующую функцию `ttest_ind()` (от *independent*, независимые выборки):"
   ]
  },
  {
   "cell_type": "code",
   "execution_count": 12,
   "metadata": {},
   "outputs": [
    {
     "data": {
      "text/plain": [
       "Ttest_indResult(statistic=-0.3922765832715036, pvalue=0.6955555613570376)"
      ]
     },
     "execution_count": 12,
     "metadata": {},
     "output_type": "execute_result"
    }
   ],
   "source": [
    "stats.ttest_ind(diet_a[\"Diff\"], diet_b[\"Diff\"])"
   ]
  },
  {
   "cell_type": "markdown",
   "metadata": {},
   "source": [
    "Итак, наблюдаемое значение статистики критерия примерно -0.4 (`statistic=-0.39`), недалеко от 0, то есть является довольно типичным при условии, что нулевая гипотеза верна. P-value при этом довольно высокое, почти 0.7, оно превышает любой принятый уровень значимости $\\alpha$ (и 1%, и 5%, и 10%), значит, нулевая гипотеза не отвергается. Среднее количество сброшенных килограммов на двух диетах можно считать равным, диеты, в среднем, обладают одинаковой эффективностью. Это мы отметили еще на этапе разведывательного анализа – когда просто смотрели на ящики с усами.\n",
    "\n",
    "По умолчанию Python всегда проверяет гипотезы против двусторонней альтернативы. Но на практике мы иногда формулируем односторонние, направленные, альтернативы. Какую направленную альтернативу выбрать здесь на основе имеющихся данных? Если посмотрим на выборочные средние в таблице по итогам `.describe()` выше, заметим, что среднее арифметическое для группы B немного больше, значит, можем предположить, что $\\mu_b$ тоже больше $\\mu_a$:\n",
    "\n",
    "$$\n",
    "H_0: \\mu_a = \\mu_b \\text{ и } H_1: \\mu_a < \\mu_b\n",
    "$$\n",
    "\n",
    "Собственно, из-за того, что первое среднее меньше второго, ранее в `Ttest_indResult()` мы получили отрицательное значение статистики (при ее расчете в числителе – разность между средними). При изменении типа альтернативы немного меняется определение p-value. Так как теперь мы разрешаем отклонения от значения в гипотезе (разница 0) только в одну сторону, и распределение статистики симметрично относительно 0, полученное выше значение p-value нужно разделить на 2:"
   ]
  },
  {
   "cell_type": "code",
   "execution_count": 13,
   "metadata": {},
   "outputs": [
    {
     "data": {
      "text/plain": [
       "0.3477777806785188"
      ]
     },
     "execution_count": 13,
     "metadata": {},
     "output_type": "execute_result"
    }
   ],
   "source": [
    "# pvalue в случае односторонней альтернативы\n",
    "\n",
    "0.6955555613570376 / 2"
   ]
  },
  {
   "cell_type": "markdown",
   "metadata": {},
   "source": [
    "В данном случае p-value все равно выше конвенционально использумых уровней значимости, поэтому гипотеза по-прежнему не отвергается. Однако иногда может быть и наоборот! Поэтому при проверке гипотезы нужно всегда четко формулировать альтернативную гипотезу и понимать, почему нам необходим определенный вид альтернативы (тип альтернативы влияет на p-value и на дальнейший вывод).\n",
    "\n",
    "К слову, модуль `stats` в новых версиях позволяет изменять тип альтернативы прямо внутри запускаемых функций. Так, в `ttest_ind()` есть аргумент `alternative`, по умолчанию его значение `\"two-sided\"`, двусторонняя альтернатива. Если нам нужна левосторонняя альтернатива, в `alternative` нужно поставить `\"less\"` (так как альтернатива со знаком `<`), если правосторонняя – `\"greater\"` (так как альтернатива со знаком `>`). Проверим:"
   ]
  },
  {
   "cell_type": "code",
   "execution_count": 14,
   "metadata": {},
   "outputs": [
    {
     "data": {
      "text/plain": [
       "Ttest_indResult(statistic=-0.3922765832715036, pvalue=0.3477777806785188)"
      ]
     },
     "execution_count": 14,
     "metadata": {},
     "output_type": "execute_result"
    }
   ],
   "source": [
    "stats.ttest_ind(diet_a[\"Diff\"], diet_b[\"Diff\"], alternative = \"less\")"
   ]
  },
  {
   "cell_type": "markdown",
   "metadata": {},
   "source": [
    "Так и есть, значение `statistic` то же, а p-value сократилось в два раза."
   ]
  },
  {
   "cell_type": "markdown",
   "metadata": {},
   "source": [
    "### Часть 2: коэффициенты корреляции"
   ]
  },
  {
   "cell_type": "markdown",
   "metadata": {},
   "source": [
    "Перейдем к оценке связей числовых показателей в `df`. Для начала построим диаграмму рассеивания между индексом массы тела (`BMI`) и потерей веса в ходе диеты (`Diff`):"
   ]
  },
  {
   "cell_type": "code",
   "execution_count": 15,
   "metadata": {},
   "outputs": [
    {
     "data": {
      "image/png": "[encoded data removed]",
      "text/plain": [
       "<Figure size 432x288 with 1 Axes>"
      ]
     },
     "metadata": {
      "needs_background": "light"
     },
     "output_type": "display_data"
    }
   ],
   "source": [
    "# функция plot.scatter,\n",
    "# применяем к датафрейму df,\n",
    "# из него берем столбцы BMI и Diff\n",
    "\n",
    "df.plot.scatter(x = \"BMI\", y = \"Diff\");"
   ]
  },
  {
   "cell_type": "markdown",
   "metadata": {},
   "source": [
    "Какой показатель указывать по оси `x`, а какой – по оси `y`, в общем случае, неважно, однако, если мы предполагаем, что связь все-таки направленная (один показатель может оказывать некоторый эффект на второй, то тогда первый указывается по горизонтальной оси, а второй – по вертикальной). \n",
    "\n",
    "Что можно сказать про направление и силу связи по полученной диаграмме? Тут все не совсем очевидно, «облако» точек очень широкое, связь точно будет слабой. Однако, если присмотреться, можно отметить, что наклон «облака» все-таки положительный, чем выше значения `BMI`, тем выше значения `Diff`. Значит, связь между индексом массы тела и сброшенным весом прямая, но слабая. Люди с высоким индексом массы тела (с весом выше нормы) сбрасывают больше веса. Вопрос: а насколько все-таки это связь слабая, будет ли она выявляться, если мы перейдем к другим аналогичным выборкам людей? \n",
    "\n",
    "Для ответа на этот вопрос вычислим коэффициент корреляции Пирсона и сразу проверим гипотезу о его незначимости.\n",
    "\n",
    "$$\n",
    "H_0: R = 0 \\text{ (связи нет) и } H_1: R \\ne 0 \\text{ (связь есть)}\n",
    "$$\n",
    "\n",
    "Воспользуемся функцией с говорящим названием `pearsonr()`:"
   ]
  },
  {
   "cell_type": "code",
   "execution_count": 16,
   "metadata": {},
   "outputs": [
    {
     "data": {
      "text/plain": [
       "(0.15168422807534704, 0.03669608784811047)"
      ]
     },
     "execution_count": 16,
     "metadata": {},
     "output_type": "execute_result"
    }
   ],
   "source": [
    "stats.pearsonr(df[\"BMI\"], df[\"Diff\"])"
   ]
  },
  {
   "cell_type": "markdown",
   "metadata": {},
   "source": [
    "Итак, коэффициент Пирсона между показателями (на конкретных данных в `df`) равен 0.15. Действительно, связь прямая (коэффициент положителен) и слабая (коэффициент менее 0.3 по модулю). Второе значение в выдаче – это p-value. На уровне значимости 5% есть основания отвергнуть нулевую гипотезу об отсутствии связи (p-value меньше $\\alpha$), связь между показателя все-таки есть, просто довольно слабая.\n",
    "\n",
    "**NB.** Если значение в выдаче выше у вас подписаны (более новая версия `stats`), в любом случае на первом месте сам коэффициент Пирсона, не значение соответствующей ему статистики, а на втором – p-value."
   ]
  },
  {
   "cell_type": "markdown",
   "metadata": {},
   "source": [
    "Как пример случая с сильной связью рассмотрим показатели `Height` и `BMI`. Содержательно это не так интересно, индекс массы тела [считается](https://ru.wikipedia.org/wiki/%D0%98%D0%BD%D0%B4%D0%B5%D0%BA%D1%81_%D0%BC%D0%B0%D1%81%D1%81%D1%8B_%D1%82%D0%B5%D0%BB%D0%B0) в том числе на основе роста, но тем не менее. \n",
    "\n",
    "Посмотрим на диаграмму рассеивания:"
   ]
  },
  {
   "cell_type": "code",
   "execution_count": 17,
   "metadata": {},
   "outputs": [
    {
     "data": {
      "image/png": "[encoded data removed]",
      "text/plain": [
       "<Figure size 432x288 with 1 Axes>"
      ]
     },
     "metadata": {
      "needs_background": "light"
     },
     "output_type": "display_data"
    }
   ],
   "source": [
    "df.plot.scatter(x = \"Height\", y = \"BMI\");"
   ]
  },
  {
   "cell_type": "markdown",
   "metadata": {},
   "source": [
    "Тут уже явный отрицательный наклон «облака» точек, похоже, что связь обратная и сильная. Это логично: рост в метрах стоит в знаменателе при расчете индекса массы тела, поэтому чем выше рост, тем ниже индекс массы тела. \n",
    "Вычислим коэффициент Пирсона и проверим гипотезу об отсутствии связи:"
   ]
  },
  {
   "cell_type": "code",
   "execution_count": 18,
   "metadata": {},
   "outputs": [
    {
     "data": {
      "text/plain": [
       "(-0.7612060200055474, 3.322691618723704e-37)"
      ]
     },
     "execution_count": 18,
     "metadata": {},
     "output_type": "execute_result"
    }
   ],
   "source": [
    "stats.pearsonr(df[\"Height\"], df[\"BMI\"])"
   ]
  },
  {
   "cell_type": "markdown",
   "metadata": {},
   "source": [
    "Коэффициент Пирсона равен –0.76, p-value равно 0. Значит, связь обратная, близкая к сильной, статистически значимая (коэффициент значимо отличается от нуля).\n",
    "\n",
    "В данном случае все рассмотренные ранее показатели (`Height`, `BMI`, `Diff`) измерены в количественной шкале, явных выбросов на диаграммах рассеивания не наблюдается, нелинейности тоже, поэтому необходимости в коэффициенте Спирмена нет. Тем не менее, для последнего случая интересно сравнить коэффициенты Пирсона и Спирмена, так как на диаграмме рассеивания все же есть точка, немного отстоящая от остального «облака» точек, это человек с довольно высоким значеним `BMI` примерно 35.\n",
    "\n",
    "Воспользуемся функцией `spearmanr()`:"
   ]
  },
  {
   "cell_type": "code",
   "execution_count": 19,
   "metadata": {},
   "outputs": [
    {
     "data": {
      "text/plain": [
       "SpearmanrResult(correlation=-0.7234198429886872, pvalue=4.516203631027468e-32)"
      ]
     },
     "execution_count": 19,
     "metadata": {},
     "output_type": "execute_result"
    }
   ],
   "source": [
    "stats.spearmanr(df[\"BMI\"], df[\"Height\"])"
   ]
  },
  {
   "cell_type": "markdown",
   "metadata": {},
   "source": [
    "Гипотеза об отсутствии связи все так же отвергается, а вот коэффициент получился по модулю чуть ниже, чем коэффициент Пирсона. Это ожидаемо: коэффициент Спирмена устойчив к выбросам из-за работы не с самими наблюдениями, а с их рангами, а значит, он слабее «реагирует» на точки вне основного «облака» точек, точка с высоким `BMI` уже не вносит значимого вклада при вычислении коэффициента корреляции."
   ]
  }
 ],
 "metadata": {
  "kernelspec": {
   "display_name": "Python 3",
   "language": "python",
   "name": "python3"
  },
  "language_info": {
   "codemirror_mode": {
    "name": "ipython",
    "version": 3
   },
   "file_extension": ".py",
   "mimetype": "text/x-python",
   "name": "python",
   "nbconvert_exporter": "python",
   "pygments_lexer": "ipython3",
   "version": "3.7.4"
  }
 },
 "nbformat": 4,
 "nbformat_minor": 5
}
