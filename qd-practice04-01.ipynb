{
 "cells": [
  {
   "cell_type": "markdown",
   "metadata": {},
   "source": [
    "# Основы работы с количественными данными\n",
    "\n",
    "*Алла Тамбовцева*\n",
    "\n",
    "## Практикум 4.1. Обработка и визуализация количественных данных\n",
    "\n",
    "[Charity Navigator](https://www.charitynavigator.org/about-us/our-methodology/ratings/#accordion-0f1da9ef58-item-57920c7dce) – благотворительная организация, которая занимается независимой оценкой некоммерческих организаций в США. На основе налоговых деклараций и информации с сайтов самих некоммерческих организаций организация формирует числовые индексы качества работы организаций, а затем – рейтинги на основе этих индексов. Два основных направления оценки:\n",
    "\n",
    "* финансовое благополучие;\n",
    "* подотчётность и прозрачность.\n",
    "\n",
    "Итак, есть индекс финансового благополучия *Financial Score* и индекс подотчётности и прозрачности *Accountability & Transparency Score*, оба индекса измерены в шкале от 0 до 100, где большие значения соответствуют лучшему качеству работы организации. Также сформирован общий индекс *Score*, в состав которого входят *Financial Score* и *Accountability & Transparency Score*.\n",
    "\n",
    "Итак, в файле `charity_data.csv` хранится информация по некоммерческим организациям США. Некоторые показатели в файле:\n",
    "\n",
    "* `name`: название организации;\n",
    "* `category`: профиль организации;\n",
    "* `description`: описание организации;\n",
    "* `motto`: девиз организации;\n",
    "* `size`: размер организации;\n",
    "* `state`: штат, в котором находится организация;\n",
    "* `ascore`: индекс подотчётности и прозрачности;\n",
    "* `fscore`: индекс финансового благополучия;\n",
    "* `score`: общий индекс качества работы организации."
   ]
  },
  {
   "cell_type": "markdown",
   "metadata": {},
   "source": [
    "## Часть 1: загружаем и фильтруем данные"
   ]
  },
  {
   "cell_type": "code",
   "execution_count": null,
   "metadata": {},
   "outputs": [],
   "source": [
    "import pandas as pd"
   ]
  },
  {
   "cell_type": "markdown",
   "metadata": {},
   "source": [
    "### Задача 1\n",
    "\n",
    "Загрузите данные из файла `charity_data.csv` и сохраните их в датафрейм `data`."
   ]
  },
  {
   "cell_type": "code",
   "execution_count": null,
   "metadata": {},
   "outputs": [],
   "source": [
    "### YOUR CODE HERE ###"
   ]
  },
  {
   "cell_type": "markdown",
   "metadata": {},
   "source": [
    "### Задача 2\n",
    "\n",
    "Выведите «техническую» информацию по датафрейму `data`, включающую перечень столбцов, их типы и пропущенные значения."
   ]
  },
  {
   "cell_type": "code",
   "execution_count": null,
   "metadata": {},
   "outputs": [],
   "source": [
    "### YOUR CODE HERE ###"
   ]
  },
  {
   "cell_type": "markdown",
   "metadata": {},
   "source": [
    "### Задача 3\n",
    "\n",
    "Выберите из датафрейма `data` столбцы `name`, `state`, `category`, `size`, `ascore`, `fscore`, `score` и сохраните их в новый датафрейм `char`.\n",
    "\n",
    "*Подсказка:* пример выбора столбцов `A`, `B`, `C` из датафрейма `df`:\n",
    "\n",
    "    df[[\"A\", \"B\", \"C\"]]"
   ]
  },
  {
   "cell_type": "code",
   "execution_count": null,
   "metadata": {},
   "outputs": [],
   "source": [
    "### YOUR CODE HERE ###"
   ]
  },
  {
   "cell_type": "markdown",
   "metadata": {},
   "source": [
    "### Задача 4\n",
    "\n",
    "Выведите на экран описательные статистики для всех числовых столбцов датафрейма `char`. Прокомментируйте полученные результаты для столбца `fscore`. "
   ]
  },
  {
   "cell_type": "code",
   "execution_count": null,
   "metadata": {},
   "outputs": [],
   "source": [
    "### YOUR CODE HERE ###"
   ]
  },
  {
   "cell_type": "markdown",
   "metadata": {},
   "source": [
    "### Задача 5\n",
    "\n",
    "Выведите на экран описательные статистики для столбца `ascore` с делением на группы по размеру организаций (столбец `size`). Прокомментируйте полученные результаты."
   ]
  },
  {
   "cell_type": "code",
   "execution_count": null,
   "metadata": {},
   "outputs": [],
   "source": [
    "### YOUR CODE HERE ###"
   ]
  },
  {
   "cell_type": "markdown",
   "metadata": {},
   "source": [
    "### Задача 6\n",
    "\n",
    "Выведите уникальные значения и соответствующие им частоты для столбца `category`.\n",
    "\n",
    "*Подсказка:* выберите столбец и примените к нему метод `.value_counts()`."
   ]
  },
  {
   "cell_type": "code",
   "execution_count": null,
   "metadata": {},
   "outputs": [],
   "source": [
    "### YOUR CODE HERE ###"
   ]
  },
  {
   "cell_type": "markdown",
   "metadata": {},
   "source": [
    "### Задача 7\n",
    "\n",
    "Выберите из датафрейма `char`:\n",
    "\n",
    "* строки, соответствующие организациям с профилем деятельности «здравоохранение» (`Health` в `category`);\n",
    "* строки, соответствующие организациям со значением индекса подотчётности и прозрачности выше 90;\n",
    "* строки, соответствующие организациям с профилем деятельности «здравоохранение» со значением индекса подотчётности и прозрачности не ниже 80."
   ]
  },
  {
   "cell_type": "code",
   "execution_count": null,
   "metadata": {},
   "outputs": [],
   "source": [
    "### YOUR CODE HERE ###"
   ]
  },
  {
   "cell_type": "markdown",
   "metadata": {},
   "source": [
    "### Задача 8\n",
    "\n",
    "Выберите из датафрейма `char` строки, соответствующие профилям деятельности `Arts, Culture, Humanities` или `Education`. Сохраните их в датафрейм `chosen`. Во второй части практикума мы будем работать именно с датафреймом `chosen`."
   ]
  },
  {
   "cell_type": "code",
   "execution_count": null,
   "metadata": {},
   "outputs": [],
   "source": [
    "### YOUR CODE HERE ###"
   ]
  },
  {
   "cell_type": "markdown",
   "metadata": {},
   "source": [
    "## Часть 2: визуализируем данные"
   ]
  },
  {
   "cell_type": "markdown",
   "metadata": {},
   "source": [
    "Для более продвинутой визуализации средств библиотеки `pandas` нам будет недостаточно, поэтому импортируем модуль `pyplot` из библиотеки `matplotlib` для построения графиков. Он обычно импортируется с сокращённым названием `plt`:"
   ]
  },
  {
   "cell_type": "code",
   "execution_count": null,
   "metadata": {},
   "outputs": [],
   "source": [
    "from matplotlib import pyplot as plt"
   ]
  },
  {
   "cell_type": "markdown",
   "metadata": {},
   "source": [
    "В этом модуле есть функция `subplots()`, которая создает один или несколько подграфиков внутри одного изображения. Так, мы можем создать заготовку для одного графика:"
   ]
  },
  {
   "cell_type": "code",
   "execution_count": null,
   "metadata": {},
   "outputs": [],
   "source": [
    "plt.subplots()"
   ]
  },
  {
   "cell_type": "markdown",
   "metadata": {},
   "source": [
    "А можем создать сетку из графиков из одной строки и трёх столбцов, то есть поставить три графика в один ряд:"
   ]
  },
  {
   "cell_type": "code",
   "execution_count": null,
   "metadata": {},
   "outputs": [],
   "source": [
    "plt.subplots(nrows = 1, ncols = 3)"
   ]
  },
  {
   "cell_type": "markdown",
   "metadata": {},
   "source": [
    "Пока это набор из пустых координатных плоскостей (массив из осей `AxesSubplot`) внутри одной картинки (изображение `Figure` фиксированного размера). При дальнейшей работе мы будем вносить изменения в каждую координатную плоскость `AxesSubplot`, а затем обновлённый результат в `Figure` выгружать в файл, например, с расширением `.jpeg` или `.png`.\n",
    "\n",
    "Для этого сохраним результаты, возвращённые функцией, в переменные. Проделаем это на примере одного графика. Так как первый результат – это изображение, его часто называют `fig` (от *figure*). Второй результат – это набор осей, его обычно сокращают до `ax` (*axes*)."
   ]
  },
  {
   "cell_type": "code",
   "execution_count": null,
   "metadata": {},
   "outputs": [],
   "source": [
    "fig, ax = plt.subplots();"
   ]
  },
  {
   "cell_type": "markdown",
   "metadata": {},
   "source": [
    "### Задача 1\n",
    "\n",
    "Постройте гистограмму для индекса подотчётности и прозрачности, измените цвет заливки и цвет границ столбцов. \n",
    "\n",
    "*Подсказка:* для построения примените метод `.hist()` к осям `ax`, в качестве аргумента внутри метода укажите соответствующий столбец таблицы."
   ]
  },
  {
   "cell_type": "code",
   "execution_count": null,
   "metadata": {},
   "outputs": [],
   "source": [
    "fig, ax = plt.subplots();\n",
    "\n",
    "### YOUR CODE HERE ###"
   ]
  },
  {
   "cell_type": "markdown",
   "metadata": {},
   "source": [
    "### Задача 2\n",
    "\n",
    "Добавьте к гистограмме, созданной выше:\n",
    "\n",
    "* подписи по горизонтальной и вертикальной осям (методы `.set_xlabel()` и `.set_ylabel()`);\n",
    "* координатную сетку (метод `.grid()`).\n",
    "\n",
    "Чтобы убрать координатную сетку под график (иначе она перекрывает гистограмму, что не очень красиво), можно применить метод `.set_axisbelow()` и указать внутри `True`."
   ]
  },
  {
   "cell_type": "code",
   "execution_count": null,
   "metadata": {},
   "outputs": [],
   "source": [
    "### YOUR CODE HERE ###"
   ]
  },
  {
   "cell_type": "markdown",
   "metadata": {},
   "source": [
    "### Задача 3\n",
    "\n",
    "Измените число столбцов в построенной гистограмме, указав желаемое число столбцов в аргументе `bins` внутри метода `.hist()`. Число столбцов выберите самостоятельно."
   ]
  },
  {
   "cell_type": "code",
   "execution_count": null,
   "metadata": {},
   "outputs": [],
   "source": [
    "### YOUR CODE HERE ###"
   ]
  },
  {
   "cell_type": "markdown",
   "metadata": {},
   "source": [
    "### Задача 4\n",
    "\n",
    "Измените шаг построенной гистограммы – сделайте его равным стандартному отклонению показателя. Для этого сохраните в переменные `min_`, `max_` и `std_` минимум, максимум и стандартное отклонение, посчитанные по выборке в столбце `ascore`, и подставьте `new_bins` в аргумент `bins`."
   ]
  },
  {
   "cell_type": "code",
   "execution_count": null,
   "metadata": {},
   "outputs": [],
   "source": [
    "import numpy as np\n",
    "\n",
    "### YOUR CODE HERE ###\n",
    "\n",
    "new_bins = np.arange(min_, max_ + 1, std_)\n",
    "\n",
    "### YOUR CODE HERE ###"
   ]
  },
  {
   "cell_type": "markdown",
   "metadata": {},
   "source": [
    "### Задача 5\n",
    " \n",
    "Экспортируйте полученный график с гистограммой в файл `ascore_hist.png`. Для экспорта примените метод `.savefig()` к изображению `fig` и укажите в качестве аргумента внутри название файла."
   ]
  },
  {
   "cell_type": "code",
   "execution_count": null,
   "metadata": {},
   "outputs": [],
   "source": [
    "### YOUR CODE HERE ###"
   ]
  },
  {
   "cell_type": "markdown",
   "metadata": {},
   "source": [
    "### Задача 6\n",
    "\n",
    "Постройте два графика в рамках одного изображения (два графика в одной строке):\n",
    "\n",
    "* гистограмму для `ascore`;\n",
    "* ящик с усами для `ascore`."
   ]
  },
  {
   "cell_type": "code",
   "execution_count": null,
   "metadata": {},
   "outputs": [],
   "source": [
    "fig, axes = plt.subplots(nrows = 1, ncols = 2);\n",
    "\n",
    "### YOUR CODE HERE ###"
   ]
  },
  {
   "cell_type": "markdown",
   "metadata": {},
   "source": [
    "### Задача 7\n",
    "\n",
    "По аналогии с предыдущей задачей постройте в рамках одного изображения гистограммы (каждая гистограмма в своём окне) для следующих показателей: \n",
    "\n",
    "* индекс финансового благополучия (`fscore`);\n",
    "* индекс подотчётности и прозрачности (`ascore`);\n",
    "* общий индекс качества работы (`score`)."
   ]
  },
  {
   "cell_type": "code",
   "execution_count": null,
   "metadata": {},
   "outputs": [],
   "source": [
    "### YOUR CODE HERE ###"
   ]
  },
  {
   "cell_type": "markdown",
   "metadata": {},
   "source": [
    "## Часть 3: знакомство с библиотекой `seaborn`"
   ]
  },
  {
   "cell_type": "markdown",
   "metadata": {},
   "source": [
    "В этой части практикума мы познакомимся ещё с одной графической библиотекой, которая была разработана специально для визуализации данных и построения графиков, используемых в статистике и прикладном анализе данных. Это библиотека `seaborn`, она представляет собой надстройку над библиотекой `matplotlib`, которую мы в этом практикуме активно использовали.\n",
    "\n",
    "Установим эту библиотеку:"
   ]
  },
  {
   "cell_type": "code",
   "execution_count": null,
   "metadata": {},
   "outputs": [],
   "source": [
    "!pip install seaborn"
   ]
  },
  {
   "cell_type": "markdown",
   "metadata": {},
   "source": [
    "Импортируем её с сокращённым названием `sns`:"
   ]
  },
  {
   "cell_type": "code",
   "execution_count": null,
   "metadata": {},
   "outputs": [],
   "source": [
    "import seaborn as sns"
   ]
  },
  {
   "cell_type": "markdown",
   "metadata": {},
   "source": [
    "Установим тему всех последующих графиков (про темы см. [здесь](https://python-charts.com/seaborn/themes/)):"
   ]
  },
  {
   "cell_type": "code",
   "execution_count": null,
   "metadata": {},
   "outputs": [],
   "source": [
    "sns.set_theme(style = \"whitegrid\")"
   ]
  },
  {
   "cell_type": "markdown",
   "metadata": {},
   "source": [
    "### Задача 1\n",
    "\n",
    "Постройте гистограмму для индекса подотчётности и прозрачности, используя функцию `displot()` из библиотеки `seaborn`. При необходимости скорректируйте число или ширину столбцов.\n",
    "\n",
    "*Подсказка:* внутри функции `displot()` в аргументе `data` указывается название датафрейма, а в аргументе `x` – название столбца; аргумент `bins` отвечает за число столбцов, а аргумент `binwidth` – за ширину столбцов."
   ]
  },
  {
   "cell_type": "code",
   "execution_count": null,
   "metadata": {},
   "outputs": [],
   "source": [
    "### YOUR CODE HERE ###"
   ]
  },
  {
   "cell_type": "markdown",
   "metadata": {},
   "source": [
    "### Задача 2\n",
    "\n",
    "Постройте графики плотности индекса финансового благополучия с делением на группы по размеру организации.\n",
    "\n",
    "*Подсказка:* в функцию `displot()` нужно добавить аргумент `kind=\"kde\"` (оценка плотности вместо базовой гистограммы), в аргумент `hue` поместить название столбца – основания группировки; добавить заливку можно через аргумент `fill=True`."
   ]
  },
  {
   "cell_type": "code",
   "execution_count": null,
   "metadata": {},
   "outputs": [],
   "source": [
    "### YOUR CODE HERE ###"
   ]
  },
  {
   "cell_type": "markdown",
   "metadata": {},
   "source": [
    "### Задача 3\n",
    "\n",
    "Постройте ящики с усами для индекса финансового благополучия с делением на группы по размеру организации, используя функцию `boxplot()` из библиотеки `seaborn`. \n",
    "\n",
    "*Подсказка:* внутри функции `boxplot()` в аргументе `data` указывается название датафрейма, в аргументе `y` – название столбца для визуализации, в аргументе `x` – название столбца, используемого как основание группировки."
   ]
  },
  {
   "cell_type": "code",
   "execution_count": null,
   "metadata": {},
   "outputs": [],
   "source": [
    "### YOUR CODE HERE ###"
   ]
  }
 ],
 "metadata": {
  "kernelspec": {
   "display_name": "Python 3",
   "language": "python",
   "name": "python3"
  },
  "language_info": {
   "codemirror_mode": {
    "name": "ipython",
    "version": 3
   },
   "file_extension": ".py",
   "mimetype": "text/x-python",
   "name": "python",
   "nbconvert_exporter": "python",
   "pygments_lexer": "ipython3",
   "version": "3.7.4"
  }
 },
 "nbformat": 4,
 "nbformat_minor": 2
}
