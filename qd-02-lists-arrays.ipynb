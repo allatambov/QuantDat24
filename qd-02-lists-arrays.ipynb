{
 "cells": [
  {
   "cell_type": "markdown",
   "metadata": {},
   "source": [
    "# Основы работы с количественными данными\n",
    "\n",
    "*Алла Тамбовцева*\n",
    "\n",
    "## Лекция 2. Последовательности: строки, списки, массивы Numpy\n",
    "\n",
    "* Типы объектов в Python\n",
    "* Функции и методы\n",
    "* Списки и массивы NumPy\n",
    "* Фильтрация элементов массива"
   ]
  },
  {
   "cell_type": "markdown",
   "metadata": {},
   "source": [
    "### Типы объектов в Python\n",
    "\n",
    "В предыдущей лекции мы познакомились с объектами базовых типов в Python:\n",
    "    \n",
    "* тип `integer`, сокращается до `int`, целые числа;\n",
    "* тип `float`, от *floating point numbers*, числа с плавающей точкой – дробные или вещественные числа;\n",
    "* тип `string`, сокращается до `str`, текстовые строки;\n",
    "* тип `boolean`, сокращается до `bool`, логические значения `True` и `False`.\n",
    "\n",
    "Некоторые объекты являются атомарными – не делятся на части, а некоторые являются составными. Посмотрим на пример составного объекта – строковой переменной с текстом внутри:"
   ]
  },
  {
   "cell_type": "code",
   "execution_count": 2,
   "metadata": {},
   "outputs": [],
   "source": [
    "text = \"Python will help you, belive\""
   ]
  },
  {
   "cell_type": "markdown",
   "metadata": {},
   "source": [
    "На текст можно смотреть как на **последовательность** символов, на упорядоченный набор элементов. Число элементов можно узнать, запросив **длину** последовательности через функцию `len()`:"
   ]
  },
  {
   "cell_type": "code",
   "execution_count": 3,
   "metadata": {},
   "outputs": [
    {
     "name": "stdout",
     "output_type": "stream",
     "text": [
      "28\n"
     ]
    }
   ],
   "source": [
    "print(len(text))"
   ]
  },
  {
   "cell_type": "markdown",
   "metadata": {},
   "source": [
    "Из последовательности можно выбирать символы по их порядковому номеру – **индексу** (указывается в квадратных скобках). Всё довольно интуитивно, однако стоит учесть, что в Python, как в большинстве языков программирования, нумерация начинается с нуля:"
   ]
  },
  {
   "cell_type": "code",
   "execution_count": 2,
   "metadata": {},
   "outputs": [
    {
     "name": "stdout",
     "output_type": "stream",
     "text": [
      "P\n",
      "t\n"
     ]
    }
   ],
   "source": [
    "print(text[0]) # 1-ый элемент\n",
    "print(text[2]) # 3-ий элемент"
   ]
  },
  {
   "cell_type": "markdown",
   "metadata": {},
   "source": [
    "Что удобно – элементы можно отсчитывать и с конца, тогда индекс будет отрицательным:"
   ]
  },
  {
   "cell_type": "code",
   "execution_count": 4,
   "metadata": {},
   "outputs": [
    {
     "name": "stdout",
     "output_type": "stream",
     "text": [
      "e\n",
      "i\n"
     ]
    }
   ],
   "source": [
    "print(text[-1]) # последний элемент\n",
    "print(text[-3]) # 3-ий элемент с конца"
   ]
  },
  {
   "cell_type": "markdown",
   "metadata": {},
   "source": [
    "Если мы укажем некорректный индекс – слишком большое число, мы получим ошибку индекса, исключение `IndexError`:"
   ]
  },
  {
   "cell_type": "code",
   "execution_count": 5,
   "metadata": {},
   "outputs": [
    {
     "ename": "IndexError",
     "evalue": "string index out of range",
     "output_type": "error",
     "traceback": [
      "\u001b[0;31m---------------------------------------------------------------------------\u001b[0m",
      "\u001b[0;31mIndexError\u001b[0m                                Traceback (most recent call last)",
      "\u001b[0;32m<ipython-input-5-20a052d725ab>\u001b[0m in \u001b[0;36m<module>\u001b[0;34m\u001b[0m\n\u001b[0;32m----> 1\u001b[0;31m \u001b[0mprint\u001b[0m\u001b[0;34m(\u001b[0m\u001b[0mtext\u001b[0m\u001b[0;34m[\u001b[0m\u001b[0;36m30\u001b[0m\u001b[0;34m]\u001b[0m\u001b[0;34m)\u001b[0m\u001b[0;34m\u001b[0m\u001b[0;34m\u001b[0m\u001b[0m\n\u001b[0m",
      "\u001b[0;31mIndexError\u001b[0m: string index out of range"
     ]
    }
   ],
   "source": [
    "print(text[30])"
   ]
  },
  {
   "cell_type": "markdown",
   "metadata": {},
   "source": [
    "Кроме того, можно осуществлять выбор сразу нескольких элементов, если они стоят подряд. Для этого используются **срезы** (они же *slices*), два индекса указываются через двоеточие, левая граница указанного интервала включается в выбор, а правая – нет:"
   ]
  },
  {
   "cell_type": "code",
   "execution_count": 10,
   "metadata": {},
   "outputs": [
    {
     "name": "stdout",
     "output_type": "stream",
     "text": [
      "help\n"
     ]
    }
   ],
   "source": [
    "print(text[12:16]) # элементы 12, 13, 14, 15"
   ]
  },
  {
   "cell_type": "markdown",
   "metadata": {},
   "source": [
    "Если указать только левую границу, будут выбраны все элементы до конца:"
   ]
  },
  {
   "cell_type": "code",
   "execution_count": 12,
   "metadata": {},
   "outputs": [
    {
     "name": "stdout",
     "output_type": "stream",
     "text": [
      "belive\n"
     ]
    }
   ],
   "source": [
    "print(text[22:])"
   ]
  },
  {
   "cell_type": "markdown",
   "metadata": {},
   "source": [
    "А если только правую – все элементы с начала:"
   ]
  },
  {
   "cell_type": "code",
   "execution_count": 13,
   "metadata": {},
   "outputs": [
    {
     "name": "stdout",
     "output_type": "stream",
     "text": [
      "Python \n"
     ]
    }
   ],
   "source": [
    "print(text[:7])"
   ]
  },
  {
   "cell_type": "markdown",
   "metadata": {},
   "source": [
    "Если проигнорировать обе границы, будут выбраны все элементы:"
   ]
  },
  {
   "cell_type": "code",
   "execution_count": 14,
   "metadata": {},
   "outputs": [
    {
     "name": "stdout",
     "output_type": "stream",
     "text": [
      "Python will help you, belive\n"
     ]
    }
   ],
   "source": [
    "print(text[:])"
   ]
  },
  {
   "cell_type": "markdown",
   "metadata": {},
   "source": [
    "Строки – не единственные последовательности в Python, и, конечно, чаще мы будем работать не с текстами, а с наборами числовых значений. Однако все последовательности устроены одинаково, понимая, как осуществляется выбор элементов на строках, легко будет освоить работу с числовыми массивами и таблицами."
   ]
  },
  {
   "cell_type": "markdown",
   "metadata": {},
   "source": [
    "### Функции и методы\n",
    "\n",
    "Рассмотрим на примере строк ещё один ключевой момент, который позволит понимать дальнейшие конструкции в коде, а именно – различие между функциями и методами. До настоящего момента мы сталкивались только с функциями. Как мы уже убедились, функция – команда, которая принимает на вход какой-то агрумент и производит с ним определённую операцию. А что такое метод? **Метод** – функция, определённая на объектах фиксированного типа. Разберёмся с этим на примерах. \n",
    "\n",
    "Итак, у нас была функция `print()`. Она совершенно «всеядная», она принимает на вход объекты совершенно разных типов, объединяет их в одну строку и выводит её на экран:"
   ]
  },
  {
   "cell_type": "code",
   "execution_count": 17,
   "metadata": {},
   "outputs": [
    {
     "name": "stdout",
     "output_type": "stream",
     "text": [
      "Hello! 2.5 + 4.5 = 7 True or False\n"
     ]
    }
   ],
   "source": [
    "# типы str, float, int и boolean\n",
    "\n",
    "print(\"Hello!\", 2.5, \"+\", 4.5, \"=\", 7, True, \"or\", False)"
   ]
  },
  {
   "cell_type": "markdown",
   "metadata": {},
   "source": [
    "Функция `len()` для определения длины последовательности – тоже вполне универсальная. Мы пока не рассматривали другие последовательности, но можно проверить, что она вычисляет длину у разных объектов:"
   ]
  },
  {
   "cell_type": "code",
   "execution_count": 18,
   "metadata": {},
   "outputs": [
    {
     "name": "stdout",
     "output_type": "stream",
     "text": [
      "3\n",
      "4\n",
      "2\n"
     ]
    }
   ],
   "source": [
    "print(len(\"abc\")) # строка\n",
    "print(len([1, 3, 7, 8])) # список – перечень в квадратных скобках\n",
    "print(len((5, 0))) # кортеж – перечень в круглых скобках"
   ]
  },
  {
   "cell_type": "markdown",
   "metadata": {},
   "source": [
    "А вот методы у каждого типа данных свои. У строк будет свой набор методов, у списков – свой, у таблиц – тоже, и так далее. Это выглядит вполне логично – операции, которые производятся с текстом (сделать буквы заглавными, разбить текст на части и подобное), не подходят для чисел или таблиц. В отличие от функций, методы пишутся не перед объектом, а после него через точку. Рассмотрим примеры некоторых методов на строках, используя переменную `text`: "
   ]
  },
  {
   "cell_type": "code",
   "execution_count": 19,
   "metadata": {},
   "outputs": [
    {
     "name": "stdout",
     "output_type": "stream",
     "text": [
      "PYTHON WILL HELP YOU, BELIVE\n",
      "python will help you, belive\n",
      "False\n"
     ]
    }
   ],
   "source": [
    "# метод .upper() делает все буквы заглавными\n",
    "# метод .lower() делает все буквы строчными\n",
    "# метод .isalnum() проверяет, все ли символы являются буквами или цифрами\n",
    "\n",
    "print(text.upper())\n",
    "print(text.lower())\n",
    "print(text.isalnum())"
   ]
  },
  {
   "cell_type": "markdown",
   "metadata": {},
   "source": [
    "Как и функции (методы – тоже функции), методы могут принимать на вход аргументы:"
   ]
  },
  {
   "cell_type": "code",
   "execution_count": 21,
   "metadata": {},
   "outputs": [
    {
     "name": "stdout",
     "output_type": "stream",
     "text": [
      "['Python will help you', ' belive']\n",
      "True\n"
     ]
    }
   ],
   "source": [
    "# метод .split() разбивает строку по определенному символу\n",
    "# метод .startswith() проверяет, начинается ли строка с набора символов\n",
    "\n",
    "print(text.split(\",\"))\n",
    "print(text.startswith(\"Python\"))"
   ]
  },
  {
   "cell_type": "markdown",
   "metadata": {},
   "source": [
    "Чтобы узнать, какие ещё методы есть, в Jupyter Notebook после названия переменной можно поставить точку и нажать на клавиатуре *Tab* (в Google Colab – подождать или нажать на стрелку вниз). А документацию по конкретному методу можно запросить через `help()`:"
   ]
  },
  {
   "cell_type": "code",
   "execution_count": 22,
   "metadata": {},
   "outputs": [
    {
     "name": "stdout",
     "output_type": "stream",
     "text": [
      "Help on built-in function replace:\n",
      "\n",
      "replace(old, new, count=-1, /) method of builtins.str instance\n",
      "    Return a copy with all occurrences of substring old replaced by new.\n",
      "    \n",
      "      count\n",
      "        Maximum number of occurrences to replace.\n",
      "        -1 (the default value) means replace all occurrences.\n",
      "    \n",
      "    If the optional argument count is given, only the first count occurrences are\n",
      "    replaced.\n",
      "\n"
     ]
    }
   ],
   "source": [
    "help(text.replace)"
   ]
  },
  {
   "cell_type": "markdown",
   "metadata": {},
   "source": [
    "И последний важный момент, который будет актуален не только для строк. Выше мы много чего проделали со строкой `text`. Давайте посмотрим на неё:"
   ]
  },
  {
   "cell_type": "code",
   "execution_count": 23,
   "metadata": {},
   "outputs": [
    {
     "name": "stdout",
     "output_type": "stream",
     "text": [
      "Python will help you, belive\n"
     ]
    }
   ],
   "source": [
    "print(text)"
   ]
  },
  {
   "cell_type": "markdown",
   "metadata": {},
   "source": [
    "Ничего в строке `text` не изменилось, хотя мы изменили регистр (строчные/заглавные) и даже разбивали её. Это объясняется тем, что строки – неизменяемый тип. А значит, методы возвращают изменённую копию строки, а не вносят в неё изменения «как есть». Это во многом удобно, так как защищает данные от случайных изменений. Чтобы сохранить изменения, строку нужно будет перезаписать через `=`:"
   ]
  },
  {
   "cell_type": "code",
   "execution_count": 24,
   "metadata": {},
   "outputs": [
    {
     "name": "stdout",
     "output_type": "stream",
     "text": [
      "PYTHON WILL HELP YOU, BELIVE\n"
     ]
    }
   ],
   "source": [
    "text = text.upper()\n",
    "print(text)"
   ]
  },
  {
   "cell_type": "markdown",
   "metadata": {},
   "source": [
    "Итак, объекты разных типов могут быть **изменяемыми** и **неизменяемыми**, плюс, даже если объект изменяемый, какие-то методы будут его «молча» изменять, какие-то – возвращать изменённую копию и менять оригинал, а какие-то – изменять тогда, мы пропишем это в специальном аргументе. Понимание этих особенностей помогут нам в дальнейшем при работе с таблицами, так как нам нужно будет решать, например, сохранить результат сортировки в данных, удалить ли строки с пропусками насовсем и проч."
   ]
  },
  {
   "cell_type": "markdown",
   "metadata": {},
   "source": [
    "### Списки и массивы NumPy\n",
    "\n",
    "На практике при работе с данными мы часто будем сталкиваться с последовательностями разного типа. Например, со списками. **Список** (в Python тип `list`) – это перечень элементов разного типа, перечисленных в квадратных скобках:"
   ]
  },
  {
   "cell_type": "code",
   "execution_count": 7,
   "metadata": {},
   "outputs": [],
   "source": [
    "# рост в сантиметрах\n",
    "height = [168, 172, 175, 166, 164, 182]"
   ]
  },
  {
   "cell_type": "markdown",
   "metadata": {},
   "source": [
    "Так как список является последовательностью, по аналогии со строками, можно узнать его длину и извлекать элементы по индексам:"
   ]
  },
  {
   "cell_type": "code",
   "execution_count": 6,
   "metadata": {},
   "outputs": [
    {
     "name": "stdout",
     "output_type": "stream",
     "text": [
      "6\n",
      "168\n",
      "[172, 175, 166]\n"
     ]
    }
   ],
   "source": [
    "print(len(height))\n",
    "print(height[0])\n",
    "print(height[1:4])"
   ]
  },
  {
   "cell_type": "markdown",
   "metadata": {},
   "source": [
    "С одной стороны, список – структура довольно понятная и удобная. С другой стороны, использование списков для хранения реальных данных неэффективно из-за ряда ограничений. Во-первых, без использования специальных конструкций (циклов и прочих) невозможно выполнять преобразования всех элементов списка сразу. Попробуем перевести значения роста в сантиметрах в списке `height` в метры, поделив список на 100:     "
   ]
  },
  {
   "cell_type": "code",
   "execution_count": 8,
   "metadata": {},
   "outputs": [
    {
     "ename": "TypeError",
     "evalue": "unsupported operand type(s) for /: 'list' and 'int'",
     "output_type": "error",
     "traceback": [
      "\u001b[0;31m---------------------------------------------------------------------------\u001b[0m",
      "\u001b[0;31mTypeError\u001b[0m                                 Traceback (most recent call last)",
      "\u001b[0;32m<ipython-input-8-cdc2476967fd>\u001b[0m in \u001b[0;36m<module>\u001b[0;34m\u001b[0m\n\u001b[0;32m----> 1\u001b[0;31m \u001b[0mheight\u001b[0m \u001b[0;34m/\u001b[0m \u001b[0;36m100\u001b[0m \u001b[0;31m# ошибка!\u001b[0m\u001b[0;34m\u001b[0m\u001b[0;34m\u001b[0m\u001b[0m\n\u001b[0m",
      "\u001b[0;31mTypeError\u001b[0m: unsupported operand type(s) for /: 'list' and 'int'"
     ]
    }
   ],
   "source": [
    "height / 100 # ошибка, операция не поддерживается"
   ]
  },
  {
   "cell_type": "markdown",
   "metadata": {},
   "source": [
    "Во-вторых, списки позволяют выбирать элементы только по их индексам. На практике же часто возникает необходимость выбирать элементы по условиям, добавляя фильтры на значения. Все эти неудобства объясняются просто: списки изначально задумывались как универсальные контейнеры, которые могут хранить элементы разных типов, а раз внутри находятся не только числа, не совсем понятно, как определять общие для всех типов операторы и функции.\n",
    "\n",
    "Поэтому для работы с данными обычно используют не списки, а **массивы** – последовательности элементов одного типа. Чаще всего используются массивы, создаваемые с помощью библиотеки NumPy. NumPy – сокращение от *Numeric Python*, библиотека для работы с количественными данными, широко используется в статистике и машинном обучении.\n",
    "\n",
    "Импортируем библиотеку `numpy` с сокращённым названием `np`:"
   ]
  },
  {
   "cell_type": "code",
   "execution_count": 10,
   "metadata": {},
   "outputs": [],
   "source": [
    "import numpy as np"
   ]
  },
  {
   "cell_type": "markdown",
   "metadata": {},
   "source": [
    "Вообще для импорта этой библиотеки достаточно использовать выражение `import numpy`. Но здесь мы пошли немного дальше – название `numpy` считается достаточно длинным, поэтому мы его сократили до `np`. Зачем? Чтобы потом при вызове функций нам не пришлось таскать за собой слово `numpy`. Сравните: `numpy.array()` или `np.array()`.\n",
    "\n",
    "> Не совсем серьёзное отступление. На самом деле, конструкция `import ... as ...` позволяет присваивать библиотекам любые названия из одного слова без пробелов. Например, можно написать `import numpy as pain`, и тогда дальше Python будет понимать, что в выражениях `pain.array()` мы вызываем `numpy`.\n",
    "\n",
    "Итак, для создания массива нам потребуется функция `array()` из `numpy`, то есть из `np`. Внутри этой функции нужно перечислить элементы в квадратных скобках через запятую (как для списка):"
   ]
  },
  {
   "cell_type": "code",
   "execution_count": 19,
   "metadata": {},
   "outputs": [],
   "source": [
    "Height = np.array([168, 164, 172, 175, 178, 182, \n",
    "                   162, 162, 168, 174, 185, 178])"
   ]
  },
  {
   "cell_type": "markdown",
   "metadata": {},
   "source": [
    "При выводе на экран для экономии места запятые игнорируются:"
   ]
  },
  {
   "cell_type": "code",
   "execution_count": 12,
   "metadata": {},
   "outputs": [
    {
     "name": "stdout",
     "output_type": "stream",
     "text": [
      "[168 164 172 175 178 182 162 162 169 174 185 178]\n"
     ]
    }
   ],
   "source": [
    "print(Height)"
   ]
  },
  {
   "cell_type": "markdown",
   "metadata": {},
   "source": [
    "Визуально массивы и списки очень похожи. Можно точно так же запросить длину массива и выбирать его элементы по индексу:"
   ]
  },
  {
   "cell_type": "code",
   "execution_count": 15,
   "metadata": {},
   "outputs": [
    {
     "name": "stdout",
     "output_type": "stream",
     "text": [
      "12\n",
      "[168 164]\n"
     ]
    }
   ],
   "source": [
    "print(len(Height))\n",
    "print(Height[0:2])"
   ]
  },
  {
   "cell_type": "markdown",
   "metadata": {},
   "source": [
    "Теперь посмотрим, как массив позволяет решить проблемы, которые мы перечислили для работы со списками. Попробуем поделить все элементы массива `Height` на 100:"
   ]
  },
  {
   "cell_type": "code",
   "execution_count": 13,
   "metadata": {},
   "outputs": [
    {
     "data": {
      "text/plain": [
       "array([1.68, 1.64, 1.72, 1.75, 1.78, 1.82, 1.62, 1.62, 1.69, 1.74, 1.85,\n",
       "       1.78])"
      ]
     },
     "execution_count": 13,
     "metadata": {},
     "output_type": "execute_result"
    }
   ],
   "source": [
    "Height / 100"
   ]
  },
  {
   "cell_type": "markdown",
   "metadata": {},
   "source": [
    "Работает! Первая проблема решена. Операции на массивах являются **векторизованными** – они применяются сразу ко всем элементам массива, что удобно и эффективно, если оценивать время исполнения кода. \n",
    "\n",
    "Кроме того, если у нас будет несколько массивов одинаковой длины, мы сможем без дополнительных конструкций перебирать их элементы попарно и производить с ними вычисления. Представим, что у нас есть вес участников эксперимента до и после следования определённой диете:"
   ]
  },
  {
   "cell_type": "code",
   "execution_count": 16,
   "metadata": {},
   "outputs": [],
   "source": [
    "before = np.array([88, 77, 85, 90, 80, 80])\n",
    "after = np.array([86, 77, 80, 88, 76, 82])"
   ]
  },
  {
   "cell_type": "markdown",
   "metadata": {},
   "source": [
    "Вычислим, сколько каждый человек потерял (или набрал) по итогам диеты – достаточно из первого массива вычесть второй:"
   ]
  },
  {
   "cell_type": "code",
   "execution_count": 17,
   "metadata": {},
   "outputs": [
    {
     "data": {
      "text/plain": [
       "array([ 2,  0,  5,  2,  4, -2])"
      ]
     },
     "execution_count": 17,
     "metadata": {},
     "output_type": "execute_result"
    }
   ],
   "source": [
    "before - after"
   ]
  },
  {
   "cell_type": "markdown",
   "metadata": {},
   "source": [
    "Python выполнил вычитание поэлементно, из первого элемента массива `before` вычел первый элемент массива `after`, из второго элемента массива `before` – второй элемент массива `after`, и так далее. Очень полезная особенность, она же будет наблюдаться и при работе с таблицами – столбцы в таблице будут восприниматься Python как массивы, а значит, для получения нового столбца на основе старого можно будет использовать простые операторы для сложения, умножения, вычитания или деления значений.\n",
    "\n",
    "Осталось убедиться, что массивы справляются и со второй проблемой списков – позволяют выбирать элементы по условию, а не только по индексу."
   ]
  },
  {
   "cell_type": "markdown",
   "metadata": {},
   "source": [
    "### Фильтрация элементов массива\n",
    "\n",
    "Вернёмся к массиву `Height`:"
   ]
  },
  {
   "cell_type": "code",
   "execution_count": 20,
   "metadata": {},
   "outputs": [
    {
     "name": "stdout",
     "output_type": "stream",
     "text": [
      "[168 164 172 175 178 182 162 162 168 174 185 178]\n"
     ]
    }
   ],
   "source": [
    "print(Height)"
   ]
  },
  {
   "cell_type": "markdown",
   "metadata": {},
   "source": [
    "Предположим, мы хотим узнать, есть ли в массиве рост 168 сантиметров. Попробуем сформулировать простое условие через проверку равенства с помощью оператора `==`:"
   ]
  },
  {
   "cell_type": "code",
   "execution_count": 21,
   "metadata": {},
   "outputs": [
    {
     "data": {
      "text/plain": [
       "array([ True, False, False, False, False, False, False, False,  True,\n",
       "       False, False, False])"
      ]
     },
     "execution_count": 21,
     "metadata": {},
     "output_type": "execute_result"
    }
   ],
   "source": [
    "Height == 168"
   ]
  },
  {
   "cell_type": "markdown",
   "metadata": {},
   "source": [
    "Что произошло? Как мы уже выяснили, операции на массиве автоматически применяются к каждому его элементу, поэтому Python честно проверил равенство числу 168 для каждого значения в `Height` и вернул новый массив из `True` и `False` (выполняется условие или нет). Значения `True` стоят на тех местах, где в `Height` находится число 168. \n",
    "\n",
    "Аналогичным образом можем сформулировать более сложные условия. Например, условие для выявления респондентов с ростом не ниже 175:"
   ]
  },
  {
   "cell_type": "code",
   "execution_count": 22,
   "metadata": {},
   "outputs": [
    {
     "data": {
      "text/plain": [
       "array([False, False, False,  True,  True,  True, False, False, False,\n",
       "       False,  True,  True])"
      ]
     },
     "execution_count": 22,
     "metadata": {},
     "output_type": "execute_result"
    }
   ],
   "source": [
    "Height >= 175"
   ]
  },
  {
   "cell_type": "markdown",
   "metadata": {},
   "source": [
    "Или с ростом не менее 170 и не более 180:"
   ]
  },
  {
   "cell_type": "code",
   "execution_count": 23,
   "metadata": {},
   "outputs": [
    {
     "data": {
      "text/plain": [
       "array([False, False,  True,  True,  True, False, False, False, False,\n",
       "        True, False,  True])"
      ]
     },
     "execution_count": 23,
     "metadata": {},
     "output_type": "execute_result"
    }
   ],
   "source": [
    "(Height >= 170) & (Height <= 180)"
   ]
  },
  {
   "cell_type": "markdown",
   "metadata": {},
   "source": [
    "Во всех случаях проверки условий Python не отфильтровывает значения, удовлетворящие условиям, а просто возвращает массив из `True` и `False`, то есть **булев массив**. А как всё-таки отфильтровать значения? Вспомнить, что для выбора элементов используются квадратные скобки! Только теперь вместо индекса элементов в квадратных скобках мы будем размещать выражения с условиями (фильтры):"
   ]
  },
  {
   "cell_type": "code",
   "execution_count": 24,
   "metadata": {},
   "outputs": [
    {
     "data": {
      "text/plain": [
       "array([168, 168])"
      ]
     },
     "execution_count": 24,
     "metadata": {},
     "output_type": "execute_result"
    }
   ],
   "source": [
    "Height[Height == 168]"
   ]
  },
  {
   "cell_type": "code",
   "execution_count": 25,
   "metadata": {},
   "outputs": [
    {
     "data": {
      "text/plain": [
       "array([175, 178, 182, 185, 178])"
      ]
     },
     "execution_count": 25,
     "metadata": {},
     "output_type": "execute_result"
    }
   ],
   "source": [
    "Height[Height >= 175]"
   ]
  },
  {
   "cell_type": "code",
   "execution_count": 26,
   "metadata": {},
   "outputs": [
    {
     "data": {
      "text/plain": [
       "array([172, 175, 178, 174, 178])"
      ]
     },
     "execution_count": 26,
     "metadata": {},
     "output_type": "execute_result"
    }
   ],
   "source": [
    "Height[(Height >= 170) & (Height <= 180)]"
   ]
  },
  {
   "cell_type": "markdown",
   "metadata": {},
   "source": [
    "Как работает фильтрация? Python выбирает из массива `Height` только те элементы, на которых условие в квадратных скобках возвращает значение `True`. Полученный результат мы можем сохранить в новый массив и далее работать с ним, исходный массив не изменится:"
   ]
  },
  {
   "cell_type": "code",
   "execution_count": 27,
   "metadata": {},
   "outputs": [
    {
     "name": "stdout",
     "output_type": "stream",
     "text": [
      "[172 175 178 174 178]\n",
      "[168 164 172 175 178 182 162 162 168 174 185 178]\n"
     ]
    }
   ],
   "source": [
    "Filtered = Height[(Height >= 170) & (Height <= 180)]\n",
    "print(Filtered) # отфильтрованные значения\n",
    "print(Height) # исходный массив"
   ]
  },
  {
   "cell_type": "markdown",
   "metadata": {},
   "source": [
    "**Дополнение.** Сами булевы массивы из `True` и `False` тоже могут пригодиться. Если, например, нам нужно только проверить, есть ли в массиве какие-то значения или узнать их количество, не отбирая эти элементы в новый массив, можно воспользоваться функцией `sum()` и тем фактом, что для Python значение `True` эквивалентно 1, а значение `False` – 0:"
   ]
  },
  {
   "cell_type": "code",
   "execution_count": 32,
   "metadata": {},
   "outputs": [
    {
     "data": {
      "text/plain": [
       "array([False, False, False,  True,  True,  True, False, False, False,\n",
       "       False,  True,  True])"
      ]
     },
     "execution_count": 32,
     "metadata": {},
     "output_type": "execute_result"
    }
   ],
   "source": [
    "Height >= 175 # проверяем условие"
   ]
  },
  {
   "cell_type": "code",
   "execution_count": 33,
   "metadata": {},
   "outputs": [
    {
     "data": {
      "text/plain": [
       "5"
      ]
     },
     "execution_count": 33,
     "metadata": {},
     "output_type": "execute_result"
    }
   ],
   "source": [
    "sum(Height >= 175) # считаем True"
   ]
  },
  {
   "cell_type": "markdown",
   "metadata": {},
   "source": [
    "Что происходит при использовании функции `sum()`? Функция считает сумму элементов массива из `True` и `False`, который «внутри» Python выглядит как массив из 1 и 0. Сумма такого массива совпадает с числом единиц, поэтому мы получаем ровно то, что хотели – число элементов, удовлетворящих условию. Сами элементы при этом мы никак не отбираем и никуда не сохраняем. Это тоже довольно полезный аспект работы с массивами – при работе с данными на этапе разведывательного анализа требуется просто понять, есть ли в таблице пропущенные значения или «странные» значения, а уже потом при их наличии отбирать соответствующие строки и их изучать."
   ]
  }
 ],
 "metadata": {
  "kernelspec": {
   "display_name": "Python 3",
   "language": "python",
   "name": "python3"
  },
  "language_info": {
   "codemirror_mode": {
    "name": "ipython",
    "version": 3
   },
   "file_extension": ".py",
   "mimetype": "text/x-python",
   "name": "python",
   "nbconvert_exporter": "python",
   "pygments_lexer": "ipython3",
   "version": "3.7.4"
  }
 },
 "nbformat": 4,
 "nbformat_minor": 2
}
