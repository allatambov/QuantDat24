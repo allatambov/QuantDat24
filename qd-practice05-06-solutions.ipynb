{
 "cells": [
  {
   "cell_type": "markdown",
   "metadata": {},
   "source": [
    "# Основы работы с количественными данными\n",
    "\n",
    "*Алла Тамбовцева*\n",
    "\n",
    "## Практикум 5-6. Доверительные интервалы и проверка гипотез о средних и долях"
   ]
  },
  {
   "cell_type": "markdown",
   "metadata": {},
   "source": [
    "Импортируем необходимые для работы библиотеки и модули:\n",
    "    \n",
    "* библиотека `pandas` для загрузки и обработки данных;\n",
    "* модуль `stats` из библиотеки `scipy` (от *Scientific Python*) для построения доверительных интервалов и реализации статистических критериев."
   ]
  },
  {
   "cell_type": "code",
   "execution_count": 1,
   "metadata": {},
   "outputs": [],
   "source": [
    "import pandas as pd\n",
    "from scipy import stats"
   ]
  },
  {
   "cell_type": "markdown",
   "metadata": {},
   "source": [
    "Загрузим данные из файла `sentiment.csv` (доработанный файл с [Kaggle](https://www.kaggle.com/datasets/kashishparmar02/social-media-sentiments-analysis-dataset?select=sentimentdataset.csv)) и выведем на экран первые 10 строк датафрейма:"
   ]
  },
  {
   "cell_type": "code",
   "execution_count": 2,
   "metadata": {},
   "outputs": [
    {
     "data": {
      "text/html": [
       "<div>\n",
       "<style scoped>\n",
       "    .dataframe tbody tr th:only-of-type {\n",
       "        vertical-align: middle;\n",
       "    }\n",
       "\n",
       "    .dataframe tbody tr th {\n",
       "        vertical-align: top;\n",
       "    }\n",
       "\n",
       "    .dataframe thead th {\n",
       "        text-align: right;\n",
       "    }\n",
       "</style>\n",
       "<table border=\"1\" class=\"dataframe\">\n",
       "  <thead>\n",
       "    <tr style=\"text-align: right;\">\n",
       "      <th></th>\n",
       "      <th>Unnamed: 0</th>\n",
       "      <th>Text</th>\n",
       "      <th>Sentiment</th>\n",
       "      <th>Timestamp</th>\n",
       "      <th>User</th>\n",
       "      <th>Platform</th>\n",
       "      <th>Hashtags</th>\n",
       "      <th>Retweets</th>\n",
       "      <th>Likes</th>\n",
       "      <th>Country</th>\n",
       "      <th>Year</th>\n",
       "      <th>Month</th>\n",
       "      <th>Day</th>\n",
       "      <th>Hour</th>\n",
       "    </tr>\n",
       "  </thead>\n",
       "  <tbody>\n",
       "    <tr>\n",
       "      <th>0</th>\n",
       "      <td>0</td>\n",
       "      <td>Enjoying a beautiful day at the park!        ...</td>\n",
       "      <td>Positive</td>\n",
       "      <td>2023-01-15 12:30:00</td>\n",
       "      <td>User123</td>\n",
       "      <td>Twitter</td>\n",
       "      <td>#Nature #Park</td>\n",
       "      <td>15.0</td>\n",
       "      <td>30.0</td>\n",
       "      <td>USA</td>\n",
       "      <td>2023</td>\n",
       "      <td>1</td>\n",
       "      <td>15</td>\n",
       "      <td>12</td>\n",
       "    </tr>\n",
       "    <tr>\n",
       "      <th>1</th>\n",
       "      <td>2</td>\n",
       "      <td>Just finished an amazing workout! 💪          ...</td>\n",
       "      <td>Positive</td>\n",
       "      <td>2023-01-15 15:45:00</td>\n",
       "      <td>FitnessFan</td>\n",
       "      <td>Instagram</td>\n",
       "      <td>#Fitness #Workout</td>\n",
       "      <td>20.0</td>\n",
       "      <td>40.0</td>\n",
       "      <td>USA</td>\n",
       "      <td>2023</td>\n",
       "      <td>1</td>\n",
       "      <td>15</td>\n",
       "      <td>15</td>\n",
       "    </tr>\n",
       "    <tr>\n",
       "      <th>2</th>\n",
       "      <td>3</td>\n",
       "      <td>Excited about the upcoming weekend getaway!  ...</td>\n",
       "      <td>Positive</td>\n",
       "      <td>2023-01-15 18:20:00</td>\n",
       "      <td>AdventureX</td>\n",
       "      <td>Facebook</td>\n",
       "      <td>#Travel #Adventure</td>\n",
       "      <td>8.0</td>\n",
       "      <td>15.0</td>\n",
       "      <td>UK</td>\n",
       "      <td>2023</td>\n",
       "      <td>1</td>\n",
       "      <td>15</td>\n",
       "      <td>18</td>\n",
       "    </tr>\n",
       "    <tr>\n",
       "      <th>3</th>\n",
       "      <td>5</td>\n",
       "      <td>Feeling grateful for the little things in lif...</td>\n",
       "      <td>Positive</td>\n",
       "      <td>2023-01-16 09:10:00</td>\n",
       "      <td>GratitudeNow</td>\n",
       "      <td>Twitter</td>\n",
       "      <td>#Gratitude #PositiveVibes</td>\n",
       "      <td>25.0</td>\n",
       "      <td>50.0</td>\n",
       "      <td>India</td>\n",
       "      <td>2023</td>\n",
       "      <td>1</td>\n",
       "      <td>16</td>\n",
       "      <td>9</td>\n",
       "    </tr>\n",
       "    <tr>\n",
       "      <th>4</th>\n",
       "      <td>6</td>\n",
       "      <td>Rainy days call for cozy blankets and hot coc...</td>\n",
       "      <td>Positive</td>\n",
       "      <td>2023-01-16 14:45:00</td>\n",
       "      <td>RainyDays</td>\n",
       "      <td>Facebook</td>\n",
       "      <td>#RainyDays #Cozy</td>\n",
       "      <td>10.0</td>\n",
       "      <td>20.0</td>\n",
       "      <td>Canada</td>\n",
       "      <td>2023</td>\n",
       "      <td>1</td>\n",
       "      <td>16</td>\n",
       "      <td>14</td>\n",
       "    </tr>\n",
       "    <tr>\n",
       "      <th>5</th>\n",
       "      <td>7</td>\n",
       "      <td>The new movie release is a must-watch!       ...</td>\n",
       "      <td>Positive</td>\n",
       "      <td>2023-01-16 19:30:00</td>\n",
       "      <td>MovieBuff</td>\n",
       "      <td>Instagram</td>\n",
       "      <td>#MovieNight #MustWatch</td>\n",
       "      <td>15.0</td>\n",
       "      <td>30.0</td>\n",
       "      <td>USA</td>\n",
       "      <td>2023</td>\n",
       "      <td>1</td>\n",
       "      <td>16</td>\n",
       "      <td>19</td>\n",
       "    </tr>\n",
       "    <tr>\n",
       "      <th>6</th>\n",
       "      <td>10</td>\n",
       "      <td>Just published a new blog post. Check it out!...</td>\n",
       "      <td>Positive</td>\n",
       "      <td>2023-01-17 15:15:00</td>\n",
       "      <td>BloggerX</td>\n",
       "      <td>Instagram</td>\n",
       "      <td>#Blogging #NewPost</td>\n",
       "      <td>22.0</td>\n",
       "      <td>45.0</td>\n",
       "      <td>USA</td>\n",
       "      <td>2023</td>\n",
       "      <td>1</td>\n",
       "      <td>17</td>\n",
       "      <td>15</td>\n",
       "    </tr>\n",
       "    <tr>\n",
       "      <th>7</th>\n",
       "      <td>12</td>\n",
       "      <td>Exploring the city's hidden gems.            ...</td>\n",
       "      <td>Positive</td>\n",
       "      <td>2023-01-18 14:50:00</td>\n",
       "      <td>UrbanExplorer</td>\n",
       "      <td>Facebook</td>\n",
       "      <td>#CityExplore #HiddenGems</td>\n",
       "      <td>12.0</td>\n",
       "      <td>25.0</td>\n",
       "      <td>UK</td>\n",
       "      <td>2023</td>\n",
       "      <td>1</td>\n",
       "      <td>18</td>\n",
       "      <td>14</td>\n",
       "    </tr>\n",
       "    <tr>\n",
       "      <th>8</th>\n",
       "      <td>13</td>\n",
       "      <td>New year, new fitness goals! 💪               ...</td>\n",
       "      <td>Positive</td>\n",
       "      <td>2023-01-18 18:00:00</td>\n",
       "      <td>FitJourney</td>\n",
       "      <td>Instagram</td>\n",
       "      <td>#NewYear #FitnessGoals</td>\n",
       "      <td>28.0</td>\n",
       "      <td>55.0</td>\n",
       "      <td>USA</td>\n",
       "      <td>2023</td>\n",
       "      <td>1</td>\n",
       "      <td>18</td>\n",
       "      <td>18</td>\n",
       "    </tr>\n",
       "    <tr>\n",
       "      <th>9</th>\n",
       "      <td>15</td>\n",
       "      <td>Reflecting on the past and looking ahead.    ...</td>\n",
       "      <td>Positive</td>\n",
       "      <td>2023-01-19 13:20:00</td>\n",
       "      <td>Reflections</td>\n",
       "      <td>Facebook</td>\n",
       "      <td>#Reflection #Future</td>\n",
       "      <td>20.0</td>\n",
       "      <td>40.0</td>\n",
       "      <td>USA</td>\n",
       "      <td>2023</td>\n",
       "      <td>1</td>\n",
       "      <td>19</td>\n",
       "      <td>13</td>\n",
       "    </tr>\n",
       "  </tbody>\n",
       "</table>\n",
       "</div>"
      ],
      "text/plain": [
       "   Unnamed: 0                                               Text Sentiment  \\\n",
       "0           0   Enjoying a beautiful day at the park!        ...  Positive   \n",
       "1           2   Just finished an amazing workout! 💪          ...  Positive   \n",
       "2           3   Excited about the upcoming weekend getaway!  ...  Positive   \n",
       "3           5   Feeling grateful for the little things in lif...  Positive   \n",
       "4           6   Rainy days call for cozy blankets and hot coc...  Positive   \n",
       "5           7   The new movie release is a must-watch!       ...  Positive   \n",
       "6          10   Just published a new blog post. Check it out!...  Positive   \n",
       "7          12   Exploring the city's hidden gems.            ...  Positive   \n",
       "8          13   New year, new fitness goals! 💪               ...  Positive   \n",
       "9          15   Reflecting on the past and looking ahead.    ...  Positive   \n",
       "\n",
       "             Timestamp            User   Platform  \\\n",
       "0  2023-01-15 12:30:00   User123          Twitter   \n",
       "1  2023-01-15 15:45:00   FitnessFan     Instagram   \n",
       "2  2023-01-15 18:20:00   AdventureX      Facebook   \n",
       "3  2023-01-16 09:10:00   GratitudeNow     Twitter   \n",
       "4  2023-01-16 14:45:00   RainyDays       Facebook   \n",
       "5  2023-01-16 19:30:00   MovieBuff      Instagram   \n",
       "6  2023-01-17 15:15:00   BloggerX       Instagram   \n",
       "7  2023-01-18 14:50:00   UrbanExplorer   Facebook   \n",
       "8  2023-01-18 18:00:00   FitJourney     Instagram   \n",
       "9  2023-01-19 13:20:00   Reflections     Facebook   \n",
       "\n",
       "                                     Hashtags  Retweets  Likes       Country  \\\n",
       "0   #Nature #Park                                  15.0   30.0     USA         \n",
       "1   #Fitness #Workout                              20.0   40.0   USA           \n",
       "2   #Travel #Adventure                              8.0   15.0     UK          \n",
       "3     #Gratitude #PositiveVibes                    25.0   50.0     India       \n",
       "4   #RainyDays #Cozy                               10.0   20.0     Canada      \n",
       "5    #MovieNight #MustWatch                        15.0   30.0       USA       \n",
       "6    #Blogging #NewPost                            22.0   45.0           USA   \n",
       "7    #CityExplore #HiddenGems                      12.0   25.0     UK          \n",
       "8    #NewYear #FitnessGoals                        28.0   55.0   USA           \n",
       "9    #Reflection #Future                           20.0   40.0     USA         \n",
       "\n",
       "   Year  Month  Day  Hour  \n",
       "0  2023      1   15    12  \n",
       "1  2023      1   15    15  \n",
       "2  2023      1   15    18  \n",
       "3  2023      1   16     9  \n",
       "4  2023      1   16    14  \n",
       "5  2023      1   16    19  \n",
       "6  2023      1   17    15  \n",
       "7  2023      1   18    14  \n",
       "8  2023      1   18    18  \n",
       "9  2023      1   19    13  "
      ]
     },
     "execution_count": 2,
     "metadata": {},
     "output_type": "execute_result"
    }
   ],
   "source": [
    "dat = pd.read_csv(\"sentiment.csv\")\n",
    "dat.head(10)"
   ]
  },
  {
   "cell_type": "markdown",
   "metadata": {},
   "source": [
    "Показатели в файле:\n",
    "\n",
    "* `Text`: текст поста;\n",
    "* `Sentiment`: эмоциональная окраска поста (значения `Positive` и `Negative`);\n",
    "* `Timestamp`: время публикации поста;\n",
    "* `User`: имя пользователя;\n",
    "* `Platform`: платформа (значения `Facebook`, `Instagram`, `Twitter`*);\n",
    "* `Hashtags`: хэштеги;\n",
    "* `Retweets`: число репостов;\n",
    "* `Likes`: число лайков;\n",
    "* `Country`: страна пользователя;\n",
    "* `Year`: год публикации поста;\n",
    "* `Month`: месяц публикации поста;\n",
    "* `Day`: день публикации поста;\n",
    "* `Hour`: час публикации поста.\n",
    "\n",
    "*все три платформы запрещены в РФ."
   ]
  },
  {
   "cell_type": "markdown",
   "metadata": {},
   "source": [
    "## Часть 1: знакомство с данными"
   ]
  },
  {
   "cell_type": "markdown",
   "metadata": {},
   "source": [
    "### Задание 1\n",
    "\n",
    "Выведите описательные статистики для всех числовых столбцов в `dat`. Выведите описательные статистики для всех текстовых столбцов в `dat`. Проинтерпретируйте полученные результаты для столбцов `Likes`, `Platform`, `Sentiment`."
   ]
  },
  {
   "cell_type": "code",
   "execution_count": 3,
   "metadata": {},
   "outputs": [
    {
     "data": {
      "text/html": [
       "<div>\n",
       "<style scoped>\n",
       "    .dataframe tbody tr th:only-of-type {\n",
       "        vertical-align: middle;\n",
       "    }\n",
       "\n",
       "    .dataframe tbody tr th {\n",
       "        vertical-align: top;\n",
       "    }\n",
       "\n",
       "    .dataframe thead th {\n",
       "        text-align: right;\n",
       "    }\n",
       "</style>\n",
       "<table border=\"1\" class=\"dataframe\">\n",
       "  <thead>\n",
       "    <tr style=\"text-align: right;\">\n",
       "      <th></th>\n",
       "      <th>Unnamed: 0</th>\n",
       "      <th>Retweets</th>\n",
       "      <th>Likes</th>\n",
       "      <th>Year</th>\n",
       "      <th>Month</th>\n",
       "      <th>Day</th>\n",
       "      <th>Hour</th>\n",
       "    </tr>\n",
       "  </thead>\n",
       "  <tbody>\n",
       "    <tr>\n",
       "      <th>count</th>\n",
       "      <td>325.000000</td>\n",
       "      <td>325.000000</td>\n",
       "      <td>325.000000</td>\n",
       "      <td>325.000000</td>\n",
       "      <td>325.000000</td>\n",
       "      <td>325.000000</td>\n",
       "      <td>325.000000</td>\n",
       "    </tr>\n",
       "    <tr>\n",
       "      <th>mean</th>\n",
       "      <td>376.803077</td>\n",
       "      <td>21.492308</td>\n",
       "      <td>42.815385</td>\n",
       "      <td>2021.320000</td>\n",
       "      <td>5.778462</td>\n",
       "      <td>16.203077</td>\n",
       "      <td>15.430769</td>\n",
       "    </tr>\n",
       "    <tr>\n",
       "      <th>std</th>\n",
       "      <td>247.515228</td>\n",
       "      <td>6.833837</td>\n",
       "      <td>13.623115</td>\n",
       "      <td>2.494884</td>\n",
       "      <td>3.572896</td>\n",
       "      <td>8.716133</td>\n",
       "      <td>3.941584</td>\n",
       "    </tr>\n",
       "    <tr>\n",
       "      <th>min</th>\n",
       "      <td>0.000000</td>\n",
       "      <td>5.000000</td>\n",
       "      <td>10.000000</td>\n",
       "      <td>2012.000000</td>\n",
       "      <td>1.000000</td>\n",
       "      <td>1.000000</td>\n",
       "      <td>0.000000</td>\n",
       "    </tr>\n",
       "    <tr>\n",
       "      <th>25%</th>\n",
       "      <td>102.000000</td>\n",
       "      <td>18.000000</td>\n",
       "      <td>35.000000</td>\n",
       "      <td>2020.000000</td>\n",
       "      <td>2.000000</td>\n",
       "      <td>10.000000</td>\n",
       "      <td>13.000000</td>\n",
       "    </tr>\n",
       "    <tr>\n",
       "      <th>50%</th>\n",
       "      <td>399.000000</td>\n",
       "      <td>22.000000</td>\n",
       "      <td>42.000000</td>\n",
       "      <td>2023.000000</td>\n",
       "      <td>6.000000</td>\n",
       "      <td>16.000000</td>\n",
       "      <td>16.000000</td>\n",
       "    </tr>\n",
       "    <tr>\n",
       "      <th>75%</th>\n",
       "      <td>622.000000</td>\n",
       "      <td>25.000000</td>\n",
       "      <td>50.000000</td>\n",
       "      <td>2023.000000</td>\n",
       "      <td>9.000000</td>\n",
       "      <td>23.000000</td>\n",
       "      <td>19.000000</td>\n",
       "    </tr>\n",
       "    <tr>\n",
       "      <th>max</th>\n",
       "      <td>731.000000</td>\n",
       "      <td>40.000000</td>\n",
       "      <td>80.000000</td>\n",
       "      <td>2023.000000</td>\n",
       "      <td>12.000000</td>\n",
       "      <td>31.000000</td>\n",
       "      <td>23.000000</td>\n",
       "    </tr>\n",
       "  </tbody>\n",
       "</table>\n",
       "</div>"
      ],
      "text/plain": [
       "       Unnamed: 0    Retweets       Likes         Year       Month  \\\n",
       "count  325.000000  325.000000  325.000000   325.000000  325.000000   \n",
       "mean   376.803077   21.492308   42.815385  2021.320000    5.778462   \n",
       "std    247.515228    6.833837   13.623115     2.494884    3.572896   \n",
       "min      0.000000    5.000000   10.000000  2012.000000    1.000000   \n",
       "25%    102.000000   18.000000   35.000000  2020.000000    2.000000   \n",
       "50%    399.000000   22.000000   42.000000  2023.000000    6.000000   \n",
       "75%    622.000000   25.000000   50.000000  2023.000000    9.000000   \n",
       "max    731.000000   40.000000   80.000000  2023.000000   12.000000   \n",
       "\n",
       "              Day        Hour  \n",
       "count  325.000000  325.000000  \n",
       "mean    16.203077   15.430769  \n",
       "std      8.716133    3.941584  \n",
       "min      1.000000    0.000000  \n",
       "25%     10.000000   13.000000  \n",
       "50%     16.000000   16.000000  \n",
       "75%     23.000000   19.000000  \n",
       "max     31.000000   23.000000  "
      ]
     },
     "execution_count": 3,
     "metadata": {},
     "output_type": "execute_result"
    }
   ],
   "source": [
    "dat.describe()"
   ]
  },
  {
   "cell_type": "code",
   "execution_count": 4,
   "metadata": {},
   "outputs": [
    {
     "data": {
      "text/html": [
       "<div>\n",
       "<style scoped>\n",
       "    .dataframe tbody tr th:only-of-type {\n",
       "        vertical-align: middle;\n",
       "    }\n",
       "\n",
       "    .dataframe tbody tr th {\n",
       "        vertical-align: top;\n",
       "    }\n",
       "\n",
       "    .dataframe thead th {\n",
       "        text-align: right;\n",
       "    }\n",
       "</style>\n",
       "<table border=\"1\" class=\"dataframe\">\n",
       "  <thead>\n",
       "    <tr style=\"text-align: right;\">\n",
       "      <th></th>\n",
       "      <th>Text</th>\n",
       "      <th>Sentiment</th>\n",
       "      <th>Timestamp</th>\n",
       "      <th>User</th>\n",
       "      <th>Platform</th>\n",
       "      <th>Hashtags</th>\n",
       "      <th>Country</th>\n",
       "    </tr>\n",
       "  </thead>\n",
       "  <tbody>\n",
       "    <tr>\n",
       "      <th>count</th>\n",
       "      <td>325</td>\n",
       "      <td>325</td>\n",
       "      <td>325</td>\n",
       "      <td>325</td>\n",
       "      <td>325</td>\n",
       "      <td>325</td>\n",
       "      <td>325</td>\n",
       "    </tr>\n",
       "    <tr>\n",
       "      <th>unique</th>\n",
       "      <td>315</td>\n",
       "      <td>2</td>\n",
       "      <td>314</td>\n",
       "      <td>311</td>\n",
       "      <td>3</td>\n",
       "      <td>311</td>\n",
       "      <td>65</td>\n",
       "    </tr>\n",
       "    <tr>\n",
       "      <th>top</th>\n",
       "      <td>A playful escapade in the carnival of life, c...</td>\n",
       "      <td>Positive</td>\n",
       "      <td>2018-08-22 17:20:00</td>\n",
       "      <td>CarnivalDreamer</td>\n",
       "      <td>Twitter</td>\n",
       "      <td>#Playful #CarnivalEscapade</td>\n",
       "      <td>USA</td>\n",
       "    </tr>\n",
       "    <tr>\n",
       "      <th>freq</th>\n",
       "      <td>3</td>\n",
       "      <td>229</td>\n",
       "      <td>3</td>\n",
       "      <td>3</td>\n",
       "      <td>111</td>\n",
       "      <td>3</td>\n",
       "      <td>38</td>\n",
       "    </tr>\n",
       "  </tbody>\n",
       "</table>\n",
       "</div>"
      ],
      "text/plain": [
       "                                                     Text Sentiment  \\\n",
       "count                                                 325       325   \n",
       "unique                                                315         2   \n",
       "top      A playful escapade in the carnival of life, c...  Positive   \n",
       "freq                                                    3       229   \n",
       "\n",
       "                  Timestamp               User Platform  \\\n",
       "count                   325                325      325   \n",
       "unique                  314                311        3   \n",
       "top     2018-08-22 17:20:00   CarnivalDreamer   Twitter   \n",
       "freq                      3                  3      111   \n",
       "\n",
       "                            Hashtags Country  \n",
       "count                            325     325  \n",
       "unique                           311      65  \n",
       "top      #Playful #CarnivalEscapade      USA  \n",
       "freq                               3      38  "
      ]
     },
     "execution_count": 4,
     "metadata": {},
     "output_type": "execute_result"
    }
   ],
   "source": [
    "dat.describe(include = \"object\")"
   ]
  },
  {
   "cell_type": "markdown",
   "metadata": {},
   "source": [
    "### Задание 2\n",
    "\n",
    "Выберите из датафрейма `dat` строки, которые соответствуют постам, опубликованным в Instagram (запрещён в РФ) и сохраните их в датафрейм `dat_inst`."
   ]
  },
  {
   "cell_type": "code",
   "execution_count": 5,
   "metadata": {},
   "outputs": [],
   "source": [
    "dat_inst = dat[dat[\"Platform\"] == \"Instagram\"]"
   ]
  },
  {
   "cell_type": "markdown",
   "metadata": {},
   "source": [
    "### Задание 3\n",
    "\n",
    "Используя данные из датафрейма `dat_inst`, сгруппируйте посты по их эмоциональной окраске (Positive/Negative) и выведите для каждой группы описательные статистики для числа лайков. Проинтерпретируйте полученные результаты – обратите особое внимание на средние и стандартные отклонения."
   ]
  },
  {
   "cell_type": "code",
   "execution_count": 6,
   "metadata": {},
   "outputs": [
    {
     "data": {
      "text/html": [
       "<div>\n",
       "<style scoped>\n",
       "    .dataframe tbody tr th:only-of-type {\n",
       "        vertical-align: middle;\n",
       "    }\n",
       "\n",
       "    .dataframe tbody tr th {\n",
       "        vertical-align: top;\n",
       "    }\n",
       "\n",
       "    .dataframe thead th {\n",
       "        text-align: right;\n",
       "    }\n",
       "</style>\n",
       "<table border=\"1\" class=\"dataframe\">\n",
       "  <thead>\n",
       "    <tr style=\"text-align: right;\">\n",
       "      <th></th>\n",
       "      <th>count</th>\n",
       "      <th>mean</th>\n",
       "      <th>std</th>\n",
       "      <th>min</th>\n",
       "      <th>25%</th>\n",
       "      <th>50%</th>\n",
       "      <th>75%</th>\n",
       "      <th>max</th>\n",
       "    </tr>\n",
       "    <tr>\n",
       "      <th>Sentiment</th>\n",
       "      <th></th>\n",
       "      <th></th>\n",
       "      <th></th>\n",
       "      <th></th>\n",
       "      <th></th>\n",
       "      <th></th>\n",
       "      <th></th>\n",
       "      <th></th>\n",
       "    </tr>\n",
       "  </thead>\n",
       "  <tbody>\n",
       "    <tr>\n",
       "      <th>Negative</th>\n",
       "      <td>31.0</td>\n",
       "      <td>35.709677</td>\n",
       "      <td>14.706447</td>\n",
       "      <td>15.0</td>\n",
       "      <td>25.0</td>\n",
       "      <td>35.0</td>\n",
       "      <td>45.0</td>\n",
       "      <td>70.0</td>\n",
       "    </tr>\n",
       "    <tr>\n",
       "      <th>Positive</th>\n",
       "      <td>77.0</td>\n",
       "      <td>49.220779</td>\n",
       "      <td>14.121301</td>\n",
       "      <td>25.0</td>\n",
       "      <td>38.0</td>\n",
       "      <td>45.0</td>\n",
       "      <td>60.0</td>\n",
       "      <td>80.0</td>\n",
       "    </tr>\n",
       "  </tbody>\n",
       "</table>\n",
       "</div>"
      ],
      "text/plain": [
       "           count       mean        std   min   25%   50%   75%   max\n",
       "Sentiment                                                           \n",
       "Negative    31.0  35.709677  14.706447  15.0  25.0  35.0  45.0  70.0\n",
       "Positive    77.0  49.220779  14.121301  25.0  38.0  45.0  60.0  80.0"
      ]
     },
     "execution_count": 6,
     "metadata": {},
     "output_type": "execute_result"
    }
   ],
   "source": [
    "dat_inst.groupby(\"Sentiment\")[\"Likes\"].describe()"
   ]
  },
  {
   "cell_type": "markdown",
   "metadata": {},
   "source": [
    "### Задание 4\n",
    "\n",
    "Выберите из датафрейма `dat_inst` строки, соответствующие положительно окрашенным постам, и сохраните их в датафрейм `pos`. Выберите из датафрейма `dat_inst` строки, соответствующие отрицательно окрашенным постам, и сохраните их в датафрейм `neg`."
   ]
  },
  {
   "cell_type": "code",
   "execution_count": 7,
   "metadata": {},
   "outputs": [],
   "source": [
    "pos = dat_inst[dat_inst[\"Sentiment\"] == \"Positive\"]\n",
    "neg = dat_inst[dat_inst[\"Sentiment\"] == \"Negative\"]"
   ]
  },
  {
   "cell_type": "markdown",
   "metadata": {},
   "source": [
    "## Часть 2: работа со средними"
   ]
  },
  {
   "cell_type": "markdown",
   "metadata": {},
   "source": [
    "### Задание 1\n",
    "\n",
    "Вычислите среднее число лайков у положительно окрашенных постов в `pos`, сохраните его в переменную `pos_average`. Вычислите на основе этой выборки стандартную ошибку среднего и сохраните в переменную `se_pos`. Определите объём выборки и сохраните его в переменную `pos_n`. \n",
    "\n",
    "Постройте 95%-ный доверительный интервал для среднего числа лайков положительно окрашенных постов. Проинтерпретируйте полученный интервал.\n",
    "\n",
    "**Подсказка:** функция `t.interval()` из модуля `stats`; на первом месте указывается уровень доверия (в виде вероятности), на втором в аргументе `loc` – среднее, на третьем в аргументе `scale` – стандартная ошибка среднего."
   ]
  },
  {
   "cell_type": "code",
   "execution_count": 8,
   "metadata": {},
   "outputs": [],
   "source": [
    "# среднее\n",
    "\n",
    "pos_average = pos[\"Likes\"].mean()\n",
    "\n",
    "# стандартная ошибка\n",
    "# готовая функция sem() из stats,\n",
    "# от standard error of a mean\n",
    "\n",
    "se_pos = stats.sem(pos[\"Likes\"])\n",
    "\n",
    "# объем выборки\n",
    "\n",
    "pos_n = pos[\"Likes\"].size"
   ]
  },
  {
   "cell_type": "code",
   "execution_count": 9,
   "metadata": {},
   "outputs": [
    {
     "data": {
      "text/plain": [
       "(46.015637052986044, 52.4259213885724)"
      ]
     },
     "execution_count": 9,
     "metadata": {},
     "output_type": "execute_result"
    }
   ],
   "source": [
    "# доверительный интервал\n",
    "# обратите внимание на df\n",
    "\n",
    "stats.t.interval(0.95, loc = pos_average, scale = se_pos, df = pos_n - 1)"
   ]
  },
  {
   "cell_type": "markdown",
   "metadata": {},
   "source": [
    ">**Примечание.** Помимо указанных в условии аргументов для вычисления границ доверительного интервала для среднего через `t.interval()` необходимо зафиксировать значение `df`, которое всегда в таком случае равно $n-1$. Значение, на которое домножается стандартная ошибка среднего при построении интервала, извлекается из распределения Стьюдента, оно же t-распределение (отсюда и функция `t.interval()`) с параметром *число степеней свободы* $\\text{df}$ (от *degrees of freedom)*. Без числа степеней свободы задать распределение Стьюдента невозможно, распределений Стьюдента вообще бесконечно много, а с фиксированным числом степеней свободы оно одно.\n",
    "\n",
    ">**Интерпретация.** С 95% уверенностью можно заключить, что истинное среднее значение числа лайков у положительно окрашенных постов лежит в интервале от 46 до 52. Истинное среднее значение – значение для всей генеральной совокупности, то есть для всех положительно окрашенных постов, а не только для тех, которые представлены в наших данных (про них мы и так все точно знаем на 100%, видели описательные статистики в виде конкретных чисел). "
   ]
  },
  {
   "cell_type": "markdown",
   "metadata": {},
   "source": [
    "### Задание 2\n",
    "\n",
    "Вычислите среднее число лайков у отрицательно окрашенных постов в `neg`, сохраните его в переменную `neg_average`. Вычислите на основе этой выборки стандартную ошибку среднего и сохраните в переменную `se_neg`. Определите объём выборки и сохраните его в переменную `neg_n`. \n",
    "\n",
    "Постройте 95%-ный доверительный интервал для среднего числа лайков отрицательно окрашенных постов. Проинтерпретируйте полученный интервал."
   ]
  },
  {
   "cell_type": "code",
   "execution_count": 10,
   "metadata": {},
   "outputs": [
    {
     "data": {
      "text/plain": [
       "(30.315309277038022, 41.104045561671654)"
      ]
     },
     "execution_count": 10,
     "metadata": {},
     "output_type": "execute_result"
    }
   ],
   "source": [
    "neg_average = neg[\"Likes\"].mean()\n",
    "se_neg = stats.sem(neg[\"Likes\"])\n",
    "neg_n = neg[\"Likes\"].size\n",
    "\n",
    "stats.t.interval(0.95, loc = neg_average, scale = se_neg, df = neg_n - 1)"
   ]
  },
  {
   "cell_type": "markdown",
   "metadata": {},
   "source": [
    ">**Интерпретация.** С 95% уверенностью можно заключить, что истинное среднее значение числа лайков у отрицательно окрашенных постов лежит в интервале от 30 до 41. \n",
    "\n",
    ">**Полезное замечание.** Если мы, приняв уровень доверия 95%, зададимся вопросом, можно ли считать среднее число лайков у положительно и отрицательно окрашенных постов одинаковым, ответ будет отрицательным, так как 95%-ные доверительные интервалы не пересекаются (интервал от 30 до 41 и интервал от 46 до 52). Если бы интервалы пересекались, однозначного ответа дать бы мы не смогли, все зависит от того, насколько велико пересечение, поэтому пришлось бы прибегнуть к более строгому способу проверки - проверки гипотезы о равенстве средних с помощью критерия Стьюдента (см. задание 4). \n",
    "\n",
    ">**Дополнение.** При этом, если мы проверяем справедливость утверждений по одному доверительному интервалу, для одного среднего или для одной доли, там все однозначно. Если интересующее нас значение входит в доверительный интервал, то есть, если интервал его «накрывает», то на выбранном уровне доверия истинное значение параметра может быть равно этому значению, если нет – то не может."
   ]
  },
  {
   "cell_type": "markdown",
   "metadata": {},
   "source": [
    "### Задание 3\n",
    "\n",
    "Постройте 90%-ный и 99%-ный доверительный интервал для среднего числа лайков отрицательно окрашенных постов. Прокомментируйте полученные результаты."
   ]
  },
  {
   "cell_type": "code",
   "execution_count": 11,
   "metadata": {},
   "outputs": [
    {
     "name": "stdout",
     "output_type": "stream",
     "text": [
      "(31.22660755788938, 40.1927472808203)\n",
      "(28.445960524314074, 42.973394314395605)\n"
     ]
    }
   ],
   "source": [
    "print(stats.t.interval(0.90, loc = neg_average, scale = se_neg, df = neg_n - 1))\n",
    "print(stats.t.interval(0.99, loc = neg_average, scale = se_neg, df = neg_n - 1))"
   ]
  },
  {
   "cell_type": "markdown",
   "metadata": {},
   "source": [
    ">Интерпретация аналогична интерпретации выше, только с другим уровнем доверия. Заметим, что 90%-ный интервал самый короткий (от 31 до 40), а 99%-ный интервал – самый длинный (от 28 до 42). При увеличении уровня доверия точность снижается, поэтому мы получаем более «размытые» границы интервала. Формально это происходит потому, что при увеличении уровня доверия t-значение, на которое домножается стандартная ошибка среднего, увеличивается. "
   ]
  },
  {
   "cell_type": "markdown",
   "metadata": {},
   "source": [
    "### Задание 4\n",
    "\n",
    "Реализуйте критерий Стьюдента для двух выборок для сравнения среднего числа лайков положительно и отрицательно окрашенных постов.  Сформулируйте нулевую и альтернативную гипотезу. Проинтерпретируйте полученные результаты, приняв уровень доверия равным 0.95. \n",
    "\n",
    "Подсказка: функция `ttest_ind()` из модуля `stats`, на первое место в этой функции ставится первая выборка (список/массив/столбец датафрейма), на второе – вторая выборка."
   ]
  },
  {
   "cell_type": "code",
   "execution_count": 12,
   "metadata": {},
   "outputs": [
    {
     "data": {
      "text/plain": [
       "Ttest_indResult(statistic=4.44521674351864, pvalue=2.168633987539358e-05)"
      ]
     },
     "execution_count": 12,
     "metadata": {},
     "output_type": "execute_result"
    }
   ],
   "source": [
    "stats.ttest_ind(pos[\"Likes\"], neg[\"Likes\"])"
   ]
  },
  {
   "cell_type": "markdown",
   "metadata": {},
   "source": [
    "> **Гипотезы:** $H_0: \\mu_1 = \\mu_2$ (средние двух генеральных совокупностей равны) и $H_1: \\mu_1 \\ne \\mu_2$ (средние двух генеральных совокупностей не равны). \n",
    "\n",
    "> **Интерпретация:** наблюдаемое значение статистики критерия (`statistic`) равное 4.445 превышает критическое значение статистики для уровня доверия 0.95, которое примерно равно 2, значит, нулевая гипотеза о равенстве средних отвергается, среднее число лайков для положительно окрашенных постов отличается от среднего числа лайков отрицательно окрашеных постов. Значение p-value примерно 0 ($2.16 \\times 10^{-5}$), поэтому данные не свидетельствуют о жизнеспособности нулевой гипотезы. Формально мы должны сравнить p-value с уровнем значимости $\\alpha$, раз уровень доверия 0.95, то уровень значимости 0.05, 0 < 0.05, следовательно, гипотеза отвергается."
   ]
  },
  {
   "cell_type": "markdown",
   "metadata": {},
   "source": [
    "## Часть 3: работа с долями"
   ]
  },
  {
   "cell_type": "markdown",
   "metadata": {},
   "source": [
    "### Задание 1\n",
    "\n",
    "Используя данные из датафрейма `dat_inst`, выведите таблицу частот для эмоциональной окраски поста (`Sentiment`). Постройте на её основе столбиковую диаграмму."
   ]
  },
  {
   "cell_type": "code",
   "execution_count": 13,
   "metadata": {},
   "outputs": [
    {
     "data": {
      "text/plain": [
       "Positive    77\n",
       "Negative    31\n",
       "Name: Sentiment, dtype: int64"
      ]
     },
     "execution_count": 13,
     "metadata": {},
     "output_type": "execute_result"
    }
   ],
   "source": [
    "tab = dat_inst[\"Sentiment\"].value_counts()\n",
    "tab"
   ]
  },
  {
   "cell_type": "code",
   "execution_count": 14,
   "metadata": {},
   "outputs": [
    {
     "name": "stdout",
     "output_type": "stream",
     "text": [
      "Index(['Positive', 'Negative'], dtype='object')\n",
      "[77 31]\n"
     ]
    }
   ],
   "source": [
    "# разбираем таблицу частот на части для диаграммы\n",
    "# index – названия категорий\n",
    "# values – частоты\n",
    "\n",
    "cats = tab.index\n",
    "vals = tab.values\n",
    "print(cats)\n",
    "print(vals)"
   ]
  },
  {
   "cell_type": "code",
   "execution_count": 15,
   "metadata": {},
   "outputs": [
    {
     "data": {
      "image/png": "[encoded data removed]",
      "text/plain": [
       "<Figure size 432x288 with 1 Axes>"
      ]
     },
     "metadata": {
      "needs_background": "light"
     },
     "output_type": "display_data"
    }
   ],
   "source": [
    "from matplotlib import pyplot as plt\n",
    "\n",
    "plt.bar(cats, vals, color = [\"lightgreen\", \"salmon\"]);"
   ]
  },
  {
   "cell_type": "markdown",
   "metadata": {},
   "source": [
    "### Задание 2\n",
    "\n",
    "Вычислите долю положительно окрашенных постов в `dat_inst` и сохраните ее в переменную `p`. Вычислите долю отрицательно окрашенных постов и сохраните ее в переменную `q`. Определите объём выборки и сохраните его в переменную `n`. На основе имеющихся данных вычислите стандартную ошибку доли.\n",
    "\n",
    "Постройте 95%-ный доверительный интервал для доли положительно окрашенных постов. Проинтерпретируйте полученный интервал.\n",
    "\n",
    "**Подсказка:** функция `norm.interval()` из модуля `stats`; на первом месте указывается уровень доверия (в виде вероятности), на втором в аргументе `loc` – доля, на третьем в аргументе `scale` – стандартная ошибка доли."
   ]
  },
  {
   "cell_type": "code",
   "execution_count": 16,
   "metadata": {},
   "outputs": [
    {
     "name": "stdout",
     "output_type": "stream",
     "text": [
      "Positive    77\n",
      "Negative    31\n",
      "Name: Sentiment, dtype: int64\n"
     ]
    }
   ],
   "source": [
    "# вернемся к таблице частот\n",
    "print(tab)"
   ]
  },
  {
   "cell_type": "code",
   "execution_count": 17,
   "metadata": {},
   "outputs": [
    {
     "name": "stdout",
     "output_type": "stream",
     "text": [
      "108\n"
     ]
    }
   ],
   "source": [
    "# зафиксируем объем выборки – это сумма частот в tab\n",
    "n = tab.sum()\n",
    "print(n)"
   ]
  },
  {
   "cell_type": "code",
   "execution_count": 18,
   "metadata": {},
   "outputs": [
    {
     "name": "stdout",
     "output_type": "stream",
     "text": [
      "0.7129629629629629 0.2870370370370371\n"
     ]
    }
   ],
   "source": [
    "# найдем долю Positive и обратную к ней\n",
    "p = 77 / n\n",
    "q = 1 - p\n",
    "print(p, q)"
   ]
  },
  {
   "cell_type": "code",
   "execution_count": 19,
   "metadata": {},
   "outputs": [
    {
     "name": "stdout",
     "output_type": "stream",
     "text": [
      "0.04353019135399183\n"
     ]
    }
   ],
   "source": [
    "# найдем стандартную ошибку – готовой функции нет,\n",
    "# используем формулу\n",
    "# вместо sqrt() возводим в степень 0.5,\n",
    "# степень 1/2 – это и есть квадратный корень\n",
    "\n",
    "se = (p * (1 - p) / n) ** 0.5\n",
    "print(se)"
   ]
  },
  {
   "cell_type": "code",
   "execution_count": 20,
   "metadata": {},
   "outputs": [
    {
     "data": {
      "text/plain": [
       "(0.627645355669002, 0.7982805702569238)"
      ]
     },
     "execution_count": 20,
     "metadata": {},
     "output_type": "execute_result"
    }
   ],
   "source": [
    "# строим интервал\n",
    "stats.norm.interval(0.95, loc = p, scale = se)"
   ]
  },
  {
   "cell_type": "markdown",
   "metadata": {},
   "source": [
    ">**Интерпретация.** С 95% уверенностью можем заключить, что истинное значение доли положительно окрашенных постов в Инстаграме лежит в интервале от 0.62 до 0.79. Интервал получился не очень узким, что ожидаемо, объем выборки здесь 77, больше 30, но все-таки маловат."
   ]
  }
 ],
 "metadata": {
  "kernelspec": {
   "display_name": "Python 3",
   "language": "python",
   "name": "python3"
  },
  "language_info": {
   "codemirror_mode": {
    "name": "ipython",
    "version": 3
   },
   "file_extension": ".py",
   "mimetype": "text/x-python",
   "name": "python",
   "nbconvert_exporter": "python",
   "pygments_lexer": "ipython3",
   "version": "3.7.4"
  }
 },
 "nbformat": 4,
 "nbformat_minor": 2
}
