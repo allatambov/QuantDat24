{
 "cells": [
  {
   "cell_type": "markdown",
   "metadata": {},
   "source": [
    "# Основы работы с количественными данными\n",
    "\n",
    "*Алла Тамбовцева*\n",
    "\n",
    "## Лекция 1. Введение в Python\n",
    "\n",
    "* Базовые арифметические операции\n",
    "* Функции и импорты\n",
    "* Особенности работы с дробными числами\n",
    "* Переменные и присваивание\n",
    "* Проверка условий\n",
    "\n",
    "### Базовые арифметические операции\n",
    "\n",
    "Выполнение операций в Python происходит благодаря **операторам** или **функциям**. На **операторы** можно смотреть как на специальные символы, отвечающие за определённые действия. Начнём с простых арифметических операций.\n",
    "\n",
    "Базовые операции выполняются с помощью операторов, знакомых всем по работе с калькуляторами:\n",
    "\n",
    "* операторы `+` и `-` для сложения и вычитания;\n",
    "* операторы `*` и `/` для умножения и деления.\n",
    "\n",
    "Посмотрим на пример:"
   ]
  },
  {
   "cell_type": "code",
   "execution_count": 3,
   "metadata": {},
   "outputs": [
    {
     "data": {
      "text/plain": [
       "250"
      ]
     },
     "execution_count": 3,
     "metadata": {},
     "output_type": "execute_result"
    }
   ],
   "source": [
    "50 + 10 * 20"
   ]
  },
  {
   "cell_type": "markdown",
   "metadata": {},
   "source": [
    "Python, как и другие языки программирования, не чувствителен к пробелам, поэтому выражение выше можно было бы записать и без пробелов вокруг операторов, но по стандартам оформления кода такой вариант считается менее предпочтительным (вообще в Python много «эстетических» принципов, которые направлены на то, чтобы код выглядел понятно, аккуратно и единообразно):"
   ]
  },
  {
   "cell_type": "code",
   "execution_count": 4,
   "metadata": {},
   "outputs": [
    {
     "data": {
      "text/plain": [
       "250"
      ]
     },
     "execution_count": 4,
     "metadata": {},
     "output_type": "execute_result"
    }
   ],
   "source": [
    "50+10*20"
   ]
  },
  {
   "cell_type": "markdown",
   "metadata": {},
   "source": [
    "Порядок действий при вычислениях такой же, как и в математике, поэтому при необходимости его изменения пригодятся скобки:"
   ]
  },
  {
   "cell_type": "code",
   "execution_count": 5,
   "metadata": {},
   "outputs": [
    {
     "data": {
      "text/plain": [
       "1200"
      ]
     },
     "execution_count": 5,
     "metadata": {},
     "output_type": "execute_result"
    }
   ],
   "source": [
    "(50 + 10) * 20"
   ]
  },
  {
   "cell_type": "markdown",
   "metadata": {},
   "source": [
    "При делении результат всегда получается в виде дробного числа (числа с плавающей точкой), даже если результат целочисленный:"
   ]
  },
  {
   "cell_type": "code",
   "execution_count": 6,
   "metadata": {},
   "outputs": [
    {
     "data": {
      "text/plain": [
       "2.857142857142857"
      ]
     },
     "execution_count": 6,
     "metadata": {},
     "output_type": "execute_result"
    }
   ],
   "source": [
    "20 / 7 # разделитель – точка, не запятая"
   ]
  },
  {
   "cell_type": "code",
   "execution_count": 7,
   "metadata": {},
   "outputs": [
    {
     "data": {
      "text/plain": [
       "4.0"
      ]
     },
     "execution_count": 7,
     "metadata": {},
     "output_type": "execute_result"
    }
   ],
   "source": [
    "20 / 5"
   ]
  },
  {
   "cell_type": "markdown",
   "metadata": {},
   "source": [
    "Если нужен ответ в виде целого числа, можно воспользоваться оператором целочисленного деления `//`:"
   ]
  },
  {
   "cell_type": "code",
   "execution_count": 8,
   "metadata": {},
   "outputs": [
    {
     "data": {
      "text/plain": [
       "4"
      ]
     },
     "execution_count": 8,
     "metadata": {},
     "output_type": "execute_result"
    }
   ],
   "source": [
    "20 // 5"
   ]
  },
  {
   "cell_type": "markdown",
   "metadata": {},
   "source": [
    "Если ответ дробный, то в результате просто отбрасывается дробная часть (работает как округление в меньшую сторону):"
   ]
  },
  {
   "cell_type": "code",
   "execution_count": 9,
   "metadata": {},
   "outputs": [
    {
     "data": {
      "text/plain": [
       "2"
      ]
     },
     "execution_count": 9,
     "metadata": {},
     "output_type": "execute_result"
    }
   ],
   "source": [
    "20 // 7"
   ]
  },
  {
   "cell_type": "markdown",
   "metadata": {},
   "source": [
    "Для возведения в степень используется оператор `**`:"
   ]
  },
  {
   "cell_type": "code",
   "execution_count": 10,
   "metadata": {},
   "outputs": [
    {
     "data": {
      "text/plain": [
       "64"
      ]
     },
     "execution_count": 10,
     "metadata": {},
     "output_type": "execute_result"
    }
   ],
   "source": [
    "4 ** 3"
   ]
  },
  {
   "cell_type": "code",
   "execution_count": 11,
   "metadata": {},
   "outputs": [
    {
     "data": {
      "text/plain": [
       "2.23606797749979"
      ]
     },
     "execution_count": 11,
     "metadata": {},
     "output_type": "execute_result"
    }
   ],
   "source": [
    "5 ** 0.5 # квадратный корень - степень 0.5"
   ]
  },
  {
   "cell_type": "markdown",
   "metadata": {},
   "source": [
    "### Функции и импорты"
   ]
  },
  {
   "cell_type": "markdown",
   "metadata": {},
   "source": [
    "Для более сложных операций в Python используются функции. **Функции** – это своего рода команды, которые выполняют определённые операции. Как и у функций в математике, у функций в Python есть **аргумент** – то, к чему эту функцию необходимо применить, чтобы получить результат. Аргумент указывается в круглых скобках после названия функции, таков синтаксис Python. \n",
    "\n",
    "Например, для вывода результата на экран используется функция `print()`:"
   ]
  },
  {
   "cell_type": "code",
   "execution_count": 12,
   "metadata": {},
   "outputs": [
    {
     "name": "stdout",
     "output_type": "stream",
     "text": [
      "10\n"
     ]
    }
   ],
   "source": [
    "# число 10 превратилосьь в текст, он напечатался одной строкой\n",
    "# слева от ячейки нет Out\n",
    "\n",
    "print(20 - 10)"
   ]
  },
  {
   "cell_type": "markdown",
   "metadata": {},
   "source": [
    "Аргументов у функции может быть несколько. Тогда они перечисляются в круглых скобках через запятую. По умолчанию функция `print()` объединяет все части, которые ей подаются на вход через запятую, с помощью пробела и выводит полученное сообщение на экран:"
   ]
  },
  {
   "cell_type": "code",
   "execution_count": 13,
   "metadata": {},
   "outputs": [
    {
     "name": "stdout",
     "output_type": "stream",
     "text": [
      "10 30\n",
      "Сумма: 80\n",
      "Произведение: 1500\n",
      "S O S\n"
     ]
    }
   ],
   "source": [
    "print(20 - 10, 20 + 10)\n",
    "print(\"Сумма:\", 30 + 50)\n",
    "print(\"Произведение:\", 30 * 50)\n",
    "print(\"S\", \"O\", \"S\")"
   ]
  },
  {
   "cell_type": "markdown",
   "metadata": {},
   "source": [
    "Однако при желании разделитель можно изменить, добавив дополнительный аргумент `sep` (от *separator*):"
   ]
  },
  {
   "cell_type": "code",
   "execution_count": 14,
   "metadata": {},
   "outputs": [
    {
     "name": "stdout",
     "output_type": "stream",
     "text": [
      "01-09-2024\n",
      "user_123\n",
      "SOS\n"
     ]
    }
   ],
   "source": [
    "print(\"01\", \"09\", \"2024\", sep = \"-\")\n",
    "print(\"user\", 123, sep = \"_\")\n",
    "print(\"S\", \"O\", \"S\", sep = \"\") # пустая строка в sep"
   ]
  },
  {
   "cell_type": "markdown",
   "metadata": {},
   "source": [
    "Возвращаясь к операциям с числами, посмотрим на функцию `round()` для окруления. По умолчанию она производит обычное арифметическое округление до целых:"
   ]
  },
  {
   "cell_type": "code",
   "execution_count": 15,
   "metadata": {},
   "outputs": [
    {
     "data": {
      "text/plain": [
       "21"
      ]
     },
     "execution_count": 15,
     "metadata": {},
     "output_type": "execute_result"
    }
   ],
   "source": [
    "round(20.576)"
   ]
  },
  {
   "cell_type": "markdown",
   "metadata": {},
   "source": [
    "Но здесь тоже можно добавить дополнительный аргумент – до какого числа знаков после точки необходимо округлять:"
   ]
  },
  {
   "cell_type": "code",
   "execution_count": 16,
   "metadata": {},
   "outputs": [
    {
     "data": {
      "text/plain": [
       "20.58"
      ]
     },
     "execution_count": 16,
     "metadata": {},
     "output_type": "execute_result"
    }
   ],
   "source": [
    "round(20.576, 2) # до сотых"
   ]
  },
  {
   "cell_type": "code",
   "execution_count": 17,
   "metadata": {},
   "outputs": [
    {
     "data": {
      "text/plain": [
       "20.6"
      ]
     },
     "execution_count": 17,
     "metadata": {},
     "output_type": "execute_result"
    }
   ],
   "source": [
    "round(20.576, 1) # до десятых"
   ]
  },
  {
   "cell_type": "markdown",
   "metadata": {},
   "source": [
    "Почему в данном случае мы не указали название аргумента, как мы делали с `sep` в `print()`? Ответ простой – аргумент единственный, название необязательно. А как узнать, какие аргументы есть у функции? Запросить помощью через `help()`:"
   ]
  },
  {
   "cell_type": "code",
   "execution_count": 18,
   "metadata": {},
   "outputs": [
    {
     "name": "stdout",
     "output_type": "stream",
     "text": [
      "Help on built-in function round in module builtins:\n",
      "\n",
      "round(number, ndigits=None)\n",
      "    Round a number to a given precision in decimal digits.\n",
      "    \n",
      "    The return value is an integer if ndigits is omitted or None.  Otherwise\n",
      "    the return value has the same type as the number.  ndigits may be negative.\n",
      "\n"
     ]
    }
   ],
   "source": [
    "help(round)"
   ]
  },
  {
   "cell_type": "markdown",
   "metadata": {},
   "source": [
    "Функции `print()` и `round()`, которые мы рассмотрели – **базовые**. Это означает, что для их использования не нужно подгружать специальные наборы функций, можно просто написать их названия и запускать код. Но часто этих функций не хватает для полноценной работы, особенно если речь идёт о работе с данными. Поэтому возникает необходимость в **модулях** и **библиотеках** – наборах функций, которые служат для решения конкретной группы задач. Модуль обычно меньше библиотеки, а библиотека состоит из нескольких модулей, каждый из которых выполняет определённый набор действий. \n",
    "\n",
    "Чтобы использовать функции из определенной библиотеки или модуля, её сначала нужно импортировать. Иначе Python не поймет, откуда ему эту команду брать, и выдаст ошибку. Например, в модуле `math` для базовых математических операций есть функция `sqrt()` для извлечения квадратного корня. Попробуем её использовать без импорта:"
   ]
  },
  {
   "cell_type": "code",
   "execution_count": 19,
   "metadata": {},
   "outputs": [
    {
     "ename": "NameError",
     "evalue": "name 'sqrt' is not defined",
     "output_type": "error",
     "traceback": [
      "\u001b[0;31m---------------------------------------------------------------------------\u001b[0m",
      "\u001b[0;31mNameError\u001b[0m                                 Traceback (most recent call last)",
      "\u001b[0;32m<ipython-input-19-1152ef625bee>\u001b[0m in \u001b[0;36m<module>\u001b[0;34m\u001b[0m\n\u001b[0;32m----> 1\u001b[0;31m \u001b[0msqrt\u001b[0m\u001b[0;34m(\u001b[0m\u001b[0;36m9\u001b[0m\u001b[0;34m)\u001b[0m \u001b[0;31m# ошибка!\u001b[0m\u001b[0;34m\u001b[0m\u001b[0;34m\u001b[0m\u001b[0m\n\u001b[0m",
      "\u001b[0;31mNameError\u001b[0m: name 'sqrt' is not defined"
     ]
    }
   ],
   "source": [
    "sqrt(9) # ошибка!"
   ]
  },
  {
   "cell_type": "markdown",
   "metadata": {},
   "source": [
    "Ошибка `NameError` – Python пишет, что `sqrt` не определено. Такое возможно в двух случаях:\n",
    "\n",
    "* такой функции действительно нет, мы опечатались;\n",
    "* такая функция есть, но она «спрятана» в библиотеке.\n",
    "\n",
    "Наш случай – второй, поэтому давайте импортируем модуль `math`."
   ]
  },
  {
   "cell_type": "code",
   "execution_count": 20,
   "metadata": {},
   "outputs": [],
   "source": [
    "import math"
   ]
  },
  {
   "cell_type": "markdown",
   "metadata": {},
   "source": [
    "Теперь из `math`, про который Python уже знает, вызовем функцию `sqrt()`:"
   ]
  },
  {
   "cell_type": "code",
   "execution_count": 21,
   "metadata": {},
   "outputs": [
    {
     "data": {
      "text/plain": [
       "3.0"
      ]
     },
     "execution_count": 21,
     "metadata": {},
     "output_type": "execute_result"
    }
   ],
   "source": [
    "math.sqrt(9) # работает"
   ]
  },
  {
   "cell_type": "markdown",
   "metadata": {},
   "source": [
    "В модуле `math` много разных функций, но далеко не все из них нам активно пригодятся. Jupyter Notebook и Google Colab позволяют получить подсказки по содержанию модуля: если напечатать `math.` и после точки нажать на кнопку *Tab* на клавиатуре, откроется выпадающий список доступных функций.\n",
    "\n",
    "Посмотрим на функции `ceil()` и `floor()` для округления в большую и меньшую сторону соответственно (от *ceiling* – потолок и *floor* – пол):"
   ]
  },
  {
   "cell_type": "code",
   "execution_count": 22,
   "metadata": {},
   "outputs": [
    {
     "name": "stdout",
     "output_type": "stream",
     "text": [
      "26\n",
      "25\n"
     ]
    }
   ],
   "source": [
    "print(math.ceil(25.5))\n",
    "print(math.floor(25.5))"
   ]
  },
  {
   "cell_type": "code",
   "execution_count": 23,
   "metadata": {},
   "outputs": [
    {
     "data": {
      "text/plain": [
       "3.0"
      ]
     },
     "execution_count": 23,
     "metadata": {},
     "output_type": "execute_result"
    }
   ],
   "source": [
    "math.log(8, 2) # логарифм 8 по основанию 2"
   ]
  },
  {
   "cell_type": "code",
   "execution_count": 24,
   "metadata": {},
   "outputs": [
    {
     "data": {
      "text/plain": [
       "1.6094379124341003"
      ]
     },
     "execution_count": 24,
     "metadata": {},
     "output_type": "execute_result"
    }
   ],
   "source": [
    "math.log(5) # логарим 5 по основанию e (натуральный логарифм)"
   ]
  },
  {
   "cell_type": "code",
   "execution_count": 25,
   "metadata": {},
   "outputs": [
    {
     "data": {
      "text/plain": [
       "2.9999999999999996"
      ]
     },
     "execution_count": 25,
     "metadata": {},
     "output_type": "execute_result"
    }
   ],
   "source": [
    "math.log(1000, 10) # логарифм 1000 по основанию 10"
   ]
  },
  {
   "cell_type": "markdown",
   "metadata": {},
   "source": [
    "В последнем примере что-то пошло не так: по идее ответ должен быть равен ровно числу 3, так как 10 в кубе – это тысяча. Здесь мы сталкиваемся с **проблемой представления**. О ней мы сейчас поговорим, а пока выйдем из положения – воспользуемся функцией `log10()`, которая даст корректный ответ:"
   ]
  },
  {
   "cell_type": "code",
   "execution_count": 26,
   "metadata": {},
   "outputs": [
    {
     "data": {
      "text/plain": [
       "3.0"
      ]
     },
     "execution_count": 26,
     "metadata": {},
     "output_type": "execute_result"
    }
   ],
   "source": [
    "math.log10(1000) # 10 в степени 3 равно 1000"
   ]
  },
  {
   "cell_type": "markdown",
   "metadata": {},
   "source": [
    "### Особенности работы с дробными числами\n",
    "\n",
    "Чтобы понять, что такое проблема представления, с которой мы столкнулись выше, возьмём пример попроще. Посмотрим на округление числа 3.525 до сотых:"
   ]
  },
  {
   "cell_type": "code",
   "execution_count": 27,
   "metadata": {},
   "outputs": [
    {
     "data": {
      "text/plain": [
       "3.52"
      ]
     },
     "execution_count": 27,
     "metadata": {},
     "output_type": "execute_result"
    }
   ],
   "source": [
    "round(3.525, 2)"
   ]
  },
  {
   "cell_type": "markdown",
   "metadata": {},
   "source": [
    "Получили странный результат, поскольку при обычном арифметическом округлении ожидается результат 3.53. Эти странности связаны с тем, что число, которое мы видим, не совпадает с тем, которое хранится в компьютере (так называемая «проблема представления», возникающая из-за конфликта Python и архитектуры системы при преобразовании чисел из десятичной системы в двоичную и обратно). Чтобы понять, как Python видит число 3.525 при обработке, обратимся к модулю `decimal`:"
   ]
  },
  {
   "cell_type": "code",
   "execution_count": 28,
   "metadata": {},
   "outputs": [
    {
     "data": {
      "text/plain": [
       "Decimal('3.524999999999999911182158029987476766109466552734375')"
      ]
     },
     "execution_count": 28,
     "metadata": {},
     "output_type": "execute_result"
    }
   ],
   "source": [
    "import decimal\n",
    "decimal.Decimal(3.525)"
   ]
  },
  {
   "cell_type": "markdown",
   "metadata": {},
   "source": [
    "Такое число будет законно округляться до 3.52 по правилам арифметического округления. Такая же проблема возникла ранее и с логарифмом, поскольку функция `log()` настроена на работу с дробными числами. А в функции `log10()` эта проблема уже скорректирована.\n",
    "\n",
    "С одной стороны, полезно помнить, что числа с плавающей точкой не рекомендуется использовать в финансовых вычислениях и вообще в вычислениях, требующих высокой точности, поскольку они «накапливают ошибку», то есть могут давать неточные результаты. С другой стороны, важно понимать, что эта проблема решаема. Вместо того чтобы использовать дробные числа в виде чисел с плаващей точкой «как есть», можно вопользоваться тем же модулем `decimal` или модулем `fractions`, если речь идёт об обычных дробях. Но мы углубляться в такие тонкости не будем. \n",
    "\n",
    "С какими ещё особенностями можно столкнуться при работе с дробными числами? С **компьютерной записью числа** (она же научная):"
   ]
  },
  {
   "cell_type": "code",
   "execution_count": 29,
   "metadata": {},
   "outputs": [
    {
     "data": {
      "text/plain": [
       "6.5536e-12"
      ]
     },
     "execution_count": 29,
     "metadata": {},
     "output_type": "execute_result"
    }
   ],
   "source": [
    "1 / 25 ** 8"
   ]
  },
  {
   "cell_type": "markdown",
   "metadata": {},
   "source": [
    "Результат выше – компьютерная форма экспоненциальной записи числа. Здесь `e-12` – это $10^{-12}$, а вся запись означает \n",
    "$6.5536 * 10^{-12}$, то есть примерно 0. Эта форма записи объясняет, почему дробные числа в Python называются **числами с плавающей точкой** (от *floating point numbers*). Мы можем представить дробное число в виде произведения какой-то дроби и числа 10, возведённого в какую-то степень. Так, число выше, это и $6.5536 * 10^{-12}$, и $0.65536 * 10^{-11}$, и $65.536 * 10^{-13}$. Получается, точка, которая отделяет дробную часть от целой, «плавает», однако само число не меняется, так как степень десятки обязательно корректируется.\n",
    "\n",
    "Теоретически, если число было очень большим, `e` стояло бы в положительной степени. Но в Python такое не случается, обычно он выводит огромные числа, просто переходя на новую строку, если места на одной не хватает:"
   ]
  },
  {
   "cell_type": "code",
   "execution_count": 30,
   "metadata": {},
   "outputs": [
    {
     "data": {
      "text/plain": [
       "12899047957225248523006646539464335721979411301041340884781899303831010765027442196396594170642790934375007246578677182803636590164161819235523359334210795997877313526230138186880373768216363562984711930606834390635683889567066017501638286295454450223592921380025243612655929972891854670089005958782301313748919257409270999076443855743717129316401343809648755190213387432370099603517989905917859013302341878321325941570315088698234189444110362237214217846884135935952399097352427521852877620725021626938113437232848226058128334528859922677792198697568021708059256675191088006467069748109014817451375952598349790911535607651796493584493889427435570940502359773301622881259890983839926411232560174739455589741388073805529446667461505169110660161765843273557623843219490805708791092602475974648916336329253754550331716502327365416889998212147857020330942368277430427804385066546271943413689950822020931400593245046303758610973943882235592749794293155060009636680119916358947879472882782808870076229635495297702820410851089251120079429452529354919596272075046635023793735251154878700529432000342403111069160632592433095161936605646694694109530441088995393229754160740330575038216906404744009495445586324655891258721903641299986081018110880120922925030222636715904777957341225983442938451506259053249716900875692689602609775497863867095485915444153828849"
      ]
     },
     "execution_count": 30,
     "metadata": {},
     "output_type": "execute_result"
    }
   ],
   "source": [
    "23 ** 990"
   ]
  },
  {
   "cell_type": "markdown",
   "metadata": {},
   "source": [
    "### Переменные и присваивание\n",
    "\n",
    "В Python, вне зависимости от того, с чем мы работаем (с отдельными числами, с набором чисел, с таблицами), интересующие нас объекты имеет смысл сохранять в переменные.\n",
    "\n",
    "На переменную можно смотреть как на контейнер, в который можно «положить» любой объект, чтобы потом удобным образом обратиться к нему по короткому названию. Например, мы можем сохранить в переменные `x` и `y` числа 2 и 3, а затем, не переписывая сами числа, производить с ними любые манипуляции:"
   ]
  },
  {
   "cell_type": "code",
   "execution_count": 31,
   "metadata": {},
   "outputs": [],
   "source": [
    "x = 2\n",
    "y = 3"
   ]
  },
  {
   "cell_type": "code",
   "execution_count": 32,
   "metadata": {},
   "outputs": [
    {
     "name": "stdout",
     "output_type": "stream",
     "text": [
      "1.2\n",
      "0 1\n"
     ]
    }
   ],
   "source": [
    "print((x * y) / (x + y))\n",
    "print(x // y, y // x)"
   ]
  },
  {
   "cell_type": "markdown",
   "metadata": {},
   "source": [
    "Если мы хотим изменить значение переменной, мы можем перезаписать его ещё раз через оператор присваивания `=`:"
   ]
  },
  {
   "cell_type": "code",
   "execution_count": 33,
   "metadata": {},
   "outputs": [
    {
     "name": "stdout",
     "output_type": "stream",
     "text": [
      "10 3\n"
     ]
    }
   ],
   "source": [
    "x = 10\n",
    "print(x, y)"
   ]
  },
  {
   "cell_type": "markdown",
   "metadata": {},
   "source": [
    "Кроме того, можно взять уже сохранённое в переменной значение и «отредактировать» его, например, увеличить или уменьшить:"
   ]
  },
  {
   "cell_type": "code",
   "execution_count": 34,
   "metadata": {},
   "outputs": [
    {
     "name": "stdout",
     "output_type": "stream",
     "text": [
      "20\n"
     ]
    }
   ],
   "source": [
    "x = x * 2\n",
    "print(x)"
   ]
  },
  {
   "cell_type": "code",
   "execution_count": 35,
   "metadata": {},
   "outputs": [
    {
     "name": "stdout",
     "output_type": "stream",
     "text": [
      "19\n"
     ]
    }
   ],
   "source": [
    "x = x - 1\n",
    "print(x)"
   ]
  },
  {
   "cell_type": "markdown",
   "metadata": {},
   "source": [
    "Названия переменных в Python могут быть почти любыми. Три общих правила: название переменной не должно начинаться с цифры, в названии не должно быть пробелов, название не должно совпадать со служебными (зарезервированными) словами в Python. Список зарезервированных слов можно узнать так:"
   ]
  },
  {
   "cell_type": "code",
   "execution_count": 36,
   "metadata": {},
   "outputs": [
    {
     "name": "stdout",
     "output_type": "stream",
     "text": [
      "['False', 'None', 'True', 'and', 'as', 'assert', 'async', 'await', 'break', 'class', 'continue', 'def', 'del', 'elif', 'else', 'except', 'finally', 'for', 'from', 'global', 'if', 'import', 'in', 'is', 'lambda', 'nonlocal', 'not', 'or', 'pass', 'raise', 'return', 'try', 'while', 'with', 'yield']\n"
     ]
    }
   ],
   "source": [
    "import keyword\n",
    "print(keyword.kwlist)"
   ]
  },
  {
   "cell_type": "markdown",
   "metadata": {},
   "source": [
    "Обычно рекомендуется давать переменным осмысленные названия: если речь идёт о доходе, называть переменную не `x`, а `income`, если речь идёт о данных по преступности, сохранять таблицу в переменную `crimes`, и так далее."
   ]
  },
  {
   "cell_type": "markdown",
   "metadata": {},
   "source": [
    "### Проверка условий\n",
    "\n",
    "Сохраним в переменную `age` возраст респондента:"
   ]
  },
  {
   "cell_type": "code",
   "execution_count": 37,
   "metadata": {},
   "outputs": [],
   "source": [
    "age = 24"
   ]
  },
  {
   "cell_type": "markdown",
   "metadata": {},
   "source": [
    "Сравним возраст с 18 с помощью операторов `>` и `<`:"
   ]
  },
  {
   "cell_type": "code",
   "execution_count": 38,
   "metadata": {},
   "outputs": [
    {
     "data": {
      "text/plain": [
       "True"
      ]
     },
     "execution_count": 38,
     "metadata": {},
     "output_type": "execute_result"
    }
   ],
   "source": [
    "age > 18"
   ]
  },
  {
   "cell_type": "code",
   "execution_count": 39,
   "metadata": {},
   "outputs": [
    {
     "data": {
      "text/plain": [
       "False"
      ]
     },
     "execution_count": 39,
     "metadata": {},
     "output_type": "execute_result"
    }
   ],
   "source": [
    "age < 18"
   ]
  },
  {
   "cell_type": "markdown",
   "metadata": {},
   "source": [
    "В результате проверки условий мы получили значения `True` и `False` логического типа, «истина» или «ложь». Чтобы проверить точное соответствие значению, потребуется оператор `==` (двойное «равно», чтобы отличать от обычного присваивания с `=`):"
   ]
  },
  {
   "cell_type": "code",
   "execution_count": 40,
   "metadata": {},
   "outputs": [
    {
     "data": {
      "text/plain": [
       "False"
      ]
     },
     "execution_count": 40,
     "metadata": {},
     "output_type": "execute_result"
    }
   ],
   "source": [
    "age == 18"
   ]
  },
  {
   "cell_type": "markdown",
   "metadata": {},
   "source": [
    "Нестрогие неравенства (больше или равно, меньше или равно) формулируются с помощью составных операторов:"
   ]
  },
  {
   "cell_type": "code",
   "execution_count": 41,
   "metadata": {},
   "outputs": [
    {
     "name": "stdout",
     "output_type": "stream",
     "text": [
      "True\n",
      "False\n"
     ]
    }
   ],
   "source": [
    "# нет пробела между > и =\n",
    "    \n",
    "print(age >= 18)\n",
    "print(age <= 18)"
   ]
  },
  {
   "cell_type": "markdown",
   "metadata": {},
   "source": [
    "Условия можно объединять с помощью специальных логических операторов. Чаще используются следующие два оператора:\n",
    "    \n",
    "* оператор `and` или `&` для логического «И» (одновременное выполнение условий);\n",
    "* оператор `or` или `|` для логического «ИЛИ» (хотя бы одно из условий верно).\n",
    "\n",
    "«Словесные» операторы `and` и `or` в Python активно используются, но вот библиотеки для работы с данными, которые мы будем использовать далее, признают только «символьные» операторы. Давайте создадим переменные `one` и `two` и проверим разные условия."
   ]
  },
  {
   "cell_type": "code",
   "execution_count": 42,
   "metadata": {},
   "outputs": [],
   "source": [
    "one = 100\n",
    "two = 200"
   ]
  },
  {
   "cell_type": "code",
   "execution_count": 43,
   "metadata": {},
   "outputs": [
    {
     "data": {
      "text/plain": [
       "True"
      ]
     },
     "execution_count": 43,
     "metadata": {},
     "output_type": "execute_result"
    }
   ],
   "source": [
    "# True & True = True, оба верны\n",
    "\n",
    "(one >= 100) & (two >= 100)"
   ]
  },
  {
   "cell_type": "code",
   "execution_count": 44,
   "metadata": {},
   "outputs": [
    {
     "data": {
      "text/plain": [
       "False"
      ]
     },
     "execution_count": 44,
     "metadata": {},
     "output_type": "execute_result"
    }
   ],
   "source": [
    "# False & True = False, не оба верны\n",
    "\n",
    "(one >= 200) & (two >= 200)"
   ]
  },
  {
   "cell_type": "code",
   "execution_count": 45,
   "metadata": {},
   "outputs": [
    {
     "data": {
      "text/plain": [
       "True"
      ]
     },
     "execution_count": 45,
     "metadata": {},
     "output_type": "execute_result"
    }
   ],
   "source": [
    "# False | True = True, хотя бы одно верно\n",
    "\n",
    "(one >= 200) | (two >= 200)"
   ]
  },
  {
   "cell_type": "code",
   "execution_count": 46,
   "metadata": {},
   "outputs": [
    {
     "data": {
      "text/plain": [
       "True"
      ]
     },
     "execution_count": 46,
     "metadata": {},
     "output_type": "execute_result"
    }
   ],
   "source": [
    "# True | True = True, снова хотя бы одно верно\n",
    "\n",
    "(one >= 100) | (two >= 100)"
   ]
  },
  {
   "cell_type": "markdown",
   "metadata": {},
   "source": [
    "**Примечание.** Обратите внимание на скобки, они здесь важны, так как символьные операторы `&` и `|` – самые сильные. Если не поставить скобки, можно получить странный результат:"
   ]
  },
  {
   "cell_type": "code",
   "execution_count": 47,
   "metadata": {},
   "outputs": [
    {
     "name": "stdout",
     "output_type": "stream",
     "text": [
      "100 200\n",
      "False\n"
     ]
    }
   ],
   "source": [
    "print(one, two)\n",
    "print(one == 100 & two == 200)"
   ]
  },
  {
   "cell_type": "markdown",
   "metadata": {},
   "source": [
    "С чем связана эта странность? Ведь в `one` ровно 100, а в `two` ровно 200, оба условия одновременно верны... Дело в том, что раз оператор `&` самый сильный, самым первым выполняется действие в середине выражения, то есть `100 & two`:"
   ]
  },
  {
   "cell_type": "code",
   "execution_count": 48,
   "metadata": {},
   "outputs": [
    {
     "data": {
      "text/plain": [
       "64"
      ]
     },
     "execution_count": 48,
     "metadata": {},
     "output_type": "execute_result"
    }
   ],
   "source": [
    "100 & two # итого условие one == 64 == 200"
   ]
  },
  {
   "cell_type": "markdown",
   "metadata": {},
   "source": [
    "Ответ кажется неожиданным, но здесь вступает в действие ещё одна особенность Python. Оператор `&` при работе с числами (а не значениями `True` и `False`) выполняет их умножение в двоичной системе, а затем переводит результат обратно в десятичную. В смысл этих операций углубляться необязательно, главное, помнить, что наличие и порядок скобок важны :)"
   ]
  }
 ],
 "metadata": {
  "kernelspec": {
   "display_name": "Python 3",
   "language": "python",
   "name": "python3"
  },
  "language_info": {
   "codemirror_mode": {
    "name": "ipython",
    "version": 3
   },
   "file_extension": ".py",
   "mimetype": "text/x-python",
   "name": "python",
   "nbconvert_exporter": "python",
   "pygments_lexer": "ipython3",
   "version": "3.7.4"
  }
 },
 "nbformat": 4,
 "nbformat_minor": 2
}
