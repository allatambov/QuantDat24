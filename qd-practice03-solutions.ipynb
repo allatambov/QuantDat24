{
 "cells": [
  {
   "cell_type": "markdown",
   "metadata": {},
   "source": [
    "# Основы работы с количественными данными\n",
    "\n",
    "*Алла Тамбовцева*\n",
    "\n",
    "## Практикум 3. Обработка данных и визуализация количественных данных\n",
    "\n",
    "\n",
    "## Часть 1: загрузка и описание данных\n",
    "\n",
    "В файле `salaries.csv` сохранены данные по сотрудникам университета в США, а именно следующие их характеристики:\n",
    "\n",
    "* `rank`: должность;\n",
    "* `discipline`: тип преподаваемой дисциплины (`A` – теоретическая, `B` – практическая);\n",
    "* `phd`: число лет с момента получения степени PhD;\n",
    "* `service`: число лет опыта работы;\n",
    "* `sex`: пол;\n",
    "* `salary`: заработная плата за 9 месяцев, в долларах."
   ]
  },
  {
   "cell_type": "markdown",
   "metadata": {},
   "source": [
    "Импортируем библиотеку `pandas` с сокращённым названием `pd`, которая используется для загрузки и обработки данных в табличном виде:"
   ]
  },
  {
   "cell_type": "code",
   "execution_count": 1,
   "metadata": {},
   "outputs": [],
   "source": [
    "import pandas as pd"
   ]
  },
  {
   "cell_type": "markdown",
   "metadata": {},
   "source": [
    "Загрузим сам файл с данными в Google Colab или Jupyter Notebook.\n",
    "\n",
    "**Пояснение для Google Colab.** Загрузить файл с данными в облачное хранилище можно через кнопку *Files* (значок папки слева от рабочей области с ячейками), при нажатии на которую появляется возможность выбрать файл с компьютера (значок стрелки). После добавления файла его можно выбрать, кликнуть на три точки справа от названия, скопировать путь через *Copy path* и вставить его в функцию `read_csv()` для чтения CSV-файла. Например:\n",
    "\n",
    "    df = pd.read_csv(\"/content/salaries.csv\")\n",
    "\n",
    "**Пояснение для Jupyter Notebook.** Удобно, если файл с данными при работе лежит в той же папке, что и текущий ipynb-файл, в котором мы запускаем код, так не придется полностью прописывать к нему путь, достаточно одного названия с расширением. Загрузить файл с данными в Jupyter можно через *Upload* на *Home Page* (по аналогии с загрузкой ipynb-файлов). После добавления файла его название с расширением можно вставить в функцию `read_csv()` для чтения CSV-файла. Например:\n",
    "\n",
    "    df = pd.read_csv(\"salaries.csv\")\n",
    "\n",
    "Загрузим данные из файла `salaries` и сохраним их в таблицу – датафрейм с назанием `df`.\n",
    "\n"
   ]
  },
  {
   "cell_type": "code",
   "execution_count": 2,
   "metadata": {},
   "outputs": [],
   "source": [
    "df = pd.read_csv(\"salaries.csv\")"
   ]
  },
  {
   "cell_type": "markdown",
   "metadata": {},
   "source": [
    "Посмотрим на датафрейм:"
   ]
  },
  {
   "cell_type": "code",
   "execution_count": 3,
   "metadata": {},
   "outputs": [
    {
     "data": {
      "text/html": [
       "<div>\n",
       "<style scoped>\n",
       "    .dataframe tbody tr th:only-of-type {\n",
       "        vertical-align: middle;\n",
       "    }\n",
       "\n",
       "    .dataframe tbody tr th {\n",
       "        vertical-align: top;\n",
       "    }\n",
       "\n",
       "    .dataframe thead th {\n",
       "        text-align: right;\n",
       "    }\n",
       "</style>\n",
       "<table border=\"1\" class=\"dataframe\">\n",
       "  <thead>\n",
       "    <tr style=\"text-align: right;\">\n",
       "      <th></th>\n",
       "      <th>Unnamed: 0</th>\n",
       "      <th>rank</th>\n",
       "      <th>discipline</th>\n",
       "      <th>phd</th>\n",
       "      <th>service</th>\n",
       "      <th>sex</th>\n",
       "      <th>salary</th>\n",
       "    </tr>\n",
       "  </thead>\n",
       "  <tbody>\n",
       "    <tr>\n",
       "      <th>0</th>\n",
       "      <td>1</td>\n",
       "      <td>Prof</td>\n",
       "      <td>B</td>\n",
       "      <td>19</td>\n",
       "      <td>18</td>\n",
       "      <td>Male</td>\n",
       "      <td>139750</td>\n",
       "    </tr>\n",
       "    <tr>\n",
       "      <th>1</th>\n",
       "      <td>2</td>\n",
       "      <td>Prof</td>\n",
       "      <td>B</td>\n",
       "      <td>20</td>\n",
       "      <td>16</td>\n",
       "      <td>Male</td>\n",
       "      <td>173200</td>\n",
       "    </tr>\n",
       "    <tr>\n",
       "      <th>2</th>\n",
       "      <td>3</td>\n",
       "      <td>AsstProf</td>\n",
       "      <td>B</td>\n",
       "      <td>4</td>\n",
       "      <td>3</td>\n",
       "      <td>Male</td>\n",
       "      <td>79750</td>\n",
       "    </tr>\n",
       "    <tr>\n",
       "      <th>3</th>\n",
       "      <td>4</td>\n",
       "      <td>Prof</td>\n",
       "      <td>B</td>\n",
       "      <td>45</td>\n",
       "      <td>39</td>\n",
       "      <td>Male</td>\n",
       "      <td>115000</td>\n",
       "    </tr>\n",
       "    <tr>\n",
       "      <th>4</th>\n",
       "      <td>5</td>\n",
       "      <td>Prof</td>\n",
       "      <td>B</td>\n",
       "      <td>40</td>\n",
       "      <td>41</td>\n",
       "      <td>Male</td>\n",
       "      <td>141500</td>\n",
       "    </tr>\n",
       "    <tr>\n",
       "      <th>...</th>\n",
       "      <td>...</td>\n",
       "      <td>...</td>\n",
       "      <td>...</td>\n",
       "      <td>...</td>\n",
       "      <td>...</td>\n",
       "      <td>...</td>\n",
       "      <td>...</td>\n",
       "    </tr>\n",
       "    <tr>\n",
       "      <th>392</th>\n",
       "      <td>393</td>\n",
       "      <td>Prof</td>\n",
       "      <td>A</td>\n",
       "      <td>33</td>\n",
       "      <td>30</td>\n",
       "      <td>Male</td>\n",
       "      <td>103106</td>\n",
       "    </tr>\n",
       "    <tr>\n",
       "      <th>393</th>\n",
       "      <td>394</td>\n",
       "      <td>Prof</td>\n",
       "      <td>A</td>\n",
       "      <td>31</td>\n",
       "      <td>19</td>\n",
       "      <td>Male</td>\n",
       "      <td>150564</td>\n",
       "    </tr>\n",
       "    <tr>\n",
       "      <th>394</th>\n",
       "      <td>395</td>\n",
       "      <td>Prof</td>\n",
       "      <td>A</td>\n",
       "      <td>42</td>\n",
       "      <td>25</td>\n",
       "      <td>Male</td>\n",
       "      <td>101738</td>\n",
       "    </tr>\n",
       "    <tr>\n",
       "      <th>395</th>\n",
       "      <td>396</td>\n",
       "      <td>Prof</td>\n",
       "      <td>A</td>\n",
       "      <td>25</td>\n",
       "      <td>15</td>\n",
       "      <td>Male</td>\n",
       "      <td>95329</td>\n",
       "    </tr>\n",
       "    <tr>\n",
       "      <th>396</th>\n",
       "      <td>397</td>\n",
       "      <td>AsstProf</td>\n",
       "      <td>A</td>\n",
       "      <td>8</td>\n",
       "      <td>4</td>\n",
       "      <td>Male</td>\n",
       "      <td>81035</td>\n",
       "    </tr>\n",
       "  </tbody>\n",
       "</table>\n",
       "<p>397 rows × 7 columns</p>\n",
       "</div>"
      ],
      "text/plain": [
       "     Unnamed: 0      rank discipline  phd  service   sex  salary\n",
       "0             1      Prof          B   19       18  Male  139750\n",
       "1             2      Prof          B   20       16  Male  173200\n",
       "2             3  AsstProf          B    4        3  Male   79750\n",
       "3             4      Prof          B   45       39  Male  115000\n",
       "4             5      Prof          B   40       41  Male  141500\n",
       "..          ...       ...        ...  ...      ...   ...     ...\n",
       "392         393      Prof          A   33       30  Male  103106\n",
       "393         394      Prof          A   31       19  Male  150564\n",
       "394         395      Prof          A   42       25  Male  101738\n",
       "395         396      Prof          A   25       15  Male   95329\n",
       "396         397  AsstProf          A    8        4  Male   81035\n",
       "\n",
       "[397 rows x 7 columns]"
      ]
     },
     "execution_count": 3,
     "metadata": {},
     "output_type": "execute_result"
    }
   ],
   "source": [
    "df"
   ]
  },
  {
   "cell_type": "markdown",
   "metadata": {},
   "source": [
    "Можем отдельно вывести на экран первые или последние 5 строк датафрейма, воспользовавшись методами `.head()` и `.tail()` соответственно:"
   ]
  },
  {
   "cell_type": "code",
   "execution_count": 4,
   "metadata": {},
   "outputs": [
    {
     "data": {
      "text/html": [
       "<div>\n",
       "<style scoped>\n",
       "    .dataframe tbody tr th:only-of-type {\n",
       "        vertical-align: middle;\n",
       "    }\n",
       "\n",
       "    .dataframe tbody tr th {\n",
       "        vertical-align: top;\n",
       "    }\n",
       "\n",
       "    .dataframe thead th {\n",
       "        text-align: right;\n",
       "    }\n",
       "</style>\n",
       "<table border=\"1\" class=\"dataframe\">\n",
       "  <thead>\n",
       "    <tr style=\"text-align: right;\">\n",
       "      <th></th>\n",
       "      <th>Unnamed: 0</th>\n",
       "      <th>rank</th>\n",
       "      <th>discipline</th>\n",
       "      <th>phd</th>\n",
       "      <th>service</th>\n",
       "      <th>sex</th>\n",
       "      <th>salary</th>\n",
       "    </tr>\n",
       "  </thead>\n",
       "  <tbody>\n",
       "    <tr>\n",
       "      <th>0</th>\n",
       "      <td>1</td>\n",
       "      <td>Prof</td>\n",
       "      <td>B</td>\n",
       "      <td>19</td>\n",
       "      <td>18</td>\n",
       "      <td>Male</td>\n",
       "      <td>139750</td>\n",
       "    </tr>\n",
       "    <tr>\n",
       "      <th>1</th>\n",
       "      <td>2</td>\n",
       "      <td>Prof</td>\n",
       "      <td>B</td>\n",
       "      <td>20</td>\n",
       "      <td>16</td>\n",
       "      <td>Male</td>\n",
       "      <td>173200</td>\n",
       "    </tr>\n",
       "    <tr>\n",
       "      <th>2</th>\n",
       "      <td>3</td>\n",
       "      <td>AsstProf</td>\n",
       "      <td>B</td>\n",
       "      <td>4</td>\n",
       "      <td>3</td>\n",
       "      <td>Male</td>\n",
       "      <td>79750</td>\n",
       "    </tr>\n",
       "    <tr>\n",
       "      <th>3</th>\n",
       "      <td>4</td>\n",
       "      <td>Prof</td>\n",
       "      <td>B</td>\n",
       "      <td>45</td>\n",
       "      <td>39</td>\n",
       "      <td>Male</td>\n",
       "      <td>115000</td>\n",
       "    </tr>\n",
       "    <tr>\n",
       "      <th>4</th>\n",
       "      <td>5</td>\n",
       "      <td>Prof</td>\n",
       "      <td>B</td>\n",
       "      <td>40</td>\n",
       "      <td>41</td>\n",
       "      <td>Male</td>\n",
       "      <td>141500</td>\n",
       "    </tr>\n",
       "  </tbody>\n",
       "</table>\n",
       "</div>"
      ],
      "text/plain": [
       "   Unnamed: 0      rank discipline  phd  service   sex  salary\n",
       "0           1      Prof          B   19       18  Male  139750\n",
       "1           2      Prof          B   20       16  Male  173200\n",
       "2           3  AsstProf          B    4        3  Male   79750\n",
       "3           4      Prof          B   45       39  Male  115000\n",
       "4           5      Prof          B   40       41  Male  141500"
      ]
     },
     "execution_count": 4,
     "metadata": {},
     "output_type": "execute_result"
    }
   ],
   "source": [
    "# первые\n",
    "df.head()"
   ]
  },
  {
   "cell_type": "code",
   "execution_count": 5,
   "metadata": {},
   "outputs": [
    {
     "data": {
      "text/html": [
       "<div>\n",
       "<style scoped>\n",
       "    .dataframe tbody tr th:only-of-type {\n",
       "        vertical-align: middle;\n",
       "    }\n",
       "\n",
       "    .dataframe tbody tr th {\n",
       "        vertical-align: top;\n",
       "    }\n",
       "\n",
       "    .dataframe thead th {\n",
       "        text-align: right;\n",
       "    }\n",
       "</style>\n",
       "<table border=\"1\" class=\"dataframe\">\n",
       "  <thead>\n",
       "    <tr style=\"text-align: right;\">\n",
       "      <th></th>\n",
       "      <th>Unnamed: 0</th>\n",
       "      <th>rank</th>\n",
       "      <th>discipline</th>\n",
       "      <th>phd</th>\n",
       "      <th>service</th>\n",
       "      <th>sex</th>\n",
       "      <th>salary</th>\n",
       "    </tr>\n",
       "  </thead>\n",
       "  <tbody>\n",
       "    <tr>\n",
       "      <th>392</th>\n",
       "      <td>393</td>\n",
       "      <td>Prof</td>\n",
       "      <td>A</td>\n",
       "      <td>33</td>\n",
       "      <td>30</td>\n",
       "      <td>Male</td>\n",
       "      <td>103106</td>\n",
       "    </tr>\n",
       "    <tr>\n",
       "      <th>393</th>\n",
       "      <td>394</td>\n",
       "      <td>Prof</td>\n",
       "      <td>A</td>\n",
       "      <td>31</td>\n",
       "      <td>19</td>\n",
       "      <td>Male</td>\n",
       "      <td>150564</td>\n",
       "    </tr>\n",
       "    <tr>\n",
       "      <th>394</th>\n",
       "      <td>395</td>\n",
       "      <td>Prof</td>\n",
       "      <td>A</td>\n",
       "      <td>42</td>\n",
       "      <td>25</td>\n",
       "      <td>Male</td>\n",
       "      <td>101738</td>\n",
       "    </tr>\n",
       "    <tr>\n",
       "      <th>395</th>\n",
       "      <td>396</td>\n",
       "      <td>Prof</td>\n",
       "      <td>A</td>\n",
       "      <td>25</td>\n",
       "      <td>15</td>\n",
       "      <td>Male</td>\n",
       "      <td>95329</td>\n",
       "    </tr>\n",
       "    <tr>\n",
       "      <th>396</th>\n",
       "      <td>397</td>\n",
       "      <td>AsstProf</td>\n",
       "      <td>A</td>\n",
       "      <td>8</td>\n",
       "      <td>4</td>\n",
       "      <td>Male</td>\n",
       "      <td>81035</td>\n",
       "    </tr>\n",
       "  </tbody>\n",
       "</table>\n",
       "</div>"
      ],
      "text/plain": [
       "     Unnamed: 0      rank discipline  phd  service   sex  salary\n",
       "392         393      Prof          A   33       30  Male  103106\n",
       "393         394      Prof          A   31       19  Male  150564\n",
       "394         395      Prof          A   42       25  Male  101738\n",
       "395         396      Prof          A   25       15  Male   95329\n",
       "396         397  AsstProf          A    8        4  Male   81035"
      ]
     },
     "execution_count": 5,
     "metadata": {},
     "output_type": "execute_result"
    }
   ],
   "source": [
    "# последние\n",
    "df.tail()"
   ]
  },
  {
   "cell_type": "markdown",
   "metadata": {},
   "source": [
    "Внутри `.head()` и `.tail()` можно указать желаемое количество строк таблицы, если базовое значение 5 нас не устраивает:"
   ]
  },
  {
   "cell_type": "code",
   "execution_count": 6,
   "metadata": {},
   "outputs": [
    {
     "data": {
      "text/html": [
       "<div>\n",
       "<style scoped>\n",
       "    .dataframe tbody tr th:only-of-type {\n",
       "        vertical-align: middle;\n",
       "    }\n",
       "\n",
       "    .dataframe tbody tr th {\n",
       "        vertical-align: top;\n",
       "    }\n",
       "\n",
       "    .dataframe thead th {\n",
       "        text-align: right;\n",
       "    }\n",
       "</style>\n",
       "<table border=\"1\" class=\"dataframe\">\n",
       "  <thead>\n",
       "    <tr style=\"text-align: right;\">\n",
       "      <th></th>\n",
       "      <th>Unnamed: 0</th>\n",
       "      <th>rank</th>\n",
       "      <th>discipline</th>\n",
       "      <th>phd</th>\n",
       "      <th>service</th>\n",
       "      <th>sex</th>\n",
       "      <th>salary</th>\n",
       "    </tr>\n",
       "  </thead>\n",
       "  <tbody>\n",
       "    <tr>\n",
       "      <th>0</th>\n",
       "      <td>1</td>\n",
       "      <td>Prof</td>\n",
       "      <td>B</td>\n",
       "      <td>19</td>\n",
       "      <td>18</td>\n",
       "      <td>Male</td>\n",
       "      <td>139750</td>\n",
       "    </tr>\n",
       "    <tr>\n",
       "      <th>1</th>\n",
       "      <td>2</td>\n",
       "      <td>Prof</td>\n",
       "      <td>B</td>\n",
       "      <td>20</td>\n",
       "      <td>16</td>\n",
       "      <td>Male</td>\n",
       "      <td>173200</td>\n",
       "    </tr>\n",
       "    <tr>\n",
       "      <th>2</th>\n",
       "      <td>3</td>\n",
       "      <td>AsstProf</td>\n",
       "      <td>B</td>\n",
       "      <td>4</td>\n",
       "      <td>3</td>\n",
       "      <td>Male</td>\n",
       "      <td>79750</td>\n",
       "    </tr>\n",
       "    <tr>\n",
       "      <th>3</th>\n",
       "      <td>4</td>\n",
       "      <td>Prof</td>\n",
       "      <td>B</td>\n",
       "      <td>45</td>\n",
       "      <td>39</td>\n",
       "      <td>Male</td>\n",
       "      <td>115000</td>\n",
       "    </tr>\n",
       "    <tr>\n",
       "      <th>4</th>\n",
       "      <td>5</td>\n",
       "      <td>Prof</td>\n",
       "      <td>B</td>\n",
       "      <td>40</td>\n",
       "      <td>41</td>\n",
       "      <td>Male</td>\n",
       "      <td>141500</td>\n",
       "    </tr>\n",
       "    <tr>\n",
       "      <th>5</th>\n",
       "      <td>6</td>\n",
       "      <td>AssocProf</td>\n",
       "      <td>B</td>\n",
       "      <td>6</td>\n",
       "      <td>6</td>\n",
       "      <td>Male</td>\n",
       "      <td>97000</td>\n",
       "    </tr>\n",
       "    <tr>\n",
       "      <th>6</th>\n",
       "      <td>7</td>\n",
       "      <td>Prof</td>\n",
       "      <td>B</td>\n",
       "      <td>30</td>\n",
       "      <td>23</td>\n",
       "      <td>Male</td>\n",
       "      <td>175000</td>\n",
       "    </tr>\n",
       "    <tr>\n",
       "      <th>7</th>\n",
       "      <td>8</td>\n",
       "      <td>Prof</td>\n",
       "      <td>B</td>\n",
       "      <td>45</td>\n",
       "      <td>45</td>\n",
       "      <td>Male</td>\n",
       "      <td>147765</td>\n",
       "    </tr>\n",
       "  </tbody>\n",
       "</table>\n",
       "</div>"
      ],
      "text/plain": [
       "   Unnamed: 0       rank discipline  phd  service   sex  salary\n",
       "0           1       Prof          B   19       18  Male  139750\n",
       "1           2       Prof          B   20       16  Male  173200\n",
       "2           3   AsstProf          B    4        3  Male   79750\n",
       "3           4       Prof          B   45       39  Male  115000\n",
       "4           5       Prof          B   40       41  Male  141500\n",
       "5           6  AssocProf          B    6        6  Male   97000\n",
       "6           7       Prof          B   30       23  Male  175000\n",
       "7           8       Prof          B   45       45  Male  147765"
      ]
     },
     "execution_count": 6,
     "metadata": {},
     "output_type": "execute_result"
    }
   ],
   "source": [
    "df.head(8)"
   ]
  },
  {
   "cell_type": "markdown",
   "metadata": {},
   "source": [
    "Посмотрим на переменные и проверим, что все переменные – корректных типов (например, числа считаны как числа, а не как текст):"
   ]
  },
  {
   "cell_type": "code",
   "execution_count": 7,
   "metadata": {},
   "outputs": [
    {
     "name": "stdout",
     "output_type": "stream",
     "text": [
      "<class 'pandas.core.frame.DataFrame'>\n",
      "RangeIndex: 397 entries, 0 to 396\n",
      "Data columns (total 7 columns):\n",
      " #   Column      Non-Null Count  Dtype \n",
      "---  ------      --------------  ----- \n",
      " 0   Unnamed: 0  397 non-null    int64 \n",
      " 1   rank        397 non-null    object\n",
      " 2   discipline  397 non-null    object\n",
      " 3   phd         397 non-null    int64 \n",
      " 4   service     397 non-null    int64 \n",
      " 5   sex         397 non-null    object\n",
      " 6   salary      397 non-null    int64 \n",
      "dtypes: int64(4), object(3)\n",
      "memory usage: 21.8+ KB\n"
     ]
    }
   ],
   "source": [
    "df.info()"
   ]
  },
  {
   "cell_type": "markdown",
   "metadata": {},
   "source": [
    "Метод `.info()` возвращает «техническое» описание данных:\n",
    "\n",
    "* `RangeIndex`: число строк и их индексы;\n",
    "* `Data columns`: число столбцов;\n",
    "* `Column`: название столбца;\n",
    "* `Non-Null Count`: число заполненных – не пустых (`null`) – ячеек в столбце;\n",
    "* `Dtype`: тип столбца; тип `int` — целочисленный (`integer`), тип `float` — вещественный, может включать в себя как дробные, так и целочисленные значения, тип `object` – строковый, то же что и `string`, то есть текст."
   ]
  },
  {
   "cell_type": "markdown",
   "metadata": {},
   "source": [
    "Перейдём к более содержательным вопросам и посмотрим на описательные статистики по всем числовым столбцам:"
   ]
  },
  {
   "cell_type": "code",
   "execution_count": 8,
   "metadata": {},
   "outputs": [
    {
     "data": {
      "text/html": [
       "<div>\n",
       "<style scoped>\n",
       "    .dataframe tbody tr th:only-of-type {\n",
       "        vertical-align: middle;\n",
       "    }\n",
       "\n",
       "    .dataframe tbody tr th {\n",
       "        vertical-align: top;\n",
       "    }\n",
       "\n",
       "    .dataframe thead th {\n",
       "        text-align: right;\n",
       "    }\n",
       "</style>\n",
       "<table border=\"1\" class=\"dataframe\">\n",
       "  <thead>\n",
       "    <tr style=\"text-align: right;\">\n",
       "      <th></th>\n",
       "      <th>Unnamed: 0</th>\n",
       "      <th>phd</th>\n",
       "      <th>service</th>\n",
       "      <th>salary</th>\n",
       "    </tr>\n",
       "  </thead>\n",
       "  <tbody>\n",
       "    <tr>\n",
       "      <th>count</th>\n",
       "      <td>397.000000</td>\n",
       "      <td>397.000000</td>\n",
       "      <td>397.000000</td>\n",
       "      <td>397.000000</td>\n",
       "    </tr>\n",
       "    <tr>\n",
       "      <th>mean</th>\n",
       "      <td>199.000000</td>\n",
       "      <td>22.314861</td>\n",
       "      <td>17.614610</td>\n",
       "      <td>113706.458438</td>\n",
       "    </tr>\n",
       "    <tr>\n",
       "      <th>std</th>\n",
       "      <td>114.748275</td>\n",
       "      <td>12.887003</td>\n",
       "      <td>13.006024</td>\n",
       "      <td>30289.038695</td>\n",
       "    </tr>\n",
       "    <tr>\n",
       "      <th>min</th>\n",
       "      <td>1.000000</td>\n",
       "      <td>1.000000</td>\n",
       "      <td>0.000000</td>\n",
       "      <td>57800.000000</td>\n",
       "    </tr>\n",
       "    <tr>\n",
       "      <th>25%</th>\n",
       "      <td>100.000000</td>\n",
       "      <td>12.000000</td>\n",
       "      <td>7.000000</td>\n",
       "      <td>91000.000000</td>\n",
       "    </tr>\n",
       "    <tr>\n",
       "      <th>50%</th>\n",
       "      <td>199.000000</td>\n",
       "      <td>21.000000</td>\n",
       "      <td>16.000000</td>\n",
       "      <td>107300.000000</td>\n",
       "    </tr>\n",
       "    <tr>\n",
       "      <th>75%</th>\n",
       "      <td>298.000000</td>\n",
       "      <td>32.000000</td>\n",
       "      <td>27.000000</td>\n",
       "      <td>134185.000000</td>\n",
       "    </tr>\n",
       "    <tr>\n",
       "      <th>max</th>\n",
       "      <td>397.000000</td>\n",
       "      <td>56.000000</td>\n",
       "      <td>60.000000</td>\n",
       "      <td>231545.000000</td>\n",
       "    </tr>\n",
       "  </tbody>\n",
       "</table>\n",
       "</div>"
      ],
      "text/plain": [
       "       Unnamed: 0         phd     service         salary\n",
       "count  397.000000  397.000000  397.000000     397.000000\n",
       "mean   199.000000   22.314861   17.614610  113706.458438\n",
       "std    114.748275   12.887003   13.006024   30289.038695\n",
       "min      1.000000    1.000000    0.000000   57800.000000\n",
       "25%    100.000000   12.000000    7.000000   91000.000000\n",
       "50%    199.000000   21.000000   16.000000  107300.000000\n",
       "75%    298.000000   32.000000   27.000000  134185.000000\n",
       "max    397.000000   56.000000   60.000000  231545.000000"
      ]
     },
     "execution_count": 8,
     "metadata": {},
     "output_type": "execute_result"
    }
   ],
   "source": [
    "df.describe() # давайте проинтерпретируем"
   ]
  },
  {
   "cell_type": "markdown",
   "metadata": {},
   "source": [
    "Метод `.describe()` возвращает набор основных описательных статистик:\n",
    "\n",
    "* `count`: число заполненных – непустых – ячеек в столбце;\n",
    "* `mean`: среднее арифметическое;\n",
    "* `std`: стандартное отклонение;\n",
    "* `min`: минимум;\n",
    "* `max`: максимум;\n",
    "* `25%`: нижний квартиль;\n",
    "* `50%`: медиана;\n",
    "* `75%`: верхний квартиль."
   ]
  },
  {
   "cell_type": "markdown",
   "metadata": {},
   "source": [
    "По умолчанию метод `.describe()` выдаёт описание только числовых столбцов, если мы, напротив, хотим описать только текстовые, в качестве аргумента нужно добавить аргумент `include = \"object\"`, так как текстовый тип в `pandas` называется именно `object`:"
   ]
  },
  {
   "cell_type": "code",
   "execution_count": 9,
   "metadata": {},
   "outputs": [
    {
     "data": {
      "text/html": [
       "<div>\n",
       "<style scoped>\n",
       "    .dataframe tbody tr th:only-of-type {\n",
       "        vertical-align: middle;\n",
       "    }\n",
       "\n",
       "    .dataframe tbody tr th {\n",
       "        vertical-align: top;\n",
       "    }\n",
       "\n",
       "    .dataframe thead th {\n",
       "        text-align: right;\n",
       "    }\n",
       "</style>\n",
       "<table border=\"1\" class=\"dataframe\">\n",
       "  <thead>\n",
       "    <tr style=\"text-align: right;\">\n",
       "      <th></th>\n",
       "      <th>rank</th>\n",
       "      <th>discipline</th>\n",
       "      <th>sex</th>\n",
       "    </tr>\n",
       "  </thead>\n",
       "  <tbody>\n",
       "    <tr>\n",
       "      <th>count</th>\n",
       "      <td>397</td>\n",
       "      <td>397</td>\n",
       "      <td>397</td>\n",
       "    </tr>\n",
       "    <tr>\n",
       "      <th>unique</th>\n",
       "      <td>3</td>\n",
       "      <td>2</td>\n",
       "      <td>2</td>\n",
       "    </tr>\n",
       "    <tr>\n",
       "      <th>top</th>\n",
       "      <td>Prof</td>\n",
       "      <td>B</td>\n",
       "      <td>Male</td>\n",
       "    </tr>\n",
       "    <tr>\n",
       "      <th>freq</th>\n",
       "      <td>266</td>\n",
       "      <td>216</td>\n",
       "      <td>358</td>\n",
       "    </tr>\n",
       "  </tbody>\n",
       "</table>\n",
       "</div>"
      ],
      "text/plain": [
       "        rank discipline   sex\n",
       "count    397        397   397\n",
       "unique     3          2     2\n",
       "top     Prof          B  Male\n",
       "freq     266        216   358"
      ]
     },
     "execution_count": 9,
     "metadata": {},
     "output_type": "execute_result"
    }
   ],
   "source": [
    "df.describe(include = \"object\") # давайте проинтерпретируем"
   ]
  },
  {
   "cell_type": "markdown",
   "metadata": {},
   "source": [
    ">В выдаче выше `count` – число заполненных ячеек в столбце, `unique` – число уникальных значений, `top` – мода, самое частое значение, `freq` – частота, соответствующая моде. То есть, например, в нашей выборке больше сотрудников-мужчин, их 358 из 397, по должностям больше всего профессоров, их 266 из 397 (а всего должностей 3, значения `Prof`, `AssocProf` и `AsstProf`)."
   ]
  },
  {
   "cell_type": "markdown",
   "metadata": {},
   "source": [
    "Иногда для понимания особенностей данных строки в таблице необходимо отсортировать по какому-нибудь показателю. Так, например, отсортировав строки по заработной плате, мы узнаем, какими характеристиками обладают сотрудники, получающие самую низкую/высокую заработную плату. Для сортировки используется метод `.sort_values()`:"
   ]
  },
  {
   "cell_type": "code",
   "execution_count": 10,
   "metadata": {},
   "outputs": [
    {
     "data": {
      "text/html": [
       "<div>\n",
       "<style scoped>\n",
       "    .dataframe tbody tr th:only-of-type {\n",
       "        vertical-align: middle;\n",
       "    }\n",
       "\n",
       "    .dataframe tbody tr th {\n",
       "        vertical-align: top;\n",
       "    }\n",
       "\n",
       "    .dataframe thead th {\n",
       "        text-align: right;\n",
       "    }\n",
       "</style>\n",
       "<table border=\"1\" class=\"dataframe\">\n",
       "  <thead>\n",
       "    <tr style=\"text-align: right;\">\n",
       "      <th></th>\n",
       "      <th>Unnamed: 0</th>\n",
       "      <th>rank</th>\n",
       "      <th>discipline</th>\n",
       "      <th>phd</th>\n",
       "      <th>service</th>\n",
       "      <th>sex</th>\n",
       "      <th>salary</th>\n",
       "    </tr>\n",
       "  </thead>\n",
       "  <tbody>\n",
       "    <tr>\n",
       "      <th>282</th>\n",
       "      <td>283</td>\n",
       "      <td>Prof</td>\n",
       "      <td>A</td>\n",
       "      <td>51</td>\n",
       "      <td>51</td>\n",
       "      <td>Male</td>\n",
       "      <td>57800</td>\n",
       "    </tr>\n",
       "    <tr>\n",
       "      <th>123</th>\n",
       "      <td>124</td>\n",
       "      <td>AssocProf</td>\n",
       "      <td>A</td>\n",
       "      <td>25</td>\n",
       "      <td>22</td>\n",
       "      <td>Female</td>\n",
       "      <td>62884</td>\n",
       "    </tr>\n",
       "    <tr>\n",
       "      <th>237</th>\n",
       "      <td>238</td>\n",
       "      <td>AsstProf</td>\n",
       "      <td>A</td>\n",
       "      <td>7</td>\n",
       "      <td>6</td>\n",
       "      <td>Female</td>\n",
       "      <td>63100</td>\n",
       "    </tr>\n",
       "    <tr>\n",
       "      <th>226</th>\n",
       "      <td>227</td>\n",
       "      <td>AsstProf</td>\n",
       "      <td>A</td>\n",
       "      <td>3</td>\n",
       "      <td>1</td>\n",
       "      <td>Male</td>\n",
       "      <td>63900</td>\n",
       "    </tr>\n",
       "    <tr>\n",
       "      <th>317</th>\n",
       "      <td>318</td>\n",
       "      <td>Prof</td>\n",
       "      <td>B</td>\n",
       "      <td>46</td>\n",
       "      <td>45</td>\n",
       "      <td>Male</td>\n",
       "      <td>67559</td>\n",
       "    </tr>\n",
       "    <tr>\n",
       "      <th>...</th>\n",
       "      <td>...</td>\n",
       "      <td>...</td>\n",
       "      <td>...</td>\n",
       "      <td>...</td>\n",
       "      <td>...</td>\n",
       "      <td>...</td>\n",
       "      <td>...</td>\n",
       "    </tr>\n",
       "    <tr>\n",
       "      <th>77</th>\n",
       "      <td>78</td>\n",
       "      <td>Prof</td>\n",
       "      <td>B</td>\n",
       "      <td>26</td>\n",
       "      <td>19</td>\n",
       "      <td>Male</td>\n",
       "      <td>193000</td>\n",
       "    </tr>\n",
       "    <tr>\n",
       "      <th>271</th>\n",
       "      <td>272</td>\n",
       "      <td>Prof</td>\n",
       "      <td>A</td>\n",
       "      <td>42</td>\n",
       "      <td>18</td>\n",
       "      <td>Male</td>\n",
       "      <td>194800</td>\n",
       "    </tr>\n",
       "    <tr>\n",
       "      <th>249</th>\n",
       "      <td>250</td>\n",
       "      <td>Prof</td>\n",
       "      <td>A</td>\n",
       "      <td>29</td>\n",
       "      <td>7</td>\n",
       "      <td>Male</td>\n",
       "      <td>204000</td>\n",
       "    </tr>\n",
       "    <tr>\n",
       "      <th>364</th>\n",
       "      <td>365</td>\n",
       "      <td>Prof</td>\n",
       "      <td>A</td>\n",
       "      <td>43</td>\n",
       "      <td>43</td>\n",
       "      <td>Male</td>\n",
       "      <td>205500</td>\n",
       "    </tr>\n",
       "    <tr>\n",
       "      <th>43</th>\n",
       "      <td>44</td>\n",
       "      <td>Prof</td>\n",
       "      <td>B</td>\n",
       "      <td>38</td>\n",
       "      <td>38</td>\n",
       "      <td>Male</td>\n",
       "      <td>231545</td>\n",
       "    </tr>\n",
       "  </tbody>\n",
       "</table>\n",
       "<p>397 rows × 7 columns</p>\n",
       "</div>"
      ],
      "text/plain": [
       "     Unnamed: 0       rank discipline  phd  service     sex  salary\n",
       "282         283       Prof          A   51       51    Male   57800\n",
       "123         124  AssocProf          A   25       22  Female   62884\n",
       "237         238   AsstProf          A    7        6  Female   63100\n",
       "226         227   AsstProf          A    3        1    Male   63900\n",
       "317         318       Prof          B   46       45    Male   67559\n",
       "..          ...        ...        ...  ...      ...     ...     ...\n",
       "77           78       Prof          B   26       19    Male  193000\n",
       "271         272       Prof          A   42       18    Male  194800\n",
       "249         250       Prof          A   29        7    Male  204000\n",
       "364         365       Prof          A   43       43    Male  205500\n",
       "43           44       Prof          B   38       38    Male  231545\n",
       "\n",
       "[397 rows x 7 columns]"
      ]
     },
     "execution_count": 10,
     "metadata": {},
     "output_type": "execute_result"
    }
   ],
   "source": [
    "# по умолчанию: по возрастанию\n",
    "df.sort_values(\"salary\")"
   ]
  },
  {
   "cell_type": "code",
   "execution_count": 11,
   "metadata": {},
   "outputs": [
    {
     "data": {
      "text/html": [
       "<div>\n",
       "<style scoped>\n",
       "    .dataframe tbody tr th:only-of-type {\n",
       "        vertical-align: middle;\n",
       "    }\n",
       "\n",
       "    .dataframe tbody tr th {\n",
       "        vertical-align: top;\n",
       "    }\n",
       "\n",
       "    .dataframe thead th {\n",
       "        text-align: right;\n",
       "    }\n",
       "</style>\n",
       "<table border=\"1\" class=\"dataframe\">\n",
       "  <thead>\n",
       "    <tr style=\"text-align: right;\">\n",
       "      <th></th>\n",
       "      <th>Unnamed: 0</th>\n",
       "      <th>rank</th>\n",
       "      <th>discipline</th>\n",
       "      <th>phd</th>\n",
       "      <th>service</th>\n",
       "      <th>sex</th>\n",
       "      <th>salary</th>\n",
       "    </tr>\n",
       "  </thead>\n",
       "  <tbody>\n",
       "    <tr>\n",
       "      <th>43</th>\n",
       "      <td>44</td>\n",
       "      <td>Prof</td>\n",
       "      <td>B</td>\n",
       "      <td>38</td>\n",
       "      <td>38</td>\n",
       "      <td>Male</td>\n",
       "      <td>231545</td>\n",
       "    </tr>\n",
       "    <tr>\n",
       "      <th>364</th>\n",
       "      <td>365</td>\n",
       "      <td>Prof</td>\n",
       "      <td>A</td>\n",
       "      <td>43</td>\n",
       "      <td>43</td>\n",
       "      <td>Male</td>\n",
       "      <td>205500</td>\n",
       "    </tr>\n",
       "    <tr>\n",
       "      <th>249</th>\n",
       "      <td>250</td>\n",
       "      <td>Prof</td>\n",
       "      <td>A</td>\n",
       "      <td>29</td>\n",
       "      <td>7</td>\n",
       "      <td>Male</td>\n",
       "      <td>204000</td>\n",
       "    </tr>\n",
       "    <tr>\n",
       "      <th>271</th>\n",
       "      <td>272</td>\n",
       "      <td>Prof</td>\n",
       "      <td>A</td>\n",
       "      <td>42</td>\n",
       "      <td>18</td>\n",
       "      <td>Male</td>\n",
       "      <td>194800</td>\n",
       "    </tr>\n",
       "    <tr>\n",
       "      <th>77</th>\n",
       "      <td>78</td>\n",
       "      <td>Prof</td>\n",
       "      <td>B</td>\n",
       "      <td>26</td>\n",
       "      <td>19</td>\n",
       "      <td>Male</td>\n",
       "      <td>193000</td>\n",
       "    </tr>\n",
       "    <tr>\n",
       "      <th>...</th>\n",
       "      <td>...</td>\n",
       "      <td>...</td>\n",
       "      <td>...</td>\n",
       "      <td>...</td>\n",
       "      <td>...</td>\n",
       "      <td>...</td>\n",
       "      <td>...</td>\n",
       "    </tr>\n",
       "    <tr>\n",
       "      <th>317</th>\n",
       "      <td>318</td>\n",
       "      <td>Prof</td>\n",
       "      <td>B</td>\n",
       "      <td>46</td>\n",
       "      <td>45</td>\n",
       "      <td>Male</td>\n",
       "      <td>67559</td>\n",
       "    </tr>\n",
       "    <tr>\n",
       "      <th>226</th>\n",
       "      <td>227</td>\n",
       "      <td>AsstProf</td>\n",
       "      <td>A</td>\n",
       "      <td>3</td>\n",
       "      <td>1</td>\n",
       "      <td>Male</td>\n",
       "      <td>63900</td>\n",
       "    </tr>\n",
       "    <tr>\n",
       "      <th>237</th>\n",
       "      <td>238</td>\n",
       "      <td>AsstProf</td>\n",
       "      <td>A</td>\n",
       "      <td>7</td>\n",
       "      <td>6</td>\n",
       "      <td>Female</td>\n",
       "      <td>63100</td>\n",
       "    </tr>\n",
       "    <tr>\n",
       "      <th>123</th>\n",
       "      <td>124</td>\n",
       "      <td>AssocProf</td>\n",
       "      <td>A</td>\n",
       "      <td>25</td>\n",
       "      <td>22</td>\n",
       "      <td>Female</td>\n",
       "      <td>62884</td>\n",
       "    </tr>\n",
       "    <tr>\n",
       "      <th>282</th>\n",
       "      <td>283</td>\n",
       "      <td>Prof</td>\n",
       "      <td>A</td>\n",
       "      <td>51</td>\n",
       "      <td>51</td>\n",
       "      <td>Male</td>\n",
       "      <td>57800</td>\n",
       "    </tr>\n",
       "  </tbody>\n",
       "</table>\n",
       "<p>397 rows × 7 columns</p>\n",
       "</div>"
      ],
      "text/plain": [
       "     Unnamed: 0       rank discipline  phd  service     sex  salary\n",
       "43           44       Prof          B   38       38    Male  231545\n",
       "364         365       Prof          A   43       43    Male  205500\n",
       "249         250       Prof          A   29        7    Male  204000\n",
       "271         272       Prof          A   42       18    Male  194800\n",
       "77           78       Prof          B   26       19    Male  193000\n",
       "..          ...        ...        ...  ...      ...     ...     ...\n",
       "317         318       Prof          B   46       45    Male   67559\n",
       "226         227   AsstProf          A    3        1    Male   63900\n",
       "237         238   AsstProf          A    7        6  Female   63100\n",
       "123         124  AssocProf          A   25       22  Female   62884\n",
       "282         283       Prof          A   51       51    Male   57800\n",
       "\n",
       "[397 rows x 7 columns]"
      ]
     },
     "execution_count": 11,
     "metadata": {},
     "output_type": "execute_result"
    }
   ],
   "source": [
    "# ascending = False: по убыванию\n",
    "df.sort_values(\"salary\", ascending = False)"
   ]
  },
  {
   "cell_type": "markdown",
   "metadata": {},
   "source": [
    "По умолчанию метод `.sort_values()` не изменяет сам датафрейм, Если мы хотим сохранить результат сортировки сразу в датафрейме, можно добавить аргумент `inplace = True`:"
   ]
  },
  {
   "cell_type": "code",
   "execution_count": 12,
   "metadata": {},
   "outputs": [],
   "source": [
    "# более изящный вариант для df = df.sort_values(\"salary\")\n",
    "df.sort_values(\"salary\", inplace = True)"
   ]
  },
  {
   "cell_type": "markdown",
   "metadata": {},
   "source": [
    "При необходимости можно выставить сразу несколько оснований для группировки. Так, если мы отсортируем сотрудников только по опыту работы, мы заметим, что людей с нулевым опытом работы несколько:"
   ]
  },
  {
   "cell_type": "code",
   "execution_count": 13,
   "metadata": {},
   "outputs": [
    {
     "data": {
      "text/html": [
       "<div>\n",
       "<style scoped>\n",
       "    .dataframe tbody tr th:only-of-type {\n",
       "        vertical-align: middle;\n",
       "    }\n",
       "\n",
       "    .dataframe tbody tr th {\n",
       "        vertical-align: top;\n",
       "    }\n",
       "\n",
       "    .dataframe thead th {\n",
       "        text-align: right;\n",
       "    }\n",
       "</style>\n",
       "<table border=\"1\" class=\"dataframe\">\n",
       "  <thead>\n",
       "    <tr style=\"text-align: right;\">\n",
       "      <th></th>\n",
       "      <th>Unnamed: 0</th>\n",
       "      <th>rank</th>\n",
       "      <th>discipline</th>\n",
       "      <th>phd</th>\n",
       "      <th>service</th>\n",
       "      <th>sex</th>\n",
       "      <th>salary</th>\n",
       "    </tr>\n",
       "  </thead>\n",
       "  <tbody>\n",
       "    <tr>\n",
       "      <th>127</th>\n",
       "      <td>128</td>\n",
       "      <td>AsstProf</td>\n",
       "      <td>A</td>\n",
       "      <td>2</td>\n",
       "      <td>0</td>\n",
       "      <td>Female</td>\n",
       "      <td>72500</td>\n",
       "    </tr>\n",
       "    <tr>\n",
       "      <th>154</th>\n",
       "      <td>155</td>\n",
       "      <td>AsstProf</td>\n",
       "      <td>B</td>\n",
       "      <td>4</td>\n",
       "      <td>0</td>\n",
       "      <td>Male</td>\n",
       "      <td>92000</td>\n",
       "    </tr>\n",
       "    <tr>\n",
       "      <th>35</th>\n",
       "      <td>36</td>\n",
       "      <td>AsstProf</td>\n",
       "      <td>B</td>\n",
       "      <td>5</td>\n",
       "      <td>0</td>\n",
       "      <td>Female</td>\n",
       "      <td>77000</td>\n",
       "    </tr>\n",
       "    <tr>\n",
       "      <th>114</th>\n",
       "      <td>115</td>\n",
       "      <td>Prof</td>\n",
       "      <td>A</td>\n",
       "      <td>12</td>\n",
       "      <td>0</td>\n",
       "      <td>Female</td>\n",
       "      <td>105000</td>\n",
       "    </tr>\n",
       "    <tr>\n",
       "      <th>28</th>\n",
       "      <td>29</td>\n",
       "      <td>AsstProf</td>\n",
       "      <td>B</td>\n",
       "      <td>11</td>\n",
       "      <td>0</td>\n",
       "      <td>Male</td>\n",
       "      <td>77000</td>\n",
       "    </tr>\n",
       "    <tr>\n",
       "      <th>...</th>\n",
       "      <td>...</td>\n",
       "      <td>...</td>\n",
       "      <td>...</td>\n",
       "      <td>...</td>\n",
       "      <td>...</td>\n",
       "      <td>...</td>\n",
       "      <td>...</td>\n",
       "    </tr>\n",
       "    <tr>\n",
       "      <th>350</th>\n",
       "      <td>351</td>\n",
       "      <td>Prof</td>\n",
       "      <td>B</td>\n",
       "      <td>56</td>\n",
       "      <td>49</td>\n",
       "      <td>Male</td>\n",
       "      <td>186960</td>\n",
       "    </tr>\n",
       "    <tr>\n",
       "      <th>282</th>\n",
       "      <td>283</td>\n",
       "      <td>Prof</td>\n",
       "      <td>A</td>\n",
       "      <td>51</td>\n",
       "      <td>51</td>\n",
       "      <td>Male</td>\n",
       "      <td>57800</td>\n",
       "    </tr>\n",
       "    <tr>\n",
       "      <th>194</th>\n",
       "      <td>195</td>\n",
       "      <td>AssocProf</td>\n",
       "      <td>B</td>\n",
       "      <td>48</td>\n",
       "      <td>53</td>\n",
       "      <td>Male</td>\n",
       "      <td>90000</td>\n",
       "    </tr>\n",
       "    <tr>\n",
       "      <th>131</th>\n",
       "      <td>132</td>\n",
       "      <td>Prof</td>\n",
       "      <td>A</td>\n",
       "      <td>56</td>\n",
       "      <td>57</td>\n",
       "      <td>Male</td>\n",
       "      <td>76840</td>\n",
       "    </tr>\n",
       "    <tr>\n",
       "      <th>330</th>\n",
       "      <td>331</td>\n",
       "      <td>Prof</td>\n",
       "      <td>B</td>\n",
       "      <td>49</td>\n",
       "      <td>60</td>\n",
       "      <td>Male</td>\n",
       "      <td>192253</td>\n",
       "    </tr>\n",
       "  </tbody>\n",
       "</table>\n",
       "<p>397 rows × 7 columns</p>\n",
       "</div>"
      ],
      "text/plain": [
       "     Unnamed: 0       rank discipline  phd  service     sex  salary\n",
       "127         128   AsstProf          A    2        0  Female   72500\n",
       "154         155   AsstProf          B    4        0    Male   92000\n",
       "35           36   AsstProf          B    5        0  Female   77000\n",
       "114         115       Prof          A   12        0  Female  105000\n",
       "28           29   AsstProf          B   11        0    Male   77000\n",
       "..          ...        ...        ...  ...      ...     ...     ...\n",
       "350         351       Prof          B   56       49    Male  186960\n",
       "282         283       Prof          A   51       51    Male   57800\n",
       "194         195  AssocProf          B   48       53    Male   90000\n",
       "131         132       Prof          A   56       57    Male   76840\n",
       "330         331       Prof          B   49       60    Male  192253\n",
       "\n",
       "[397 rows x 7 columns]"
      ]
     },
     "execution_count": 13,
     "metadata": {},
     "output_type": "execute_result"
    }
   ],
   "source": [
    "df.sort_values(\"service\")"
   ]
  },
  {
   "cell_type": "markdown",
   "metadata": {},
   "source": [
    "Что мы можем сделать в таком случае? Добавить сортировку по второму основанию: если строк с некоторым значением `service` несколько, среди них производим дополнительную сортировку по `phd`, то есть по числу лет с момента получения степени:"
   ]
  },
  {
   "cell_type": "code",
   "execution_count": 14,
   "metadata": {},
   "outputs": [
    {
     "data": {
      "text/html": [
       "<div>\n",
       "<style scoped>\n",
       "    .dataframe tbody tr th:only-of-type {\n",
       "        vertical-align: middle;\n",
       "    }\n",
       "\n",
       "    .dataframe tbody tr th {\n",
       "        vertical-align: top;\n",
       "    }\n",
       "\n",
       "    .dataframe thead th {\n",
       "        text-align: right;\n",
       "    }\n",
       "</style>\n",
       "<table border=\"1\" class=\"dataframe\">\n",
       "  <thead>\n",
       "    <tr style=\"text-align: right;\">\n",
       "      <th></th>\n",
       "      <th>Unnamed: 0</th>\n",
       "      <th>rank</th>\n",
       "      <th>discipline</th>\n",
       "      <th>phd</th>\n",
       "      <th>service</th>\n",
       "      <th>sex</th>\n",
       "      <th>salary</th>\n",
       "    </tr>\n",
       "  </thead>\n",
       "  <tbody>\n",
       "    <tr>\n",
       "      <th>157</th>\n",
       "      <td>158</td>\n",
       "      <td>AsstProf</td>\n",
       "      <td>B</td>\n",
       "      <td>1</td>\n",
       "      <td>0</td>\n",
       "      <td>Male</td>\n",
       "      <td>88000</td>\n",
       "    </tr>\n",
       "    <tr>\n",
       "      <th>164</th>\n",
       "      <td>165</td>\n",
       "      <td>AsstProf</td>\n",
       "      <td>B</td>\n",
       "      <td>1</td>\n",
       "      <td>0</td>\n",
       "      <td>Male</td>\n",
       "      <td>88795</td>\n",
       "    </tr>\n",
       "    <tr>\n",
       "      <th>127</th>\n",
       "      <td>128</td>\n",
       "      <td>AsstProf</td>\n",
       "      <td>A</td>\n",
       "      <td>2</td>\n",
       "      <td>0</td>\n",
       "      <td>Female</td>\n",
       "      <td>72500</td>\n",
       "    </tr>\n",
       "    <tr>\n",
       "      <th>13</th>\n",
       "      <td>14</td>\n",
       "      <td>AsstProf</td>\n",
       "      <td>B</td>\n",
       "      <td>2</td>\n",
       "      <td>0</td>\n",
       "      <td>Male</td>\n",
       "      <td>78000</td>\n",
       "    </tr>\n",
       "    <tr>\n",
       "      <th>287</th>\n",
       "      <td>288</td>\n",
       "      <td>AsstProf</td>\n",
       "      <td>A</td>\n",
       "      <td>2</td>\n",
       "      <td>0</td>\n",
       "      <td>Male</td>\n",
       "      <td>85000</td>\n",
       "    </tr>\n",
       "    <tr>\n",
       "      <th>...</th>\n",
       "      <td>...</td>\n",
       "      <td>...</td>\n",
       "      <td>...</td>\n",
       "      <td>...</td>\n",
       "      <td>...</td>\n",
       "      <td>...</td>\n",
       "      <td>...</td>\n",
       "    </tr>\n",
       "    <tr>\n",
       "      <th>350</th>\n",
       "      <td>351</td>\n",
       "      <td>Prof</td>\n",
       "      <td>B</td>\n",
       "      <td>56</td>\n",
       "      <td>49</td>\n",
       "      <td>Male</td>\n",
       "      <td>186960</td>\n",
       "    </tr>\n",
       "    <tr>\n",
       "      <th>282</th>\n",
       "      <td>283</td>\n",
       "      <td>Prof</td>\n",
       "      <td>A</td>\n",
       "      <td>51</td>\n",
       "      <td>51</td>\n",
       "      <td>Male</td>\n",
       "      <td>57800</td>\n",
       "    </tr>\n",
       "    <tr>\n",
       "      <th>194</th>\n",
       "      <td>195</td>\n",
       "      <td>AssocProf</td>\n",
       "      <td>B</td>\n",
       "      <td>48</td>\n",
       "      <td>53</td>\n",
       "      <td>Male</td>\n",
       "      <td>90000</td>\n",
       "    </tr>\n",
       "    <tr>\n",
       "      <th>131</th>\n",
       "      <td>132</td>\n",
       "      <td>Prof</td>\n",
       "      <td>A</td>\n",
       "      <td>56</td>\n",
       "      <td>57</td>\n",
       "      <td>Male</td>\n",
       "      <td>76840</td>\n",
       "    </tr>\n",
       "    <tr>\n",
       "      <th>330</th>\n",
       "      <td>331</td>\n",
       "      <td>Prof</td>\n",
       "      <td>B</td>\n",
       "      <td>49</td>\n",
       "      <td>60</td>\n",
       "      <td>Male</td>\n",
       "      <td>192253</td>\n",
       "    </tr>\n",
       "  </tbody>\n",
       "</table>\n",
       "<p>397 rows × 7 columns</p>\n",
       "</div>"
      ],
      "text/plain": [
       "     Unnamed: 0       rank discipline  phd  service     sex  salary\n",
       "157         158   AsstProf          B    1        0    Male   88000\n",
       "164         165   AsstProf          B    1        0    Male   88795\n",
       "127         128   AsstProf          A    2        0  Female   72500\n",
       "13           14   AsstProf          B    2        0    Male   78000\n",
       "287         288   AsstProf          A    2        0    Male   85000\n",
       "..          ...        ...        ...  ...      ...     ...     ...\n",
       "350         351       Prof          B   56       49    Male  186960\n",
       "282         283       Prof          A   51       51    Male   57800\n",
       "194         195  AssocProf          B   48       53    Male   90000\n",
       "131         132       Prof          A   56       57    Male   76840\n",
       "330         331       Prof          B   49       60    Male  192253\n",
       "\n",
       "[397 rows x 7 columns]"
      ]
     },
     "execution_count": 14,
     "metadata": {},
     "output_type": "execute_result"
    }
   ],
   "source": [
    "df.sort_values([\"service\", \"phd\"])"
   ]
  },
  {
   "cell_type": "markdown",
   "metadata": {},
   "source": [
    "**Дополнение.** Если порядок сортировки разный у каждого основания, например, в примере выше мы хотим отсортировать строки по стажу `service` в порядке возрастания, а по числу лет с момента получения степени `phd` в порядке убывания, то в `ascending` можно вписать список из логических значений:"
   ]
  },
  {
   "cell_type": "code",
   "execution_count": 15,
   "metadata": {},
   "outputs": [
    {
     "data": {
      "text/html": [
       "<div>\n",
       "<style scoped>\n",
       "    .dataframe tbody tr th:only-of-type {\n",
       "        vertical-align: middle;\n",
       "    }\n",
       "\n",
       "    .dataframe tbody tr th {\n",
       "        vertical-align: top;\n",
       "    }\n",
       "\n",
       "    .dataframe thead th {\n",
       "        text-align: right;\n",
       "    }\n",
       "</style>\n",
       "<table border=\"1\" class=\"dataframe\">\n",
       "  <thead>\n",
       "    <tr style=\"text-align: right;\">\n",
       "      <th></th>\n",
       "      <th>Unnamed: 0</th>\n",
       "      <th>rank</th>\n",
       "      <th>discipline</th>\n",
       "      <th>phd</th>\n",
       "      <th>service</th>\n",
       "      <th>sex</th>\n",
       "      <th>salary</th>\n",
       "    </tr>\n",
       "  </thead>\n",
       "  <tbody>\n",
       "    <tr>\n",
       "      <th>114</th>\n",
       "      <td>115</td>\n",
       "      <td>Prof</td>\n",
       "      <td>A</td>\n",
       "      <td>12</td>\n",
       "      <td>0</td>\n",
       "      <td>Female</td>\n",
       "      <td>105000</td>\n",
       "    </tr>\n",
       "    <tr>\n",
       "      <th>28</th>\n",
       "      <td>29</td>\n",
       "      <td>AsstProf</td>\n",
       "      <td>B</td>\n",
       "      <td>11</td>\n",
       "      <td>0</td>\n",
       "      <td>Male</td>\n",
       "      <td>77000</td>\n",
       "    </tr>\n",
       "    <tr>\n",
       "      <th>308</th>\n",
       "      <td>309</td>\n",
       "      <td>AsstProf</td>\n",
       "      <td>A</td>\n",
       "      <td>5</td>\n",
       "      <td>0</td>\n",
       "      <td>Male</td>\n",
       "      <td>74000</td>\n",
       "    </tr>\n",
       "    <tr>\n",
       "      <th>35</th>\n",
       "      <td>36</td>\n",
       "      <td>AsstProf</td>\n",
       "      <td>B</td>\n",
       "      <td>5</td>\n",
       "      <td>0</td>\n",
       "      <td>Female</td>\n",
       "      <td>77000</td>\n",
       "    </tr>\n",
       "    <tr>\n",
       "      <th>95</th>\n",
       "      <td>96</td>\n",
       "      <td>AsstProf</td>\n",
       "      <td>B</td>\n",
       "      <td>4</td>\n",
       "      <td>0</td>\n",
       "      <td>Male</td>\n",
       "      <td>84000</td>\n",
       "    </tr>\n",
       "    <tr>\n",
       "      <th>...</th>\n",
       "      <td>...</td>\n",
       "      <td>...</td>\n",
       "      <td>...</td>\n",
       "      <td>...</td>\n",
       "      <td>...</td>\n",
       "      <td>...</td>\n",
       "      <td>...</td>\n",
       "    </tr>\n",
       "    <tr>\n",
       "      <th>285</th>\n",
       "      <td>286</td>\n",
       "      <td>AssocProf</td>\n",
       "      <td>A</td>\n",
       "      <td>49</td>\n",
       "      <td>49</td>\n",
       "      <td>Male</td>\n",
       "      <td>81800</td>\n",
       "    </tr>\n",
       "    <tr>\n",
       "      <th>282</th>\n",
       "      <td>283</td>\n",
       "      <td>Prof</td>\n",
       "      <td>A</td>\n",
       "      <td>51</td>\n",
       "      <td>51</td>\n",
       "      <td>Male</td>\n",
       "      <td>57800</td>\n",
       "    </tr>\n",
       "    <tr>\n",
       "      <th>194</th>\n",
       "      <td>195</td>\n",
       "      <td>AssocProf</td>\n",
       "      <td>B</td>\n",
       "      <td>48</td>\n",
       "      <td>53</td>\n",
       "      <td>Male</td>\n",
       "      <td>90000</td>\n",
       "    </tr>\n",
       "    <tr>\n",
       "      <th>131</th>\n",
       "      <td>132</td>\n",
       "      <td>Prof</td>\n",
       "      <td>A</td>\n",
       "      <td>56</td>\n",
       "      <td>57</td>\n",
       "      <td>Male</td>\n",
       "      <td>76840</td>\n",
       "    </tr>\n",
       "    <tr>\n",
       "      <th>330</th>\n",
       "      <td>331</td>\n",
       "      <td>Prof</td>\n",
       "      <td>B</td>\n",
       "      <td>49</td>\n",
       "      <td>60</td>\n",
       "      <td>Male</td>\n",
       "      <td>192253</td>\n",
       "    </tr>\n",
       "  </tbody>\n",
       "</table>\n",
       "<p>397 rows × 7 columns</p>\n",
       "</div>"
      ],
      "text/plain": [
       "     Unnamed: 0       rank discipline  phd  service     sex  salary\n",
       "114         115       Prof          A   12        0  Female  105000\n",
       "28           29   AsstProf          B   11        0    Male   77000\n",
       "308         309   AsstProf          A    5        0    Male   74000\n",
       "35           36   AsstProf          B    5        0  Female   77000\n",
       "95           96   AsstProf          B    4        0    Male   84000\n",
       "..          ...        ...        ...  ...      ...     ...     ...\n",
       "285         286  AssocProf          A   49       49    Male   81800\n",
       "282         283       Prof          A   51       51    Male   57800\n",
       "194         195  AssocProf          B   48       53    Male   90000\n",
       "131         132       Prof          A   56       57    Male   76840\n",
       "330         331       Prof          B   49       60    Male  192253\n",
       "\n",
       "[397 rows x 7 columns]"
      ]
     },
     "execution_count": 15,
     "metadata": {},
     "output_type": "execute_result"
    }
   ],
   "source": [
    "# True для service\n",
    "# False для phd\n",
    "\n",
    "df.sort_values([\"service\", \"phd\"], \n",
    "               ascending = [True, False])"
   ]
  },
  {
   "cell_type": "markdown",
   "metadata": {},
   "source": [
    "## Часть 2: визуализация данных\n",
    "\n",
    "Если нам не нужно выполнять какие-то более тонкие настройки графиков, для визуализации достаточно методов на датафреймах `pandas`, без загрузки дополнительной библиотеки `matplotlib`, которая обычно используется для построения графиков. \n",
    "\n",
    "Для выбора столбца, который мы собираемся описывать и визуализировать, достаточно указать его название в кавычках в квадратных скобках после названия датафрейма. Проверим это на столбце с заработной платой и методе `.describe()`."
   ]
  },
  {
   "cell_type": "code",
   "execution_count": 16,
   "metadata": {},
   "outputs": [
    {
     "data": {
      "text/plain": [
       "count       397.000000\n",
       "mean     113706.458438\n",
       "std       30289.038695\n",
       "min       57800.000000\n",
       "25%       91000.000000\n",
       "50%      107300.000000\n",
       "75%      134185.000000\n",
       "max      231545.000000\n",
       "Name: salary, dtype: float64"
      ]
     },
     "execution_count": 16,
     "metadata": {},
     "output_type": "execute_result"
    }
   ],
   "source": [
    "df[\"salary\"].describe()"
   ]
  },
  {
   "cell_type": "markdown",
   "metadata": {},
   "source": [
    "Для других методов это работает точно так же (названия интуитивные и соответствуют аналогичным функциям в `numpy`):"
   ]
  },
  {
   "cell_type": "code",
   "execution_count": 17,
   "metadata": {},
   "outputs": [
    {
     "name": "stdout",
     "output_type": "stream",
     "text": [
      "113706.45843828715\n",
      "30289.038694747822\n",
      "107300.0\n",
      "91000.0\n",
      "134185.0\n"
     ]
    }
   ],
   "source": [
    "print(df[\"salary\"].mean())\n",
    "print(df[\"salary\"].std())\n",
    "\n",
    "print(df[\"salary\"].median())\n",
    "print(df[\"salary\"].quantile(0.25))\n",
    "print(df[\"salary\"].quantile(0.75))"
   ]
  },
  {
   "cell_type": "markdown",
   "metadata": {},
   "source": [
    ">В отличие от `numpy`, в библиотеке `pandas` при вычислении выборочного стандартного отклонения с помощью метода `.std()` используется более распространённая формула с $n-1$ в знаменателе (несмещённая оценка), которую мы обсуждали ранее, поэтому здесь аргумент `ddof` не нужен."
   ]
  },
  {
   "cell_type": "markdown",
   "metadata": {},
   "source": [
    "Давайте остановимся на этом столбце и построим для него различные графики!"
   ]
  },
  {
   "cell_type": "markdown",
   "metadata": {},
   "source": [
    "### Задание 1\n",
    "\n",
    "Постройте для столбца `salary` гистограмму и прокомментируйте распределение заработной платы.\n",
    "\n",
    "*Подсказка:* метод `.plot()` с аргументом `kind = \"hist\"`, за цвет заливки отвечает аргумент `color`, за цвет границ столбцов – аргумент `edgecolor`."
   ]
  },
  {
   "cell_type": "code",
   "execution_count": 18,
   "metadata": {},
   "outputs": [
    {
     "data": {
      "image/png": "[encoded data removed]",
      "text/plain": [
       "<Figure size 432x288 with 1 Axes>"
      ]
     },
     "metadata": {
      "needs_background": "light"
     },
     "output_type": "display_data"
    }
   ],
   "source": [
    "df[\"salary\"].plot(kind = \"hist\", \n",
    "                  color = \"cornflowerblue\", \n",
    "                  edgecolor = \"white\");"
   ]
  },
  {
   "cell_type": "markdown",
   "metadata": {},
   "source": [
    "Точку с запятой в конце строки ставить необязательно, если её убрать, помимо графика на экран будет выведена строка с информацией о том, что Python временно создал где-то объект типа *оси с графиком* и добавил туда подпись к оси `y`. Цвета можно добавлять как по названию (список цветов в `matplotlib` можно найти [здесь](https://matplotlib.org/stable/gallery/color/named_colors.html)), так и по коду HEX (копируется вместе с `#`):"
   ]
  },
  {
   "cell_type": "code",
   "execution_count": 19,
   "metadata": {},
   "outputs": [
    {
     "data": {
      "image/png": "[encoded data removed]",
      "text/plain": [
       "<Figure size 432x288 with 1 Axes>"
      ]
     },
     "metadata": {
      "needs_background": "light"
     },
     "output_type": "display_data"
    }
   ],
   "source": [
    "df[\"salary\"].plot(kind = \"hist\", \n",
    "                  color = \"#c21184\", \n",
    "                  edgecolor = \"white\");"
   ]
  },
  {
   "cell_type": "markdown",
   "metadata": {},
   "source": [
    ">**Интерпретация.** Распределение заработной платы сотрудников несимметричное, скошено вправо, это означает, что в выборке есть нехарактерно большие значения, то есть люди с очень большой заработной платой. Таких людей мало, собственно, тут есть один человек с суммарной зарплатой в районе 225000$. Также по гистограмме мы можем оценить разброс значений, если посмотрим на горизонтальную ось, отметим, что у нас есть данные по сотрудникам, чья заработная плата не ниже 60000 и не выше 230000 (примерно)."
   ]
  },
  {
   "cell_type": "markdown",
   "metadata": {},
   "source": [
    "**Дополнительно.** Можем сохранить построенный график в переменную, чтобы затем его доработать."
   ]
  },
  {
   "cell_type": "code",
   "execution_count": 20,
   "metadata": {},
   "outputs": [
    {
     "name": "stdout",
     "output_type": "stream",
     "text": [
      "<class 'matplotlib.axes._subplots.AxesSubplot'>\n"
     ]
    },
    {
     "data": {
      "image/png": "[encoded data removed]",
      "text/plain": [
       "<Figure size 432x288 with 1 Axes>"
      ]
     },
     "metadata": {
      "needs_background": "light"
     },
     "output_type": "display_data"
    }
   ],
   "source": [
    "ax = df[\"salary\"].plot(kind = \"hist\", \n",
    "                       color = \"cornflowerblue\", \n",
    "                       edgecolor = \"white\");\n",
    "print(type(ax))"
   ]
  },
  {
   "cell_type": "markdown",
   "metadata": {},
   "source": [
    "В переменной `ax` сейчас хранится объект типа `matplotlib.axes._subplots.AxesSubplot`, оси графика, который строится с помощью графической библиотеки `matplotlib`. Эту библиотеку мы нигде не импортировали, она автоматически подгружается при импорте `pandas`, и `pandas` может использовать оттуда разные функции для визуализации данных из таблицы.\n",
    "\n",
    "Большинство функций и методов имеют довольно интуитивные названия. Убедимся в этом:"
   ]
  },
  {
   "cell_type": "code",
   "execution_count": 21,
   "metadata": {},
   "outputs": [
    {
     "data": {
      "image/png": "[encoded data removed]",
      "text/plain": [
       "<Figure size 1152x648 with 1 Axes>"
      ]
     },
     "metadata": {
      "needs_background": "light"
     },
     "output_type": "display_data"
    }
   ],
   "source": [
    "# figsize = (16, 9): размер в дюймах\n",
    "\n",
    "ax = df[\"salary\"].plot(kind = \"hist\", \n",
    "                       color = \"cornflowerblue\", \n",
    "                       edgecolor = \"white\",\n",
    "                       figsize = (16, 9));\n",
    "\n",
    "# заголовок и подписи к осям\n",
    "# fontsize – размер шрифта, \n",
    "# loc – положение заголовка\n",
    "\n",
    "ax.set_title(\"Заработная плата за 9 месяцев\", \n",
    "             fontsize = 20, loc = \"left\");\n",
    "ax.set_xlabel(\"Заработная плата (в долларах)\", fontsize = 16);\n",
    "ax.set_ylabel(\"Количество сотрудников\", fontsize = 16);\n",
    "\n",
    "# grid – координатная сетка\n",
    "# set_axisbelow – отправляем сетку под график,\n",
    "# чтобы не перекрывала столбцы\n",
    "\n",
    "ax.grid();\n",
    "ax.set_axisbelow(True);"
   ]
  },
  {
   "cell_type": "markdown",
   "metadata": {},
   "source": [
    "### Задание 2\n",
    "\n",
    "Постройте для столбца `salary` сглаженный график плотности распределения и прокомментируйте полученный график.\n",
    "\n",
    "*Подсказка:* тот же метод `.plot()` с аргументом `kind = \"kde\"`."
   ]
  },
  {
   "cell_type": "code",
   "execution_count": 22,
   "metadata": {},
   "outputs": [
    {
     "data": {
      "image/png": "[encoded data removed]",
      "text/plain": [
       "<Figure size 432x288 with 1 Axes>"
      ]
     },
     "metadata": {
      "needs_background": "light"
     },
     "output_type": "display_data"
    }
   ],
   "source": [
    "df[\"salary\"].plot(kind = \"kde\", color = \"navy\");"
   ]
  },
  {
   "cell_type": "markdown",
   "metadata": {},
   "source": [
    ">**Интерпретация.** Видим ту же скошенность вправо, так как выборка достаточно большая, проблем с уместностью этого графика нет."
   ]
  },
  {
   "cell_type": "markdown",
   "metadata": {},
   "source": [
    "### Задание 3\n",
    "\n",
    "Постройте для столбца `salary` ящик с усами и прокомментируйте полученный график.\n",
    "\n",
    "*Подсказка:* тот же метод `.plot()` с аргументом `kind = \"box\"`."
   ]
  },
  {
   "cell_type": "code",
   "execution_count": 23,
   "metadata": {},
   "outputs": [
    {
     "data": {
      "image/png": "[encoded data removed]",
      "text/plain": [
       "<Figure size 432x288 with 1 Axes>"
      ]
     },
     "metadata": {
      "needs_background": "light"
     },
     "output_type": "display_data"
    }
   ],
   "source": [
    "df[\"salary\"].plot(kind = \"box\");"
   ]
  },
  {
   "cell_type": "markdown",
   "metadata": {},
   "source": [
    ">**Интерпретация.** По ящику с усами тоже видно, что распределение скошено вправо (медиана не посередине ящика, ближе к нижней границе, верхний ус длинее нижнего). В выборке есть нехарактерные значения заработной платы, это значения от 200000 долларов. Число выбросов – как минимум три, если есть сотрудники с одинаковой заработной платой, значения для разных людей схлопнутся в одну точку. Минимальная заработная плата около 60000 (нижний ус), максимальная среди типичных значений – около 190000. Нижний квартиль примерно 90000, верхний – примерно 130000, медиана – около 110000."
   ]
  },
  {
   "cell_type": "markdown",
   "metadata": {},
   "source": [
    "### Задание 4\n",
    "\n",
    "Постройте графики из заданий 1-3 для опыта работы (стажа в годах), сохранённого в столбце `service`. Прокомментируйте полученные распределения."
   ]
  },
  {
   "cell_type": "code",
   "execution_count": 24,
   "metadata": {},
   "outputs": [
    {
     "data": {
      "image/png": "[encoded data removed]",
      "text/plain": [
       "<Figure size 432x288 with 1 Axes>"
      ]
     },
     "metadata": {
      "needs_background": "light"
     },
     "output_type": "display_data"
    }
   ],
   "source": [
    "df[\"service\"].plot(kind = \"hist\", color = \"limegreen\", \n",
    "                       edgecolor = \"white\");"
   ]
  },
  {
   "cell_type": "code",
   "execution_count": 25,
   "metadata": {},
   "outputs": [
    {
     "data": {
      "image/png": "[encoded data removed]",
      "text/plain": [
       "<Figure size 432x288 with 1 Axes>"
      ]
     },
     "metadata": {
      "needs_background": "light"
     },
     "output_type": "display_data"
    }
   ],
   "source": [
    "df[\"service\"].plot(kind = \"kde\", color = \"limegreen\");"
   ]
  },
  {
   "cell_type": "code",
   "execution_count": 26,
   "metadata": {},
   "outputs": [
    {
     "data": {
      "image/png": "[encoded data removed]",
      "text/plain": [
       "<Figure size 432x288 with 1 Axes>"
      ]
     },
     "metadata": {
      "needs_background": "light"
     },
     "output_type": "display_data"
    }
   ],
   "source": [
    "df[\"service\"].plot(kind = \"box\");"
   ]
  },
  {
   "cell_type": "markdown",
   "metadata": {},
   "source": [
    ">**Интерпретация.** Распределение опыта работы тоже скошено вправо, при этом в распределении есть два пика, один повыше, другой пониже. Распределение можно считать бимодальным, есть довольно значительная группа сотрудников с опытом работы около 10 лет (более 80 человек), и есть группа с опытом работы 20-25 лет (около 70 человек). Есть один сотрудник с очень нетипично большим опытом работы 60 лет."
   ]
  },
  {
   "cell_type": "markdown",
   "metadata": {},
   "source": [
    "## Часть 3: группировка и описание данных\n",
    "\n",
    "Для того, чтобы описывать данные и строить графики по группам, необязательно отфильтровывать строки, соответствующие каждой группе, в отдельный датафрейм и работать с каждой группой отдельно. Для базового описания достаточно воспользоваться методом `.groupby()`. Внутри этого метода можно вписать название столбца, на основе которого мы выполняем группировку, а затем из результата группировки через квадратные скобки выбрать столбец или столбцы, которые мы хотим описать или как-то обработать. \n",
    "\n",
    "Сгруппируем строки в `df` по полу и выведем описательные статистики для заработной платы `salary` в каждой группе:"
   ]
  },
  {
   "cell_type": "code",
   "execution_count": 27,
   "metadata": {},
   "outputs": [
    {
     "data": {
      "text/html": [
       "<div>\n",
       "<style scoped>\n",
       "    .dataframe tbody tr th:only-of-type {\n",
       "        vertical-align: middle;\n",
       "    }\n",
       "\n",
       "    .dataframe tbody tr th {\n",
       "        vertical-align: top;\n",
       "    }\n",
       "\n",
       "    .dataframe thead th {\n",
       "        text-align: right;\n",
       "    }\n",
       "</style>\n",
       "<table border=\"1\" class=\"dataframe\">\n",
       "  <thead>\n",
       "    <tr style=\"text-align: right;\">\n",
       "      <th></th>\n",
       "      <th>count</th>\n",
       "      <th>mean</th>\n",
       "      <th>std</th>\n",
       "      <th>min</th>\n",
       "      <th>25%</th>\n",
       "      <th>50%</th>\n",
       "      <th>75%</th>\n",
       "      <th>max</th>\n",
       "    </tr>\n",
       "    <tr>\n",
       "      <th>sex</th>\n",
       "      <th></th>\n",
       "      <th></th>\n",
       "      <th></th>\n",
       "      <th></th>\n",
       "      <th></th>\n",
       "      <th></th>\n",
       "      <th></th>\n",
       "      <th></th>\n",
       "    </tr>\n",
       "  </thead>\n",
       "  <tbody>\n",
       "    <tr>\n",
       "      <th>Female</th>\n",
       "      <td>39.0</td>\n",
       "      <td>101002.410256</td>\n",
       "      <td>25952.127317</td>\n",
       "      <td>62884.0</td>\n",
       "      <td>77250.0</td>\n",
       "      <td>103750.0</td>\n",
       "      <td>117002.50</td>\n",
       "      <td>161101.0</td>\n",
       "    </tr>\n",
       "    <tr>\n",
       "      <th>Male</th>\n",
       "      <td>358.0</td>\n",
       "      <td>115090.418994</td>\n",
       "      <td>30436.927344</td>\n",
       "      <td>57800.0</td>\n",
       "      <td>92000.0</td>\n",
       "      <td>108043.0</td>\n",
       "      <td>134863.75</td>\n",
       "      <td>231545.0</td>\n",
       "    </tr>\n",
       "  </tbody>\n",
       "</table>\n",
       "</div>"
      ],
      "text/plain": [
       "        count           mean           std      min      25%       50%  \\\n",
       "sex                                                                      \n",
       "Female   39.0  101002.410256  25952.127317  62884.0  77250.0  103750.0   \n",
       "Male    358.0  115090.418994  30436.927344  57800.0  92000.0  108043.0   \n",
       "\n",
       "              75%       max  \n",
       "sex                          \n",
       "Female  117002.50  161101.0  \n",
       "Male    134863.75  231545.0  "
      ]
     },
     "execution_count": 27,
     "metadata": {},
     "output_type": "execute_result"
    }
   ],
   "source": [
    "df.groupby(\"sex\")[\"salary\"].describe() # проинтерпретируем"
   ]
  },
  {
   "cell_type": "markdown",
   "metadata": {},
   "source": [
    ">В среднем, заработная плата мужчин выше (и среднее, и медиана выше), однако минимальная заработная плата выше у женщин. Более разнообразны значения заработной платы у мужчин – в этой группе выборочное стандартное отклонение выше (30436 против 25952) и гораздо более существенна разница между максимальным и минимальным значением. Среди мужчин точно есть сотрудники с нехарактерно высокой заработной платой, хотя среднее и медиана отличаются не очень сильно (учитывая единицы измерения), максимальное значение превышает верхний квартиль почти на 100 тысяч долларов. При этом стоит отметить, что женщин в выборке довольно мало (всего 39), то есть, если мы еще поделим всех сотрудников на группы, возможно, некоторые группы будут совсем маленькие, что не очень хорошо для последующего статистического анализа."
   ]
  },
  {
   "cell_type": "markdown",
   "metadata": {},
   "source": [
    "Как и в случае с сортировкой, оснований для группировки может быть несколько. Сгруппируем строки по типу преподаваемой дисциплины и полу:"
   ]
  },
  {
   "cell_type": "code",
   "execution_count": 28,
   "metadata": {},
   "outputs": [
    {
     "data": {
      "text/html": [
       "<div>\n",
       "<style scoped>\n",
       "    .dataframe tbody tr th:only-of-type {\n",
       "        vertical-align: middle;\n",
       "    }\n",
       "\n",
       "    .dataframe tbody tr th {\n",
       "        vertical-align: top;\n",
       "    }\n",
       "\n",
       "    .dataframe thead th {\n",
       "        text-align: right;\n",
       "    }\n",
       "</style>\n",
       "<table border=\"1\" class=\"dataframe\">\n",
       "  <thead>\n",
       "    <tr style=\"text-align: right;\">\n",
       "      <th></th>\n",
       "      <th></th>\n",
       "      <th>count</th>\n",
       "      <th>mean</th>\n",
       "      <th>std</th>\n",
       "      <th>min</th>\n",
       "      <th>25%</th>\n",
       "      <th>50%</th>\n",
       "      <th>75%</th>\n",
       "      <th>max</th>\n",
       "    </tr>\n",
       "    <tr>\n",
       "      <th>discipline</th>\n",
       "      <th>sex</th>\n",
       "      <th></th>\n",
       "      <th></th>\n",
       "      <th></th>\n",
       "      <th></th>\n",
       "      <th></th>\n",
       "      <th></th>\n",
       "      <th></th>\n",
       "      <th></th>\n",
       "    </tr>\n",
       "  </thead>\n",
       "  <tbody>\n",
       "    <tr>\n",
       "      <th rowspan=\"2\" valign=\"top\">A</th>\n",
       "      <th>Female</th>\n",
       "      <td>18.0</td>\n",
       "      <td>89064.944444</td>\n",
       "      <td>21638.580595</td>\n",
       "      <td>62884.0</td>\n",
       "      <td>73350.0</td>\n",
       "      <td>78000.0</td>\n",
       "      <td>108484.5</td>\n",
       "      <td>137000.0</td>\n",
       "    </tr>\n",
       "    <tr>\n",
       "      <th>Male</th>\n",
       "      <td>163.0</td>\n",
       "      <td>110699.981595</td>\n",
       "      <td>30663.119265</td>\n",
       "      <td>57800.0</td>\n",
       "      <td>87347.5</td>\n",
       "      <td>105260.0</td>\n",
       "      <td>127950.0</td>\n",
       "      <td>205500.0</td>\n",
       "    </tr>\n",
       "    <tr>\n",
       "      <th rowspan=\"2\" valign=\"top\">B</th>\n",
       "      <th>Female</th>\n",
       "      <td>21.0</td>\n",
       "      <td>111234.523810</td>\n",
       "      <td>25367.239751</td>\n",
       "      <td>71065.0</td>\n",
       "      <td>97032.0</td>\n",
       "      <td>105450.0</td>\n",
       "      <td>127512.0</td>\n",
       "      <td>161101.0</td>\n",
       "    </tr>\n",
       "    <tr>\n",
       "      <th>Male</th>\n",
       "      <td>195.0</td>\n",
       "      <td>118760.374359</td>\n",
       "      <td>29831.315448</td>\n",
       "      <td>67559.0</td>\n",
       "      <td>94731.5</td>\n",
       "      <td>113600.0</td>\n",
       "      <td>141318.0</td>\n",
       "      <td>231545.0</td>\n",
       "    </tr>\n",
       "  </tbody>\n",
       "</table>\n",
       "</div>"
      ],
      "text/plain": [
       "                   count           mean           std      min      25%  \\\n",
       "discipline sex                                                            \n",
       "A          Female   18.0   89064.944444  21638.580595  62884.0  73350.0   \n",
       "           Male    163.0  110699.981595  30663.119265  57800.0  87347.5   \n",
       "B          Female   21.0  111234.523810  25367.239751  71065.0  97032.0   \n",
       "           Male    195.0  118760.374359  29831.315448  67559.0  94731.5   \n",
       "\n",
       "                        50%       75%       max  \n",
       "discipline sex                                   \n",
       "A          Female   78000.0  108484.5  137000.0  \n",
       "           Male    105260.0  127950.0  205500.0  \n",
       "B          Female  105450.0  127512.0  161101.0  \n",
       "           Male    113600.0  141318.0  231545.0  "
      ]
     },
     "execution_count": 28,
     "metadata": {},
     "output_type": "execute_result"
    }
   ],
   "source": [
    "df.groupby([\"discipline\", \"sex\"])[\"salary\"].describe() # проинтерпретируем"
   ]
  },
  {
   "cell_type": "markdown",
   "metadata": {},
   "source": [
    ">Особенности распределения заработной платы мужчин и женщин мы уже зафиксировали, здесь они тоже наблюдаются. Если сравнивать зарплаты «теоретиков» (преподающих дисциплины типа A) и «практиков» (преподающих дисциплины типа B), заметно, что заработная плата «практиков», в целом, выше. Это объяснимо, практические дисциплины обычно преподаются в небольших группах, а значит, пар для потока студентов проводится больше, что не может не сказаться на нагрузке сотрудника и, как следствие, на зарплате. "
   ]
  },
  {
   "cell_type": "markdown",
   "metadata": {},
   "source": [
    "Вместо `.describe()` можно вписать любой метод, который работает на отдельных столбцах и подходит для типа выбранных данных:"
   ]
  },
  {
   "cell_type": "code",
   "execution_count": 29,
   "metadata": {},
   "outputs": [
    {
     "data": {
      "text/plain": [
       "discipline  sex   \n",
       "A           Female     89064.944444\n",
       "            Male      110699.981595\n",
       "B           Female    111234.523810\n",
       "            Male      118760.374359\n",
       "Name: salary, dtype: float64"
      ]
     },
     "execution_count": 29,
     "metadata": {},
     "output_type": "execute_result"
    }
   ],
   "source": [
    "df.groupby([\"discipline\", \"sex\"])[\"salary\"].mean()"
   ]
  },
  {
   "cell_type": "markdown",
   "metadata": {},
   "source": [
    "Раз можно описывать данные сразу по группам, сразу по группам можно строить и графики!"
   ]
  },
  {
   "cell_type": "markdown",
   "metadata": {},
   "source": [
    "### Задание 1\n",
    "\n",
    "Постройте гистограммы для заработной платы с группировкой по полу – одна гистограмма для сотрудников-женщин, другая – для сотрудников-мужчин. \n",
    "\n",
    "*Подсказка:* метод `.hist()`, применяется ко всему датафрейму, внутри указываем название столбца и основание группировки в аргументе `by`."
   ]
  },
  {
   "cell_type": "code",
   "execution_count": 30,
   "metadata": {},
   "outputs": [
    {
     "data": {
      "image/png": "[encoded data removed]",
      "text/plain": [
       "<Figure size 432x288 with 2 Axes>"
      ]
     },
     "metadata": {
      "needs_background": "light"
     },
     "output_type": "display_data"
    }
   ],
   "source": [
    "df.hist(\"salary\", by = \"sex\", \n",
    "        color = \"limegreen\", \n",
    "        edgecolor = \"white\");"
   ]
  },
  {
   "cell_type": "markdown",
   "metadata": {},
   "source": [
    ">И после деления сотрудников по полу распределение заработной платы в каждой группе остается скошенным вправо (у женщин это менее выражено). Распределение заработной платы у женщин можно считать бимодальным, есть группа женщин с заработной платой в окрестности 110000 долларов и группа женщин, чья зарплата сконцентирована в окрестности 75000 долларов. Также по этим гистограммам можно понять, что число сотрудников женского пола довольно мало, самый высокий столбец в гистограмме имеет высоту 10, то есть интервал самых распространенных значений включает значения заработной платы 10 сотрудников, остальные интервалы – еще меньше."
   ]
  },
  {
   "cell_type": "markdown",
   "metadata": {},
   "source": [
    "### Задание 2\n",
    "\n",
    "Постройте гистограммы для заработной платы с группировкой по типу дисциплины и полу. Всего должно получиться четыре гистограммы."
   ]
  },
  {
   "cell_type": "code",
   "execution_count": 31,
   "metadata": {},
   "outputs": [
    {
     "data": {
      "image/png": "[encoded data removed]",
      "text/plain": [
       "<Figure size 1152x648 with 4 Axes>"
      ]
     },
     "metadata": {
      "needs_background": "light"
     },
     "output_type": "display_data"
    }
   ],
   "source": [
    "# figsize = (16, 9): размер в дюймах\n",
    "# если изображение больше, подписи соседних графиков внутри\n",
    "# не накладываются друг на друга\n",
    "\n",
    "df.hist(\"salary\", \n",
    "        by = [\"discipline\", \"sex\"], \n",
    "        color = \"limegreen\", \n",
    "        edgecolor = \"white\",\n",
    "        figsize = (16, 9));"
   ]
  },
  {
   "cell_type": "markdown",
   "metadata": {},
   "source": [
    "### Задание 3\n",
    "\n",
    "Постройте ящики с усами для опыта работы с группировкой по должности.\n",
    "\n",
    "*Подсказка:* метод `.boxplot()`, применяется ко всему датафрейму, внутри указываем название столбца и основание группировки в аргументе `by`."
   ]
  },
  {
   "cell_type": "code",
   "execution_count": 32,
   "metadata": {},
   "outputs": [
    {
     "data": {
      "image/png": "[encoded data removed]",
      "text/plain": [
       "<Figure size 1152x648 with 1 Axes>"
      ]
     },
     "metadata": {
      "needs_background": "light"
     },
     "output_type": "display_data"
    }
   ],
   "source": [
    "# по должности\n",
    "\n",
    "df.boxplot(\"salary\", by = \"rank\", figsize = (16, 9));"
   ]
  },
  {
   "cell_type": "code",
   "execution_count": 33,
   "metadata": {},
   "outputs": [
    {
     "data": {
      "image/png": "[encoded data removed]",
      "text/plain": [
       "<Figure size 1152x648 with 1 Axes>"
      ]
     },
     "metadata": {
      "needs_background": "light"
     },
     "output_type": "display_data"
    }
   ],
   "source": [
    "# к предыдущему сюжету, группировка по \n",
    "# дисциплине и полу\n",
    "\n",
    "df.boxplot(\"salary\", \n",
    "           by = [\"discipline\", \"sex\"],\n",
    "           figsize = (16, 9));"
   ]
  }
 ],
 "metadata": {
  "kernelspec": {
   "display_name": "Python 3",
   "language": "python",
   "name": "python3"
  },
  "language_info": {
   "codemirror_mode": {
    "name": "ipython",
    "version": 3
   },
   "file_extension": ".py",
   "mimetype": "text/x-python",
   "name": "python",
   "nbconvert_exporter": "python",
   "pygments_lexer": "ipython3",
   "version": "3.7.4"
  }
 },
 "nbformat": 4,
 "nbformat_minor": 2
}
