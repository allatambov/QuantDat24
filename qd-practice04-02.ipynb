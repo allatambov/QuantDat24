{
 "cells": [
  {
   "cell_type": "markdown",
   "metadata": {},
   "source": [
    "# Основы работы с количественными данными\n",
    "\n",
    "*Алла Тамбовцева*\n",
    "\n",
    "## Практикум 4.2. Обработка и визуализация качественных данных"
   ]
  },
  {
   "cell_type": "markdown",
   "metadata": {},
   "source": [
    "В файле `NPK_24_last.xlsx` сохранены результаты опроса студентов Вышки, в ходе которого респондентам предлагалось выбрать наиболее интересных героев сказки «Не покидай...» на основе следующей информации:\n",
    "\n",
    "* по предложенному текстовому описанию (как в пьесах, без подробностей, намекающих на развитие сюжета);\n",
    "* по предложенным кадрам из фильма (актёры в образе героев в разных ситуациях).\n",
    "\n",
    "По итогам опроса фиксировалось следующее: выбор героев по текстовому описанию (не более двух героев), итоговый выбор героев после ознакомления с кадрами из фильма (не более двух героев), лайки/дизлайки представленным образам героев. Ознакомиться с опросником, чтобы быть более погружённым в контекст задания, можно по [ссылке](https://forms.gle/pdsfRoRK6suGYASdA). \n",
    "\n",
    "* лист `описание`: выбор героев по текстовому описанию;\n",
    "* лист `лайки`: лайки/дизлайки, поставленные на основе кадров;\n",
    "* лист `итоговый выбор`: итоговый выбор героев.\n",
    "\n",
    "Таблицы на всех листах обладают одинаковой структурой, в первых столбцах зафиксирован профиль обучения респондентов, уровень обучения, пол. В столбцах с именами основных героев сохранены бинарные индикаторы, отражающие факт выбора героя на разных этапах опроса:\n",
    "\n",
    "* в таблицах `описание` и `итоговый выбор` значение 1 означает, что респондент проголосовал за героя, то есть выбрал его как интересного (можно было выбрать не более двух);\n",
    "\n",
    "* в таблице `лайки` значение 1 соответствует лайку, значение 0 – дизлайку."
   ]
  },
  {
   "cell_type": "markdown",
   "metadata": {},
   "source": [
    "Импортируем библиотеку `pandas` для загрузки и обработки данных в табличном виде, а также модуль `pyplot` для отрисовки графиков:"
   ]
  },
  {
   "cell_type": "code",
   "execution_count": null,
   "metadata": {},
   "outputs": [],
   "source": [
    "import pandas as pd\n",
    "from matplotlib import pyplot as plt"
   ]
  },
  {
   "cell_type": "markdown",
   "metadata": {},
   "source": [
    "## Часть 1: изучаем участников опроса"
   ]
  },
  {
   "cell_type": "markdown",
   "metadata": {},
   "source": [
    "Загрузим данные из файла `NPK_24_last.xlsx` с помощью функции `read_excel()`. Эта функция считывает только один лист из файла Excel, и если мы не указываем иное, считывается первый лист. На этом листе сохранены ответы на первую часть опроса, где героев выбирали только по текстовому описанию, поэтому давайте считаем их в датафрейм `df_text`:"
   ]
  },
  {
   "cell_type": "code",
   "execution_count": null,
   "metadata": {},
   "outputs": [],
   "source": [
    "df_text = pd.read_excel(\"NPK_24_last.xlsx\")"
   ]
  },
  {
   "cell_type": "markdown",
   "metadata": {},
   "source": [
    "Выведем описательные статистики для всех текстовых столбцов в датафрейме:"
   ]
  },
  {
   "cell_type": "code",
   "execution_count": null,
   "metadata": {},
   "outputs": [],
   "source": [
    "df_text.describe(include = \"object\")"
   ]
  },
  {
   "cell_type": "markdown",
   "metadata": {},
   "source": [
    "### Задача 1\n",
    "\n",
    "Выведите уникальные значения и соответствующие им частоты для столбца `профиль`. Сохраните полученный результат в переменную `tab`. \n",
    "\n",
    "Сохраните уникальные значения профиля обучения в переменную `values`, а соответствующие им частоты – в переменную `counts` (этот код уже написан)."
   ]
  },
  {
   "cell_type": "code",
   "execution_count": null,
   "metadata": {},
   "outputs": [],
   "source": [
    "### YOUR CODE HERE ###\n",
    "\n",
    "values = tab.index\n",
    "counts = tab.values"
   ]
  },
  {
   "cell_type": "markdown",
   "metadata": {},
   "source": [
    "### Задача 2\n",
    "\n",
    "Используя данные из `values` и `counts`, постройте столбиковую диаграмму, отображающую количество студентов каждого профиля среди участников опроса.\n",
    "\n",
    "*Подсказка:* примените метод `.bar()` к осям графика, внутри метода на первом месте укажите названия профилей, а на втором – соответствующие им частоты; список `my_colors` можно добавить в аргумент `color`, если хотите присвоить разным столбцам разный цвет заливки."
   ]
  },
  {
   "cell_type": "code",
   "execution_count": null,
   "metadata": {},
   "outputs": [],
   "source": [
    "my_colors = [\"#355070\", \"#6d597a\", \"#b56576\", \n",
    "             \"#e56b6f\", \"#eaac8b\"]\n",
    "\n",
    "fig, ax = plt.subplots(figsize = (16, 9))\n",
    "\n",
    "### YOUR CODE HERE ###"
   ]
  },
  {
   "cell_type": "markdown",
   "metadata": {},
   "source": [
    "### Задача 3\n",
    "\n",
    "Используя данные из `values` и `counts`, постройте круговую диаграмму, отображающую количество студентов каждого профиля среди участников опроса. Убедитесь, что круговая диаграмма выглядит не очень эстетично.\n",
    "\n",
    "*Подсказка:* примените метод `.pie()` к осям графика, внутри метода в аргументе `labels` укажите названия профилей, в аргументе `x` – соответствующие им частоты; список `my_colors` можно добавить в аргумент `colors`, если хотите изменить цвета секторов, присвоенные по умолчанию."
   ]
  },
  {
   "cell_type": "code",
   "execution_count": null,
   "metadata": {},
   "outputs": [],
   "source": [
    "fig, ax = plt.subplots(figsize = (16, 9))\n",
    "\n",
    "### YOUR CODE HERE ###"
   ]
  },
  {
   "cell_type": "markdown",
   "metadata": {},
   "source": [
    "Построим вместе кольцевую диаграмму!"
   ]
  },
  {
   "cell_type": "code",
   "execution_count": null,
   "metadata": {},
   "outputs": [],
   "source": [
    "fig, ax = plt.subplots(figsize = (16, 9), dpi = 300)\n",
    "\n",
    "# немного магии – очерчиваем белый круг\n",
    "# радиуса 0.6 с центром в (0, 0)\n",
    "# fc = face color, цвет заливки\n",
    "\n",
    "centre_circle = plt.Circle((0, 0), 0.6, fc = 'white')\n",
    "\n",
    "# сохраняем текущий график – тот, что ниже через pie()\n",
    "# gcf = get current figure\n",
    "\n",
    "fig = plt.gcf()\n",
    "\n",
    "# изменяем расстояние до подписей с процентами от центра на 0.8\n",
    "# pctdistance = 0.8\n",
    "\n",
    "ax.pie(counts,\n",
    "        colors = my_colors,\n",
    "        labels = values,\n",
    "        autopct = '%i%%',\n",
    "        pctdistance = 0.8)\n",
    "\n",
    "# в оси уже существующего графика добавляем круг\n",
    "# gca = get current axes\n",
    "\n",
    "fig.gca().add_artist(centre_circle);"
   ]
  },
  {
   "cell_type": "markdown",
   "metadata": {},
   "source": [
    "## Часть 2*: изучаем ответы"
   ]
  },
  {
   "cell_type": "markdown",
   "metadata": {},
   "source": [
    "Выберем бинарные столбцы с выбором героев (со столбца `Теодор` по столбец `Марселла` включительно):"
   ]
  },
  {
   "cell_type": "code",
   "execution_count": null,
   "metadata": {},
   "outputs": [],
   "source": [
    "df_text.loc[:, \"Теодор\" : \"Марселла\"]"
   ]
  },
  {
   "cell_type": "markdown",
   "metadata": {},
   "source": [
    "Посчитаем по каждому из них сумму:"
   ]
  },
  {
   "cell_type": "code",
   "execution_count": null,
   "metadata": {},
   "outputs": [],
   "source": [
    "df_text.loc[:, \"Теодор\" : \"Марселла\"].sum()"
   ]
  },
  {
   "cell_type": "markdown",
   "metadata": {},
   "source": [
    "Отсортируем результаты по возрастанию:"
   ]
  },
  {
   "cell_type": "code",
   "execution_count": null,
   "metadata": {},
   "outputs": [],
   "source": [
    "df_text.loc[:, \"Теодор\" : \"Марселла\"].sum().sort_values()"
   ]
  },
  {
   "cell_type": "markdown",
   "metadata": {},
   "source": [
    "А теперь – по убыванию:"
   ]
  },
  {
   "cell_type": "code",
   "execution_count": null,
   "metadata": {},
   "outputs": [],
   "source": [
    "df_text.loc[:, \"Теодор\" : \"Марселла\"].sum().sort_values(reverse = True)"
   ]
  },
  {
   "cell_type": "markdown",
   "metadata": {},
   "source": [
    "Раз есть метод `.sort_values()`, который выполняет сортировку по значениям (то есть по частотам для каждой категории), есть и метод `.sort_index()`, который выполняет сортировку по их индексам (то есть по названияи категорий):"
   ]
  },
  {
   "cell_type": "code",
   "execution_count": null,
   "metadata": {},
   "outputs": [],
   "source": [
    "df_text.loc[:, \"Теодор\" : \"Марселла\"].sum().sort_index()"
   ]
  },
  {
   "cell_type": "markdown",
   "metadata": {},
   "source": [
    "Зачем нам здесь сортировка героев по алфавиту? Если мы захотим сравнить количество «голосов», отданных за каждого героя на разных этапах опроса, нам будет важно, чтобы одни и те же герои в таблице частот стояли на одних и тех же местах, сортировка по полулярности здесь не подойдёт. Сохраним результат выше в таблицу `tab_text`:"
   ]
  },
  {
   "cell_type": "code",
   "execution_count": null,
   "metadata": {},
   "outputs": [],
   "source": [
    "tab_text = df_text.loc[:, \"Теодор\" : \"Марселла\"].sum().sort_index()"
   ]
  },
  {
   "cell_type": "markdown",
   "metadata": {},
   "source": [
    "Чтобы сравнения результатов разных этапов опроса стали возможными, сохраним данные с двух оставшихся листов файла Excel. Для этого в функцию `read_excel()` добавим аргумент `sheet_name` с индексом или названием листа (не забывайте, что нумерация в Python с нуля):"
   ]
  },
  {
   "cell_type": "code",
   "execution_count": null,
   "metadata": {},
   "outputs": [],
   "source": [
    "# лайки/дизлайки по кадрам\n",
    "df_image = pd.read_excel(\"NPK_24_last.xlsx\", sheet_name = 1)\n",
    "\n",
    "# итоговый выбор героя\n",
    "df_fin = pd.read_excel(\"NPK_24_last.xlsx\", sheet_name = 2)"
   ]
  },
  {
   "cell_type": "markdown",
   "metadata": {},
   "source": [
    "Создадим таблицы с частотами по аналогии с `tab_text`:"
   ]
  },
  {
   "cell_type": "code",
   "execution_count": null,
   "metadata": {},
   "outputs": [],
   "source": [
    "tab_image = df_image.loc[:, \"Теодор\" : \"Марселла\"].sum().sort_index()\n",
    "tab_image"
   ]
  },
  {
   "cell_type": "code",
   "execution_count": null,
   "metadata": {},
   "outputs": [],
   "source": [
    "tab_fin = df_fin.loc[:, \"Теодор\" : \"Марселла\"].sum().sort_index()\n",
    "tab_fin"
   ]
  },
  {
   "cell_type": "markdown",
   "metadata": {},
   "source": [
    "Теперь мы сможем вычислять разницы между частотами внутри `tab_text`, `tab_image` и `tab_fin` и изучать, как увеличивалось или уменьшалось число голосов за героев на разных этапах опроса!"
   ]
  },
  {
   "cell_type": "code",
   "execution_count": null,
   "metadata": {},
   "outputs": [],
   "source": [
    "# давайте подумаем, что здесь означают \n",
    "# отрицательные и положительные значения\n",
    "\n",
    "tab_fin - tab_text"
   ]
  },
  {
   "cell_type": "markdown",
   "metadata": {},
   "source": [
    "Если мы захотим изучить, какие герои были наиболее популярны у студентов разного пола или профиля, удобнее будет сохранить все названия столбцов с именами героев в отдельный список `heroes`:"
   ]
  },
  {
   "cell_type": "code",
   "execution_count": null,
   "metadata": {},
   "outputs": [],
   "source": [
    "heroes = ['Альбина', 'Давиль', 'Жак', 'Марселла', 'Марта', \n",
    "          'Оттилия', 'Патрик','Пенапью', 'Теодор', 'Флора']"
   ]
  },
  {
   "cell_type": "markdown",
   "metadata": {},
   "source": [
    "Теперь мы сможем выполнить группировку через знакомый нам метод `.groupby()`, только вместо одного столбца, который мы хотим описать, укажем набор столбцов из `heroes`. Так как на все описательные статистики смотреть тут не имеет смысла, мы просто применим метод `.sum()`, который посчитает сумму единиц, то есть число голосов за каждого героя."
   ]
  },
  {
   "cell_type": "code",
   "execution_count": null,
   "metadata": {},
   "outputs": [],
   "source": [
    "df_text.groupby(\"пол\")[heroes].sum()"
   ]
  },
  {
   "cell_type": "code",
   "execution_count": null,
   "metadata": {},
   "outputs": [],
   "source": [
    "df_text.groupby(\"профиль\")[heroes].sum()"
   ]
  }
 ],
 "metadata": {
  "kernelspec": {
   "display_name": "Python 3",
   "language": "python",
   "name": "python3"
  },
  "language_info": {
   "codemirror_mode": {
    "name": "ipython",
    "version": 3
   },
   "file_extension": ".py",
   "mimetype": "text/x-python",
   "name": "python",
   "nbconvert_exporter": "python",
   "pygments_lexer": "ipython3",
   "version": "3.7.4"
  }
 },
 "nbformat": 4,
 "nbformat_minor": 2
}
